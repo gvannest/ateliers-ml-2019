{
 "cells": [
  {
   "cell_type": "markdown",
   "metadata": {},
   "source": [
    "# Week 7- Naive Bayes for Spam Classification\n",
    "\n",
    "\n",
    "Naive bayes is a relatively simple probabilistic classfication algorithm that is well suitable for categorical data .\n",
    "\n",
    "In machine learning, common application of Naive Bayes are spam email classification, sentiment analysis, document categorization. Naive bayes is advantageous over other commonly used classification algorithms in its simplicity, speed, and its accuracy on small data sets."
   ]
  },
  {
   "cell_type": "markdown",
   "metadata": {},
   "source": [
    "## Data Description\n",
    "\n",
    "We will be using a data from the UCI machine learning repository that countains several Youtube comments from very popular music videos. Each comment in the data has been labeled as either spam or ham (legitimate comment), we will use this data to train our Naive Bayes algorithm for youtube comment spam classification. "
   ]
  },
  {
   "cell_type": "code",
   "execution_count": 1,
   "metadata": {},
   "outputs": [],
   "source": [
    "# Import modules\n",
    "\n",
    "# For data manipulation\n",
    "import pandas as pd\n",
    "\n",
    "# For matrix operations\n",
    "import numpy as np\n",
    "\n",
    "# For regex\n",
    "import re"
   ]
  },
  {
   "cell_type": "code",
   "execution_count": 2,
   "metadata": {
    "scrolled": true
   },
   "outputs": [
    {
     "data": {
      "text/html": [
       "<div>\n",
       "<style scoped>\n",
       "    .dataframe tbody tr th:only-of-type {\n",
       "        vertical-align: middle;\n",
       "    }\n",
       "\n",
       "    .dataframe tbody tr th {\n",
       "        vertical-align: top;\n",
       "    }\n",
       "\n",
       "    .dataframe thead th {\n",
       "        text-align: right;\n",
       "    }\n",
       "</style>\n",
       "<table border=\"1\" class=\"dataframe\">\n",
       "  <thead>\n",
       "    <tr style=\"text-align: right;\">\n",
       "      <th></th>\n",
       "      <th>content</th>\n",
       "      <th>label</th>\n",
       "    </tr>\n",
       "  </thead>\n",
       "  <tbody>\n",
       "    <tr>\n",
       "      <th>0</th>\n",
       "      <td>+447935454150 lovely girl talk to me xxx</td>\n",
       "      <td>1</td>\n",
       "    </tr>\n",
       "    <tr>\n",
       "      <th>1</th>\n",
       "      <td>I always end up coming back to this song&lt;br /&gt;</td>\n",
       "      <td>0</td>\n",
       "    </tr>\n",
       "    <tr>\n",
       "      <th>2</th>\n",
       "      <td>my sister just received over 6,500 new &lt;a rel=...</td>\n",
       "      <td>1</td>\n",
       "    </tr>\n",
       "    <tr>\n",
       "      <th>3</th>\n",
       "      <td>Cool</td>\n",
       "      <td>0</td>\n",
       "    </tr>\n",
       "    <tr>\n",
       "      <th>4</th>\n",
       "      <td>Hello I am from Palastine</td>\n",
       "      <td>1</td>\n",
       "    </tr>\n",
       "    <tr>\n",
       "      <th>5</th>\n",
       "      <td>Wow this video almost has a billion views! Did...</td>\n",
       "      <td>0</td>\n",
       "    </tr>\n",
       "    <tr>\n",
       "      <th>6</th>\n",
       "      <td>Go check out my rapping video called Four Whee...</td>\n",
       "      <td>1</td>\n",
       "    </tr>\n",
       "    <tr>\n",
       "      <th>7</th>\n",
       "      <td>Almost 1 billion</td>\n",
       "      <td>0</td>\n",
       "    </tr>\n",
       "    <tr>\n",
       "      <th>8</th>\n",
       "      <td>Aslamu Lykum... From Pakistan</td>\n",
       "      <td>1</td>\n",
       "    </tr>\n",
       "    <tr>\n",
       "      <th>9</th>\n",
       "      <td>Eminem is idol for very people in EspaÃ±a and ...</td>\n",
       "      <td>0</td>\n",
       "    </tr>\n",
       "  </tbody>\n",
       "</table>\n",
       "</div>"
      ],
      "text/plain": [
       "                                             content  label\n",
       "0           +447935454150 lovely girl talk to me xxx      1\n",
       "1     I always end up coming back to this song<br />      0\n",
       "2  my sister just received over 6,500 new <a rel=...      1\n",
       "3                                               Cool      0\n",
       "4                          Hello I am from Palastine      1\n",
       "5  Wow this video almost has a billion views! Did...      0\n",
       "6  Go check out my rapping video called Four Whee...      1\n",
       "7                                   Almost 1 billion      0\n",
       "8                      Aslamu Lykum... From Pakistan      1\n",
       "9  Eminem is idol for very people in EspaÃ±a and ...      0"
      ]
     },
     "execution_count": 2,
     "metadata": {},
     "output_type": "execute_result"
    }
   ],
   "source": [
    "# Load data from the 'YoutubeCommentsSpam.csv' file using pandas\n",
    "data_comments = pd.read_csv(\"YoutubeCommentsSpam.csv\")\n",
    "\n",
    "# Create column labels: 'content' and 'label'. \n",
    "# tips: the 'colums' method can be of help \n",
    "data_comments.columns = [\"content\", \"label\"]\n",
    "\n",
    "# display the first rows of our dataset to make sure that the labels have been added\n",
    "data_comments.head(10)"
   ]
  },
  {
   "cell_type": "markdown",
   "metadata": {},
   "source": [
    "$\\textbf{WARNING: DO NOT check the links in the spam comments! ;)}$"
   ]
  },
  {
   "cell_type": "code",
   "execution_count": 3,
   "metadata": {},
   "outputs": [
    {
     "name": "stdout",
     "output_type": "stream",
     "text": [
      "0                +447935454150 lovely girl talk to me xxx\n",
      "2       my sister just received over 6,500 new <a rel=...\n",
      "4                               Hello I am from Palastine\n",
      "6       Go check out my rapping video called Four Whee...\n",
      "8                           Aslamu Lykum... From Pakistan\n",
      "10                            Help me get 50 subs please \n",
      "12      Alright ladies, if you like this song, then ch...\n",
      "15      <a href=\"https://www.facebook.com/groups/10087...\n",
      "16                  Take a look at this video on YouTube:\n",
      "17                 Check out our Channel for nice Beats!!\n",
      "19                    Check out this playlist on YouTube:\n",
      "21                                            like please\n",
      "24      I shared my first song &quot;I Want You&quot;,...\n",
      "25      Come and check out my music!Im spamming on loa...\n",
      "26                    Check out this playlist on YouTube:\n",
      "27      HUH HYUCK HYUCK IM SPECIAL WHO S WATCHING THIS...\n",
      "30      Check out this video on YouTube:<br /><br />Lo...\n",
      "33                    Check out this playlist on YouTube:\n",
      "34                       Check out this video on YouTube:\n",
      "35                       Check out this video on YouTube:\n",
      "38      Check out this playlist on YouTube:chcfcvzfzfb...\n",
      "39                   Check out this playlist on YouTube: \n",
      "40      Im gonna share a little ryhme canibus blows em...\n",
      "41                       Check out this video on YouTube:\n",
      "42      Check out this video on YouTube<br /><br /><br />\n",
      "43        CHECK OUT THE NEW REMIX !!!<br />CLICK CLICK !!\n",
      "44                    Check out this playlist on YouTube:\n",
      "45      I personally have never been in a abusive rela...\n",
      "48                                  plese subscribe to me\n",
      "49                       Check out this video on YouTube:\n",
      "                              ...                        \n",
      "1915             CHECK OUT partyman318 FR GOOD TUNEZ!! :D\n",
      "1916    Hey youtubers... I really appreciate all of yo...\n",
      "1917    Hey Music Fans I really appreciate any of you ...\n",
      "1918    Hey Music Fans I really appreciate any of you ...\n",
      "1919    Hey Music Fans I really appreciate any of you ...\n",
      "1920                   Hi. Check out and share our songs.\n",
      "1921                   Hi. Check out and share our songs.\n",
      "1922                    Hi.Check out and share our songs.\n",
      "1923    Hey Music Fans I really appreciate any of you ...\n",
      "1924    Hey, I am doing the Forty Hour famine so I ll ...\n",
      "1925             Love itt and ppl check out my channel!!!\n",
      "1926                                 SUBSCRIBE MY CHANNEL\n",
      "1927                                       adf.ly / KlD3Y\n",
      "1928                                       adf.ly / KlD3Y\n",
      "1929                               check out my new video\n",
      "1930    Hey Music Fans I really appreciate all of you ...\n",
      "1931    Hello everyone, It Is not my intention to spam...\n",
      "1932    ******* Facebook is LAME and so 2004! Check ou...\n",
      "1933    Please check out and send to others Freedom an...\n",
      "1934    Nice to meet You - this is Johnny: 1. If You a...\n",
      "1935     hey you ! check out the channel of Alvar Lake !!\n",
      "1936    Hi -this is Johnny: 1. If You already know my ...\n",
      "1940    Check out this video on YouTube:<br />&quot;Th...\n",
      "1942    O peoples of the earth, I have seen how you pe...\n",
      "1945    I WILL NEVER FORGET THIS SONG IN MY LIFE LIKE ...\n",
      "1946    ********OMG Facebook is OLD! Check out  ------...\n",
      "1947    Hey Music Fans I really appreciate all of you ...\n",
      "1948    **CHECK OUT MY NEW MIXTAPE**** **CHECK OUT MY ...\n",
      "1949    **CHECK OUT MY NEW MIXTAPE**** **CHECK OUT MY ...\n",
      "1950    **CHECK OUT MY NEW MIXTAPE**** **CHECK OUT MY ...\n",
      "Name: content, Length: 1004, dtype: object\n"
     ]
    }
   ],
   "source": [
    "# Show spam comments in data\n",
    "# DO NOT GO ON THE LINKS BELOW!!! seriously, they're spams... \n",
    "print(data_comments.content[data_comments.label == 1])"
   ]
  },
  {
   "cell_type": "markdown",
   "metadata": {},
   "source": [
    "Browsing over the comments that have been labeled as spam in this data, it seems like these comments are either unrelated to the video, or are some form of advertisement. The phrase \"check out\" seems to be very popular in this comments."
   ]
  },
  {
   "cell_type": "markdown",
   "metadata": {},
   "source": [
    "## Summary Statistics and Data Cleaning\n",
    "\n",
    "The table below shows that this data set consist of $1959$ youtube comments, about $49\\%$ of them are legitimate comments and about $51\\%$ are spam. This high variation of classes in our data set will help us test our algorithms accuracy on the test data set. The average length of each comment is about $96$ characters, which is roughly about $15$ words on average per comment. "
   ]
  },
  {
   "cell_type": "code",
   "execution_count": 4,
   "metadata": {},
   "outputs": [
    {
     "data": {
      "text/html": [
       "<div>\n",
       "<style scoped>\n",
       "    .dataframe tbody tr th:only-of-type {\n",
       "        vertical-align: middle;\n",
       "    }\n",
       "\n",
       "    .dataframe tbody tr th {\n",
       "        vertical-align: top;\n",
       "    }\n",
       "\n",
       "    .dataframe thead th {\n",
       "        text-align: right;\n",
       "    }\n",
       "</style>\n",
       "<table border=\"1\" class=\"dataframe\">\n",
       "  <thead>\n",
       "    <tr style=\"text-align: right;\">\n",
       "      <th></th>\n",
       "      <th>label</th>\n",
       "      <th>length</th>\n",
       "    </tr>\n",
       "  </thead>\n",
       "  <tbody>\n",
       "    <tr>\n",
       "      <th>count</th>\n",
       "      <td>1959.000000</td>\n",
       "      <td>1959.000000</td>\n",
       "    </tr>\n",
       "    <tr>\n",
       "      <th>mean</th>\n",
       "      <td>0.512506</td>\n",
       "      <td>94.340480</td>\n",
       "    </tr>\n",
       "    <tr>\n",
       "      <th>std</th>\n",
       "      <td>0.499971</td>\n",
       "      <td>128.717314</td>\n",
       "    </tr>\n",
       "    <tr>\n",
       "      <th>min</th>\n",
       "      <td>0.000000</td>\n",
       "      <td>2.000000</td>\n",
       "    </tr>\n",
       "    <tr>\n",
       "      <th>25%</th>\n",
       "      <td>0.000000</td>\n",
       "      <td>28.500000</td>\n",
       "    </tr>\n",
       "    <tr>\n",
       "      <th>50%</th>\n",
       "      <td>1.000000</td>\n",
       "      <td>47.000000</td>\n",
       "    </tr>\n",
       "    <tr>\n",
       "      <th>75%</th>\n",
       "      <td>1.000000</td>\n",
       "      <td>97.500000</td>\n",
       "    </tr>\n",
       "    <tr>\n",
       "      <th>max</th>\n",
       "      <td>1.000000</td>\n",
       "      <td>1199.000000</td>\n",
       "    </tr>\n",
       "  </tbody>\n",
       "</table>\n",
       "</div>"
      ],
      "text/plain": [
       "             label       length\n",
       "count  1959.000000  1959.000000\n",
       "mean      0.512506    94.340480\n",
       "std       0.499971   128.717314\n",
       "min       0.000000     2.000000\n",
       "25%       0.000000    28.500000\n",
       "50%       1.000000    47.000000\n",
       "75%       1.000000    97.500000\n",
       "max       1.000000  1199.000000"
      ]
     },
     "execution_count": 4,
     "metadata": {},
     "output_type": "execute_result"
    }
   ],
   "source": [
    "# Add another column with corresponding comment length\n",
    "# tips: use map and lambda\n",
    "data_comments['length'] = data_comments['content'].apply(lambda x: len(x))\n",
    "\n",
    "# Display summary statistics (mean, stdev, min, max)\n",
    "data_comments.describe()"
   ]
  },
  {
   "cell_type": "markdown",
   "metadata": {},
   "source": [
    "For the purposes of evaluation our Naive Bayes classification algorithm, we will split the data into a training and test set. The training set will be used to train the spam classification algorithm, and the test set will only be used to test its accuracy. In general the training set should be bigger than the test set and both have should be drawn from the same population (population in our case is youtube comments for music videos). We will randomly select $75\\%$ of the data as training, and $25\\%$ of the data for testing. "
   ]
  },
  {
   "cell_type": "code",
   "execution_count": 5,
   "metadata": {
    "scrolled": false
   },
   "outputs": [],
   "source": [
    "# Let's split data into training and test set (75% training, 25% test)\n",
    "\n",
    "# Set seed so we get same random allocation on each run of code\n",
    "np.random.seed(2019)\n",
    "\n",
    "# Add column vector 'uniform' of randomly generated numbers from 0 to 1 \n",
    "# tips: in numpy there is a method to draw sample from a uniform distribution\n",
    "data_comments[\"uniform\"] = np.random.uniform(0,1,data_comments.shape[0])\n",
    "\n",
    "# As the number in our 'uniform' column is uniformly distributed, \n",
    "# about 75% of these should be less than 0.75, let's grab those 75%\n",
    "data_comments_train = data_comments[data_comments[\"uniform\"] <= 0.75]\n",
    "\n",
    "# same for the 25% of these remaining numbers that should be greater than 0.75\n",
    "data_comments_test = data_comments[data_comments[\"uniform\"] > 0.75]\n"
   ]
  },
  {
   "cell_type": "code",
   "execution_count": 6,
   "metadata": {},
   "outputs": [
    {
     "data": {
      "text/html": [
       "<div>\n",
       "<style scoped>\n",
       "    .dataframe tbody tr th:only-of-type {\n",
       "        vertical-align: middle;\n",
       "    }\n",
       "\n",
       "    .dataframe tbody tr th {\n",
       "        vertical-align: top;\n",
       "    }\n",
       "\n",
       "    .dataframe thead th {\n",
       "        text-align: right;\n",
       "    }\n",
       "</style>\n",
       "<table border=\"1\" class=\"dataframe\">\n",
       "  <thead>\n",
       "    <tr style=\"text-align: right;\">\n",
       "      <th></th>\n",
       "      <th>content</th>\n",
       "      <th>label</th>\n",
       "      <th>length</th>\n",
       "      <th>uniform</th>\n",
       "    </tr>\n",
       "  </thead>\n",
       "  <tbody>\n",
       "    <tr>\n",
       "      <th>0</th>\n",
       "      <td>+447935454150 lovely girl talk to me xxx</td>\n",
       "      <td>1</td>\n",
       "      <td>40</td>\n",
       "      <td>0.903482</td>\n",
       "    </tr>\n",
       "    <tr>\n",
       "      <th>1</th>\n",
       "      <td>I always end up coming back to this song&lt;br /&gt;</td>\n",
       "      <td>0</td>\n",
       "      <td>46</td>\n",
       "      <td>0.393081</td>\n",
       "    </tr>\n",
       "    <tr>\n",
       "      <th>2</th>\n",
       "      <td>my sister just received over 6,500 new &lt;a rel=...</td>\n",
       "      <td>1</td>\n",
       "      <td>200</td>\n",
       "      <td>0.623970</td>\n",
       "    </tr>\n",
       "    <tr>\n",
       "      <th>3</th>\n",
       "      <td>Cool</td>\n",
       "      <td>0</td>\n",
       "      <td>4</td>\n",
       "      <td>0.637877</td>\n",
       "    </tr>\n",
       "    <tr>\n",
       "      <th>4</th>\n",
       "      <td>Hello I am from Palastine</td>\n",
       "      <td>1</td>\n",
       "      <td>25</td>\n",
       "      <td>0.880499</td>\n",
       "    </tr>\n",
       "    <tr>\n",
       "      <th>5</th>\n",
       "      <td>Wow this video almost has a billion views! Did...</td>\n",
       "      <td>0</td>\n",
       "      <td>73</td>\n",
       "      <td>0.299172</td>\n",
       "    </tr>\n",
       "    <tr>\n",
       "      <th>6</th>\n",
       "      <td>Go check out my rapping video called Four Whee...</td>\n",
       "      <td>1</td>\n",
       "      <td>58</td>\n",
       "      <td>0.702198</td>\n",
       "    </tr>\n",
       "    <tr>\n",
       "      <th>7</th>\n",
       "      <td>Almost 1 billion</td>\n",
       "      <td>0</td>\n",
       "      <td>16</td>\n",
       "      <td>0.903206</td>\n",
       "    </tr>\n",
       "    <tr>\n",
       "      <th>8</th>\n",
       "      <td>Aslamu Lykum... From Pakistan</td>\n",
       "      <td>1</td>\n",
       "      <td>29</td>\n",
       "      <td>0.881382</td>\n",
       "    </tr>\n",
       "    <tr>\n",
       "      <th>9</th>\n",
       "      <td>Eminem is idol for very people in EspaÃ±a and ...</td>\n",
       "      <td>0</td>\n",
       "      <td>69</td>\n",
       "      <td>0.405750</td>\n",
       "    </tr>\n",
       "  </tbody>\n",
       "</table>\n",
       "</div>"
      ],
      "text/plain": [
       "                                             content  label  length   uniform\n",
       "0           +447935454150 lovely girl talk to me xxx      1      40  0.903482\n",
       "1     I always end up coming back to this song<br />      0      46  0.393081\n",
       "2  my sister just received over 6,500 new <a rel=...      1     200  0.623970\n",
       "3                                               Cool      0       4  0.637877\n",
       "4                          Hello I am from Palastine      1      25  0.880499\n",
       "5  Wow this video almost has a billion views! Did...      0      73  0.299172\n",
       "6  Go check out my rapping video called Four Whee...      1      58  0.702198\n",
       "7                                   Almost 1 billion      0      16  0.903206\n",
       "8                      Aslamu Lykum... From Pakistan      1      29  0.881382\n",
       "9  Eminem is idol for very people in EspaÃ±a and ...      0      69  0.405750"
      ]
     },
     "execution_count": 6,
     "metadata": {},
     "output_type": "execute_result"
    }
   ],
   "source": [
    "data_comments.head(10)\n"
   ]
  },
  {
   "cell_type": "code",
   "execution_count": 7,
   "metadata": {},
   "outputs": [
    {
     "data": {
      "text/plain": [
       "count    1467.000000\n",
       "mean        0.507157\n",
       "std         0.500119\n",
       "min         0.000000\n",
       "25%         0.000000\n",
       "50%         1.000000\n",
       "75%         1.000000\n",
       "max         1.000000\n",
       "Name: label, dtype: float64"
      ]
     },
     "execution_count": 7,
     "metadata": {},
     "output_type": "execute_result"
    }
   ],
   "source": [
    "# Check that the training data has both spam and ham comments\n",
    "data_comments_train.label.describe()"
   ]
  },
  {
   "cell_type": "code",
   "execution_count": 8,
   "metadata": {},
   "outputs": [
    {
     "data": {
      "text/plain": [
       "count    492.000000\n",
       "mean       0.528455\n",
       "std        0.499698\n",
       "min        0.000000\n",
       "25%        0.000000\n",
       "50%        1.000000\n",
       "75%        1.000000\n",
       "max        1.000000\n",
       "Name: label, dtype: float64"
      ]
     },
     "execution_count": 8,
     "metadata": {},
     "output_type": "execute_result"
    }
   ],
   "source": [
    "# Same for the test data \n",
    "data_comments_test.label.describe()"
   ]
  },
  {
   "cell_type": "markdown",
   "metadata": {},
   "source": [
    "Both the training and test data have a good mix spam and ham comments, so we are ready to move onto training the Naive Bayes classifier. "
   ]
  },
  {
   "cell_type": "code",
   "execution_count": 9,
   "metadata": {},
   "outputs": [],
   "source": [
    "# Join all the comments into a big list\n",
    "# tips: 'separator'.join(list)\n",
    "training_list_words = ' '.join(data_comments_train.content)\n",
    "\n",
    "# Split the list of comments into a list of unique words\n",
    "# tips: use sorted() and set()\n",
    "train_unique_words = sorted(set(training_list_words.split(' ')))\n",
    "\n",
    "# Number of unique words in training \n",
    "vocab_size_train = len(train_unique_words)"
   ]
  },
  {
   "cell_type": "code",
   "execution_count": 10,
   "metadata": {},
   "outputs": [
    {
     "data": {
      "text/plain": [
       "['',\n",
       " '!',\n",
       " '!!',\n",
       " '!!!',\n",
       " '!!!!',\n",
       " '!!!!!',\n",
       " '!!!!!!',\n",
       " '!!!!!!!!!!!!!!!!!!!!!!!',\n",
       " '!!!!!!!!!!!!!!!!!!!!!!!!!!!!!!!!!!!!!!!!!!',\n",
       " '!!!<br']"
      ]
     },
     "execution_count": 10,
     "metadata": {},
     "output_type": "execute_result"
    }
   ],
   "source": [
    "train_unique_words[:10]"
   ]
  },
  {
   "cell_type": "code",
   "execution_count": 11,
   "metadata": {},
   "outputs": [
    {
     "data": {
      "text/plain": [
       "'I always end up coming back to this song<br /> my '"
      ]
     },
     "execution_count": 11,
     "metadata": {},
     "output_type": "execute_result"
    }
   ],
   "source": [
    "training_list_words[:50]"
   ]
  },
  {
   "cell_type": "code",
   "execution_count": 12,
   "metadata": {},
   "outputs": [
    {
     "name": "stdout",
     "output_type": "stream",
     "text": [
      "Unique words in training data: 5494\n",
      "First 5 words in our unique set of words: \n",
      " ['!', '!!', '!!!', '!!!!', '!!!!!']\n"
     ]
    }
   ],
   "source": [
    "# Description of summarized comments in training data\n",
    "print('Unique words in training data: %s' % vocab_size_train)\n",
    "print('First 5 words in our unique set of words: \\n % s' % list(train_unique_words)[1:6])"
   ]
  },
  {
   "cell_type": "markdown",
   "metadata": {},
   "source": [
    "Output should look like somthing like:\n",
    "\n",
    "```Unique words in training data: 5898\n",
    "First 5 words in our unique set of words: \n",
    "['now!!!!!!', 'yellow', 'four', '/>.Pewdiepie', 'Does']```\n"
   ]
  },
  {
   "cell_type": "markdown",
   "metadata": {},
   "source": [
    "Currently \"now!!\" and \"now!!!!\", as well as \"DOES\",\"DoEs\", and \"does\" are all considered to be unique words. For the purposes of spam classification, its probably better to process the data slightly to increase accuracy. In our case we can focus on letters and numbers, as well as convert all the comments to lower case."
   ]
  },
  {
   "cell_type": "code",
   "execution_count": 13,
   "metadata": {},
   "outputs": [
    {
     "name": "stdout",
     "output_type": "stream",
     "text": [
      "Unique words in processed training data: 3487\n",
      "First 5 words in our processed unique set of words: \n",
      " ['0', '025', '04', '1', '10']\n"
     ]
    }
   ],
   "source": [
    "# Only keep letters and numbers\n",
    "# tips: use regex and list comprehension\n",
    "train_unique_words = [re.sub(r'[^a-z0-9A-Z]+','', x) for x in train_unique_words]\n",
    "\n",
    "# Convert to lower case and get unique set of words\n",
    "# tips: use sorted and set ?\n",
    "train_unique_words = sorted(set([x.lower() for x in train_unique_words]))\n",
    "\n",
    "# Number of unique words in training \n",
    "vocab_size_train = len(train_unique_words)\n",
    "\n",
    "# Description of summarized comments in training data\n",
    "print('Unique words in processed training data: %s' % vocab_size_train)\n",
    "print('First 5 words in our processed unique set of words: \\n % s' % list(train_unique_words)[1:6])"
   ]
  },
  {
   "cell_type": "markdown",
   "metadata": {},
   "source": [
    "## Naive Bayes for Spam Classification\n",
    "\n",
    "ok, so here's the deal:\n",
    "\n",
    "- first we are going to separate our training data into 2 subsets: train and test\n",
    "\n",
    "- then create several functions to check how many time each word apparear in spam and not spam comments, check the probability of each word appearing in spam/not spam\n",
    "\n",
    "- then the 2 most important function: train() and classify()\n",
    "\n",
    "- And finally check the accurracy of our predictions\n",
    "\n",
    "Let's code!"
   ]
  },
  {
   "cell_type": "code",
   "execution_count": 14,
   "metadata": {},
   "outputs": [],
   "source": [
    "# Dictionary with comment words as \"keys\", and their label as \"value\"\n",
    "trainPositive = dict()\n",
    "trainNegative = dict()\n",
    "\n",
    "# Intialize classes to zero\n",
    "positiveTotal = 0\n",
    "negativeTotal = 0\n",
    "\n",
    "# Initialize Prob. of to zero, but float ;) \n",
    "pSpam = 0.0\n",
    "pNotSpam = 0.0\n",
    "\n",
    "# Laplace smoothing\n",
    "alpha = 1.0"
   ]
  },
  {
   "cell_type": "code",
   "execution_count": 15,
   "metadata": {},
   "outputs": [],
   "source": [
    "# Initialize dictionary of words and their labels   \n",
    "for word in train_unique_words:\n",
    "    # skip empty words('' and ' ')\n",
    "    if not word or word is ' ':\n",
    "        continue\n",
    "    # Classify all words for now as ham (legitimate)\n",
    "    trainPositive[word] = 0\n",
    "    trainNegative[word] = 0"
   ]
  },
  {
   "cell_type": "code",
   "execution_count": 16,
   "metadata": {},
   "outputs": [],
   "source": [
    "# Count number of times word in comment appear in spam and ham comments\n",
    "def processComment(comment,label):\n",
    "    global negativeTotal\n",
    "    global positiveTotal\n",
    "    global trainNegative\n",
    "    global trainPositive\n",
    "    \n",
    "    # Split comments into words\n",
    "    comment = comment.split()\n",
    "    comment = [re.sub(r'[^a-z0-9A-Z]+','', x) for x in comment]\n",
    "    \n",
    "    # Go over each word in comment\n",
    "    for word in comment:\n",
    "        word = word.lower()\n",
    "        if word not in trainPositive:\n",
    "            continue\n",
    "        # check if word is empty ('' or ' ') and increment \n",
    "        if not word or word is ' ':\n",
    "            continue\n",
    "        # check if comment is not spam\n",
    "        if not label:      \n",
    "            # Increment number of times word appears in not spam comments: trainNegative and negativeTotal\n",
    "            trainNegative[word] += 1\n",
    "            negativeTotal += 1\n",
    "        else:\n",
    "            trainPositive[word] += 1\n",
    "            positiveTotal += 1\n",
    "        # spam comments\n",
    "        \n",
    "            # Increment number of times word appears in not spam comments: trainPositive and positiveTotal\n",
    "            "
   ]
  },
  {
   "cell_type": "code",
   "execution_count": 17,
   "metadata": {},
   "outputs": [],
   "source": [
    "# Define Prob(word|spam) and Prob(word|ham)\n",
    "def conditionalWord(word,label):\n",
    "   \n",
    "    # Laplace smoothing parameter : we consider that eache word is at least once in spam and one in not spam\n",
    "    # So that the probability is never 0\n",
    "    # remider: to have access to a global variable inside a function \n",
    "    # you have to specify it using the word 'global'\n",
    "    global trainPositive\n",
    "    global trainNegative\n",
    "    \n",
    "    # word in ham comment\n",
    "    if word not in trainPositive.keys():\n",
    "        trainPositive[word] = 0\n",
    "        trainNegative[word] = 0\n",
    "    if(label == 0):\n",
    "        # Compute Prob(word|ham)\n",
    "        return (trainNegative[word] + alpha) / float(negativeTotal + alpha * vocab_size_train)\n",
    "           \n",
    "    # word in spam comment\n",
    "    else:\n",
    "        # Compute Prob(word|ham)\n",
    "        return (trainPositive[word] + alpha) / float(positiveTotal + alpha * vocab_size_train)"
   ]
  },
  {
   "cell_type": "code",
   "execution_count": 18,
   "metadata": {},
   "outputs": [],
   "source": [
    "# Define Prob(comment|spam) or Prob(comment|ham)\n",
    "def conditionalComment(comment,label):\n",
    "    \n",
    "    # Initialize conditional probability\n",
    "    prob_label_comment = 1.0\n",
    "    \n",
    "    # Split comments into list of words\n",
    "    comment = comment.split(' ')\n",
    "    comment = [re.sub(r'[^a-z0-9A-Z]+','', x) for x in comment]\n",
    "    \n",
    "    # Go through all words in comments\n",
    "    for word in comment:\n",
    "        word = word.lower()\n",
    "        # Conditional indepdence is assumed here\n",
    "        prob_label_comment *= conditionalWord(word,label)\n",
    "    \n",
    "    return prob_label_comment"
   ]
  },
  {
   "cell_type": "code",
   "execution_count": 19,
   "metadata": {},
   "outputs": [],
   "source": [
    "# Train naive bayes by computing several conditional probabilities in training data\n",
    "def train():\n",
    "    # reminder: we will need pSpam and pNotSpam here ;) \n",
    "    global pSpam\n",
    "    global pNotSpam\n",
    "\n",
    "    # Initiailize our variables: the total number of comments and the number of spam comments \n",
    "    total = 0\n",
    "    num_spam = 0\n",
    "    \n",
    "    # Go over each comment in training data \n",
    "    print('Starting training...')\n",
    "    for idx in range(data_comments_train.shape[0]):\n",
    "       # check if comment is spam or not\n",
    "        if data_comments_train.iloc[idx].label == 1:\n",
    "            num_spam += 1\n",
    "        total += 1\n",
    "       # increment the values depending if comment is spam or not\n",
    "        processComment(data_comments_train.iloc[idx].content,data_comments_train.iloc[idx].label)\n",
    "        \n",
    "       # update dictionary of spam and not spam comments\n",
    "    \n",
    "    \n",
    "    \n",
    "    # Compute prior probabilities, P(spam), P(ham)\n",
    "    pSpam = num_spam / total\n",
    "    pNotSpam = 1 - pSpam\n",
    "    print('Training done')\n"
   ]
  },
  {
   "cell_type": "code",
   "execution_count": 20,
   "metadata": {},
   "outputs": [
    {
     "name": "stdout",
     "output_type": "stream",
     "text": [
      "Starting training...\n",
      "Training done\n"
     ]
    }
   ],
   "source": [
    "# Run naive bayes\n",
    "train()"
   ]
  },
  {
   "cell_type": "code",
   "execution_count": 21,
   "metadata": {},
   "outputs": [
    {
     "data": {
      "text/plain": [
       "0.49284253578732107"
      ]
     },
     "execution_count": 21,
     "metadata": {},
     "output_type": "execute_result"
    }
   ],
   "source": [
    "pNotSpam"
   ]
  },
  {
   "cell_type": "code",
   "execution_count": 32,
   "metadata": {},
   "outputs": [],
   "source": [
    "# Classify comment as spam or ham\n",
    "def classify(comment):\n",
    "    \n",
    "    # get global variables\n",
    "    \n",
    "    \n",
    "    # Compute value proportional to Pr(ham|comment)\n",
    "    isNegative = conditionalComment(comment, 0) * pNotSpam\n",
    "    \n",
    "    # Compute value proportional to Pr(spam|comment)\n",
    "    isPositive = conditionalComment(comment, 1) * pSpam\n",
    "    \n",
    "    # Output True = spam, False = ham depending on the 2 previously computed variables\n",
    "    return (isPositive > isNegative)"
   ]
  },
  {
   "cell_type": "code",
   "execution_count": 33,
   "metadata": {},
   "outputs": [
    {
     "name": "stdout",
     "output_type": "stream",
     "text": [
      "427\n",
      "Proportion of comments classified correctly on test set: 0.8678861788617886\n"
     ]
    },
    {
     "name": "stderr",
     "output_type": "stream",
     "text": [
      "/Users/macbookair/ENVS/data_science/lib/python3.7/site-packages/ipykernel_launcher.py:5: SettingWithCopyWarning: \n",
      "A value is trying to be set on a copy of a slice from a DataFrame.\n",
      "Try using .loc[row_indexer,col_indexer] = value instead\n",
      "\n",
      "See the caveats in the documentation: http://pandas.pydata.org/pandas-docs/stable/indexing.html#indexing-view-versus-copy\n",
      "  \"\"\"\n"
     ]
    }
   ],
   "source": [
    "# Initialize spam prediction in test data\n",
    "prediction_test = []\n",
    "\n",
    "# Get prediction accuracy on test data\n",
    "data_comments_test['prediction'] = data_comments_test.content.apply(lambda x: classify(x))\n",
    "# Check accuracy: \n",
    "# first the number of correct prediction \n",
    "correct_labels = data_comments_test[data_comments_test.label == data_comments_test.prediction].shape[0]\n",
    "print(correct_labels)\n",
    "# then the mean of correct predictions\n",
    "test_accuracy = correct_labels / data_comments_test.shape[0]\n",
    "\n",
    "#print prediction_test\n",
    "print(\"Proportion of comments classified correctly on test set: %s\" % test_accuracy)"
   ]
  },
  {
   "cell_type": "markdown",
   "metadata": {},
   "source": [
    "Let's try to write some comments to see whether they are classified as spam or ham. Recall the \"True\" is for spam comments, and \"False\" is for ham comments. \n",
    "Try your own !"
   ]
  },
  {
   "cell_type": "code",
   "execution_count": 34,
   "metadata": {},
   "outputs": [
    {
     "data": {
      "text/plain": [
       "True"
      ]
     },
     "execution_count": 34,
     "metadata": {},
     "output_type": "execute_result"
    }
   ],
   "source": [
    "# spam\n",
    "classify(\"Guys check out my new chanell\")"
   ]
  },
  {
   "cell_type": "code",
   "execution_count": 35,
   "metadata": {},
   "outputs": [
    {
     "data": {
      "text/plain": [
       "True"
      ]
     },
     "execution_count": 35,
     "metadata": {},
     "output_type": "execute_result"
    }
   ],
   "source": [
    "# spam\n",
    "classify(\"I have solved P vs. NP, check my video https://www.youtube.com/watch?v=dQw4w9WgXcQ\")"
   ]
  },
  {
   "cell_type": "code",
   "execution_count": 36,
   "metadata": {},
   "outputs": [
    {
     "data": {
      "text/plain": [
       "False"
      ]
     },
     "execution_count": 36,
     "metadata": {},
     "output_type": "execute_result"
    }
   ],
   "source": [
    "# ham\n",
    "classify(\"I liked the video\")"
   ]
  },
  {
   "cell_type": "code",
   "execution_count": 37,
   "metadata": {},
   "outputs": [
    {
     "data": {
      "text/plain": [
       "False"
      ]
     },
     "execution_count": 37,
     "metadata": {},
     "output_type": "execute_result"
    }
   ],
   "source": [
    "# ham\n",
    "classify(\"Its great that this video has so many views\")"
   ]
  },
  {
   "cell_type": "markdown",
   "metadata": {},
   "source": [
    "### to go further...\n",
    "## Extending Bag of Words by Using TF-IDF\n",
    "\n",
    "So far we have been using the Bag of Words model to represent comments as vectors. \n",
    "The \"Bag of Words\" is a list of all unique words found in the training data, then each comment can be represented by a vector that contains the frequency of each unique word that appeared in the comment. \n",
    "\n",
    "For example if the training data contains the words $(hi, how, my, grade, are, you),$ then the text \"how are you you\" can be represented by $(0,1,0,0,1,2).$ The main reason we do this in our application is because comments can vary in length, but the length of all unique words stays fixed. \n",
    "\n",
    "In our context, the TF-IDF is a measure of how important a word is in a comment relative to all the words in our training data. For example if a word such as \"the\" appeared in most of the comments, the TF-IDF would be small as this word does not help us differentiate accross comments. \n",
    "Note that \"TF\" stands for \"Term Frequency\", and \"IDF\" stands for \"Inverse Document Frequency\". In particular, \"TF\" denoted by $tf(w,c)$ is the number of times the word $w$ appears in the given comment $c$. Whereas \"IDF\" is a measure of how much information a given word provides in differentiating comments. Specefically, $IDF$ is formulated as \n",
    "\n",
    ">$idf(w, D) = log(\\frac{\\text{Number of comments in train data $D$}}{\\text{Number of comments containing the word $w$}}).$ \n",
    "\n",
    "To combine \"TF\" and \"IDF\" together, we simple take the product, hence \n",
    ">$$TFIDF = tf(w,c) \\times idf(w, D) = (\\text{Number of times $w$ appears in comment $c$})\\times log(\\frac{\\text{Number of comments in train data $D$}}{\\text{Number of comments containing the word $w$}}).$$\n",
    "\n",
    "Now the $TF-IDF$ can be used to weight the vectors that result from the \"Bag of Words\" approach. For example, suppose a comment contains \"this\" 2 times, hence $tf = 2$. \n",
    "If we then had 1000 comments in our traininig data, and the word \"this\" appears in 100 comments, $idf = log(1000/100) = 2.$ Therefore in this example, the TF-IDF weight would be 2*2 = 4 for the word \"this\" appear twice in a particular comment. \n",
    "\n",
    "To incorprate TF-IDF into the naive bayes setting, we can compute \n",
    "\n",
    ">$$Pr(word|spam) = \\frac{\\sum_{\\text{c is spam}}TFIDF(word,c,D)}{\\sum_{\\text{word in spam c}}\\sum_{\\text{c is spam}}TFIDF(word,c,D)+ \\text{Number of unique words in data}},$$ \n",
    "\n",
    ">where $TFIDF(word,c,D) = TF(word,c) \\times IDF(word,data).$ "
   ]
  },
  {
   "cell_type": "code",
   "execution_count": 108,
   "metadata": {},
   "outputs": [],
   "source": [
    "def ft_cleartext(text, word):\n",
    "    text = text.lower().split(' ')\n",
    "    text = [re.sub(r'[^a-z0-9A-Z]+','', x) for x in text]\n",
    "    return text.count(word)"
   ]
  },
  {
   "cell_type": "code",
   "execution_count": 115,
   "metadata": {},
   "outputs": [],
   "source": [
    "# Compute tfidf(word, comment, data)\n",
    "def TFIDF(comment, train):\n",
    "    \n",
    "    # Split comment into list of words\n",
    "    comment = comment.lower().split(' ')\n",
    "    comment = [re.sub(r'[^a-z0-9A-Z]+','', x) for x in comment]\n",
    "    \n",
    "    # Initiailize tf-idf for given comment\n",
    "    tfidf_comment = np.zeros(len(comment))\n",
    "    \n",
    "    # Initiailize number of comments containing a word\n",
    "    num_comment_word = 0\n",
    "    \n",
    "    # Intialize index for words in comment\n",
    "    word_index = 0\n",
    "    \n",
    "    # Go over all words in comment\n",
    "    for word in comment:\n",
    "        word = word.lower()\n",
    "        \n",
    "        # Compute term frequence (tf)\n",
    "        # Count frequency of word in comment\n",
    "\n",
    "        tf = comment.count(word)\n",
    "        \n",
    "        # Find number of comments containing word\n",
    "        train['num_comment_word'] = train['content'].apply(lambda x: ft_cleartext(x, word))\n",
    "        num_comment_word = train['num_comment_word'].sum()\n",
    "        \n",
    "        # Compute inverse document frequency (idf)\n",
    "        # log(Total number of comments/number of comments with word)\n",
    "        idf = np.log(len(train.index) / num_comment_word)\n",
    "\n",
    "        \n",
    "        \n",
    "        # Update tf-idf weight for word\n",
    "        tfidf_comment[word_index] = tf * idf\n",
    "        \n",
    "        # Reset number of comments containing a word\n",
    "        num_comment_word = 0\n",
    "        \n",
    "        # Move onto next word in comment\n",
    "        word_index += 1\n",
    "        \n",
    "        \n",
    "    return tfidf_comment"
   ]
  },
  {
   "cell_type": "code",
   "execution_count": 116,
   "metadata": {},
   "outputs": [
    {
     "name": "stderr",
     "output_type": "stream",
     "text": [
      "/Users/macbookair/ENVS/data_science/lib/python3.7/site-packages/ipykernel_launcher.py:27: SettingWithCopyWarning: \n",
      "A value is trying to be set on a copy of a slice from a DataFrame.\n",
      "Try using .loc[row_indexer,col_indexer] = value instead\n",
      "\n",
      "See the caveats in the documentation: http://pandas.pydata.org/pandas-docs/stable/indexing.html#indexing-view-versus-copy\n"
     ]
    },
    {
     "data": {
      "text/plain": [
       "array([1.29452269, 1.23888561, 1.24596946, 2.83662748, 2.49518423,\n",
       "       1.86162915, 4.3465358 ])"
      ]
     },
     "execution_count": 116,
     "metadata": {},
     "output_type": "execute_result"
    }
   ],
   "source": [
    "TFIDF(\"Check out my new music video plz\",data_comments_train)"
   ]
  },
  {
   "cell_type": "code",
   "execution_count": null,
   "metadata": {},
   "outputs": [],
   "source": []
  },
  {
   "cell_type": "code",
   "execution_count": 146,
   "metadata": {},
   "outputs": [],
   "source": [
    "# Dictionary with comment words as \"keys\", and their tf_idf as \"value\"\n",
    "trainPositive_tfidf = dict()\n",
    "trainNegative_tfidf = dict()\n",
    "\n",
    "# Intialize classes to zero\n",
    "positiveTotal_tfidf = 0\n",
    "negativeTotal_tfidf = 0\n",
    "\n",
    "# Initialize Prob. of to zero, but float ;) \n",
    "pSpam_tfidf = 0.0\n",
    "pNotSpam_tfidf = 0.0\n",
    "\n",
    "counter = 0"
   ]
  },
  {
   "cell_type": "code",
   "execution_count": 147,
   "metadata": {},
   "outputs": [],
   "source": [
    "for word in train_unique_words:\n",
    "    if not word or word is ' ':\n",
    "        continue\n",
    "    trainPositive_tfidf[word] = 0\n",
    "    trainNegative_tfidf[word] = 0"
   ]
  },
  {
   "cell_type": "code",
   "execution_count": 148,
   "metadata": {},
   "outputs": [],
   "source": [
    "def processComment_tfidf(comment,label):\n",
    "    global negativeTotal_tfidf\n",
    "    global positiveTotal_tfidf\n",
    "    global trainNegative_tfidf\n",
    "    global trainPositive_tfidf\n",
    "    global counter\n",
    "    \n",
    "    counter += 1\n",
    "    print(counter, end='\\r')\n",
    "    \n",
    "    tfidf_comment = TFIDF(comment, data_comments_train)\n",
    "    comment = comment.lower().split()\n",
    "    comment = [re.sub(r'[^a-z0-9A-Z]+','', x) for x in comment]\n",
    "    \n",
    "    for (word, word_tfidf) in zip(comment, tfidf_comment):\n",
    "        if not word or word is ' ':\n",
    "            continue\n",
    "        if word not in trainPositive_tfidf.keys():\n",
    "            trainPositive_tfidf[word] = 0\n",
    "            trainNegative_tfidf[word] = 0\n",
    "            continue\n",
    "        if not label:      \n",
    "            trainNegative_tfidf[word] += word_tfidf\n",
    "            negativeTotal_tfidf += word_tfidf\n",
    "        else:\n",
    "            trainPositive_tfidf[word] += word_tfidf\n",
    "            positiveTotal_tfidf += word_tfidf\n",
    "            "
   ]
  },
  {
   "cell_type": "code",
   "execution_count": 149,
   "metadata": {},
   "outputs": [],
   "source": [
    "# And now implement TFIDF with your classifier function\n",
    "# Have fun :D\n",
    "\n",
    "def conditionalWord_tfidf(word,label):\n",
    "    \n",
    "    # word in ham comment\n",
    "    if word not in trainPositive_tfidf.keys():\n",
    "        trainPositive_tfidf[word] = 0\n",
    "        trainNegative_tfidf[word] = 0\n",
    "    if(label == 0):\n",
    "        # Compute Prob(word|ham)\n",
    "        return (trainNegative_tfidf[word] + alpha) / float(negativeTotal_tfidf + alpha * vocab_size_train)\n",
    "           \n",
    "    # word in spam comment\n",
    "    else:\n",
    "        # Compute Prob(word|ham)\n",
    "        return (trainPositive_tfidf[word] + alpha) / float(positiveTotal_tfidf + alpha * vocab_size_train)\n"
   ]
  },
  {
   "cell_type": "code",
   "execution_count": 150,
   "metadata": {},
   "outputs": [],
   "source": [
    "def conditionalComment_tfidf(comment,label):\n",
    "    prob_label_comment = 1.0\n",
    "    \n",
    "    comment = comment.lower().split(' ')\n",
    "    comment = [re.sub(r'[^a-z0-9A-Z]+','', x) for x in comment]\n",
    "    for word in comment:\n",
    "        prob_label_comment *= conditionalWord_tfidf(word, label)\n",
    "    \n",
    "    return prob_label_comment"
   ]
  },
  {
   "cell_type": "code",
   "execution_count": 151,
   "metadata": {},
   "outputs": [],
   "source": [
    "# Train naive bayes by computing several conditional probabilities in training data\n",
    "def train_tfidf():\n",
    "    # reminder: we will need pSpam and pNotSpam here ;) \n",
    "    global pSpam_tfidf\n",
    "    global pNotSpam_tfidf\n",
    "\n",
    "    # Initiailize our variables: the total number of comments and the number of spam comments \n",
    "    total = 0\n",
    "    num_spam = 0\n",
    "    \n",
    "    # Go over each comment in training data \n",
    "    print('Starting training...')\n",
    "    data_comments_train.apply(lambda x: processComment_tfidf(x.content, x.label), axis=1)\n",
    "    num_spam = data_comments_train['label'].sum()\n",
    "    total = data_comments_train.shape[0]\n",
    "    \n",
    "    # Compute prior probabilities, P(spam), P(ham)\n",
    "    pSpam_tfidf = num_spam / total\n",
    "    pNotSpam_tfidf = 1 - pSpam_tfidf\n",
    "    print('Training done')"
   ]
  },
  {
   "cell_type": "code",
   "execution_count": 152,
   "metadata": {},
   "outputs": [
    {
     "name": "stdout",
     "output_type": "stream",
     "text": [
      "Starting training...\n",
      "1\r"
     ]
    },
    {
     "name": "stderr",
     "output_type": "stream",
     "text": [
      "/Users/macbookair/ENVS/data_science/lib/python3.7/site-packages/ipykernel_launcher.py:27: SettingWithCopyWarning: \n",
      "A value is trying to be set on a copy of a slice from a DataFrame.\n",
      "Try using .loc[row_indexer,col_indexer] = value instead\n",
      "\n",
      "See the caveats in the documentation: http://pandas.pydata.org/pandas-docs/stable/indexing.html#indexing-view-versus-copy\n"
     ]
    },
    {
     "name": "stdout",
     "output_type": "stream",
     "text": [
      "Training done\n"
     ]
    }
   ],
   "source": [
    "train_tfidf()"
   ]
  },
  {
   "cell_type": "code",
   "execution_count": 153,
   "metadata": {},
   "outputs": [],
   "source": [
    "# Classify comment as spam or ham\n",
    "def classify_tfidf(comment):\n",
    "    \n",
    "    # get global variables\n",
    "    \n",
    "    \n",
    "    # Compute value proportional to Pr(ham|comment)\n",
    "    isNegative = conditionalComment_tfidf(comment, 0) * pNotSpam_tfidf\n",
    "    \n",
    "    # Compute value proportional to Pr(spam|comment)\n",
    "    isPositive = conditionalComment_tfidf(comment, 1) * pSpam_tfidf\n",
    "    \n",
    "    # Output True = spam, False = ham depending on the 2 previously computed variables\n",
    "    return (isPositive > isNegative)"
   ]
  },
  {
   "cell_type": "code",
   "execution_count": 154,
   "metadata": {},
   "outputs": [
    {
     "name": "stdout",
     "output_type": "stream",
     "text": [
      "423\n",
      "Proportion of comments classified correctly on test set: 0.8597560975609756\n"
     ]
    },
    {
     "name": "stderr",
     "output_type": "stream",
     "text": [
      "/Users/macbookair/ENVS/data_science/lib/python3.7/site-packages/ipykernel_launcher.py:5: SettingWithCopyWarning: \n",
      "A value is trying to be set on a copy of a slice from a DataFrame.\n",
      "Try using .loc[row_indexer,col_indexer] = value instead\n",
      "\n",
      "See the caveats in the documentation: http://pandas.pydata.org/pandas-docs/stable/indexing.html#indexing-view-versus-copy\n",
      "  \"\"\"\n"
     ]
    }
   ],
   "source": [
    "# Initialize spam prediction in test data\n",
    "prediction_test_tfidf = []\n",
    "\n",
    "# Get prediction accuracy on test data\n",
    "data_comments_test['prediction_tfidf'] = data_comments_test.content.apply(lambda x: classify_tfidf(x))\n",
    "# Check accuracy: \n",
    "# first the number of correct prediction \n",
    "correct_labels_tfidf = data_comments_test[data_comments_test.label == data_comments_test.prediction_tfidf].shape[0]\n",
    "print(correct_labels_tfidf)\n",
    "# then the mean of correct predictions\n",
    "test_accuracy = correct_labels_tfidf / data_comments_test.shape[0]\n",
    "\n",
    "#print prediction_test\n",
    "print(\"Proportion of comments classified correctly on test set: %s\" % test_accuracy)"
   ]
  },
  {
   "cell_type": "code",
   "execution_count": null,
   "metadata": {},
   "outputs": [],
   "source": []
  },
  {
   "cell_type": "code",
   "execution_count": null,
   "metadata": {},
   "outputs": [],
   "source": []
  },
  {
   "cell_type": "code",
   "execution_count": null,
   "metadata": {},
   "outputs": [],
   "source": []
  }
 ],
 "metadata": {
  "kernelspec": {
   "display_name": "Python 3",
   "language": "python",
   "name": "python3"
  },
  "language_info": {
   "codemirror_mode": {
    "name": "ipython",
    "version": 3
   },
   "file_extension": ".py",
   "mimetype": "text/x-python",
   "name": "python",
   "nbconvert_exporter": "python",
   "pygments_lexer": "ipython3",
   "version": "3.7.3"
  }
 },
 "nbformat": 4,
 "nbformat_minor": 2
}
