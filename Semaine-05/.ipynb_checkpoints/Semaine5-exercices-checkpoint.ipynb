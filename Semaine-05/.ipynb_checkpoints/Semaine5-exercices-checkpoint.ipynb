{
 "cells": [
  {
   "cell_type": "markdown",
   "metadata": {},
   "source": [
    "# Support Vector Machines - Exercices tirés du MOOC d'Andrew Ng"
   ]
  },
  {
   "cell_type": "markdown",
   "metadata": {},
   "source": [
    "Voici une adaptation en Python de l'exercice de programmation de la 7e semaine du cours Machine Learning d'Andrew Ng, disponible sur [Coursera](https://www.coursera.org/learn/machine-learning).\n",
    "Voir [l'énoncé original](https://github.com/42-AI/ateliers-ml-2018/blob/master/Semaine-4/Sujet.pdf) de l'exercice pour le détail des instructions et un rappel des équations à utiliser."
   ]
  },
  {
   "cell_type": "markdown",
   "metadata": {},
   "source": [
    "Cet exercice, nous utiliserons les SVMs sur trois jeux de données différents pour comprendre comment ils fonctionnent."
   ]
  },
  {
   "cell_type": "markdown",
   "metadata": {},
   "source": [
    "# 0- Sondage pour le challenge Kaggle "
   ]
  },
  {
   "cell_type": "markdown",
   "metadata": {},
   "source": [
    "@Btollie et @trmonich vous proposent une activité autour du challenge Kaggle du Titanic qui va littéralement changer votre vie.\n",
    "\n",
    "Remplissez le sondage suivant pour les aider à l'organiser.\n",
    "\n",
    "https://docs.google.com/forms/d/e/1FAIpQLSfkQDNg7sf24fCm15wCq_q4AtvLDwfv5sNlyTIWRRqa-BNhrQ/viewform?usp=sf_link"
   ]
  },
  {
   "cell_type": "markdown",
   "metadata": {},
   "source": [
    "## 1- Expérimentations avec les Support Vector Machines"
   ]
  },
  {
   "cell_type": "markdown",
   "metadata": {},
   "source": [
    "Ici, nous utiliserons un jeu de données simple à deux dimensions dont les données peuvent être séparées par une frontière de décision linéaire. L'idée ici est de comprendre comment le paramètre **C** influence cette frontière de décision."
   ]
  },
  {
   "cell_type": "markdown",
   "metadata": {},
   "source": [
    "### Chargement des données"
   ]
  },
  {
   "cell_type": "markdown",
   "metadata": {},
   "source": [
    "Les données sont en format matlab, donc nous utiliserons ici une fonction de scipy pour les ouvrir."
   ]
  },
  {
   "cell_type": "code",
   "execution_count": 4,
   "metadata": {},
   "outputs": [],
   "source": [
    "from scipy.io import loadmat\n",
    "raw_data = loadmat('ex6data1.mat')"
   ]
  },
  {
   "cell_type": "markdown",
   "metadata": {},
   "source": [
    "Cool... mais elles ont quel format? Et quel type a la variable *raw_data* ? Il serait important de voir cela pour savoir quelles manipulations sont possibles avec la structure de données qui y est associée."
   ]
  },
  {
   "cell_type": "code",
   "execution_count": 5,
   "metadata": {},
   "outputs": [
    {
     "data": {
      "text/plain": [
       "dict_keys(['__header__', '__version__', '__globals__', 'X', 'y'])"
      ]
     },
     "execution_count": 5,
     "metadata": {},
     "output_type": "execute_result"
    }
   ],
   "source": [
    "raw_data.keys()\n"
   ]
  },
  {
   "cell_type": "markdown",
   "metadata": {},
   "source": [
    "### Transformation de *raw_data* en un format moins ésotérique..."
   ]
  },
  {
   "cell_type": "markdown",
   "metadata": {},
   "source": [
    "Transférez les données dans un DataFrame pandas (appelé *data*) qui aura trois colonnes apppelées X1, X2, y"
   ]
  },
  {
   "cell_type": "code",
   "execution_count": 6,
   "metadata": {},
   "outputs": [
    {
     "data": {
      "text/plain": [
       "(51, 1)"
      ]
     },
     "execution_count": 6,
     "metadata": {},
     "output_type": "execute_result"
    }
   ],
   "source": [
    "import numpy as np\n",
    "x = np.array(raw_data['X'])\n",
    "y = np.array(raw_data['y'])\n",
    "y.shape #ATTENTION sous numpy avec calcul matricile, un vecteur unicolonne est equ a un vecteur uniligne.\n",
    "#Un vecteur unicolonne levera une erreur, si 1D => ligne"
   ]
  },
  {
   "cell_type": "code",
   "execution_count": 7,
   "metadata": {},
   "outputs": [
    {
     "data": {
      "text/html": [
       "<div>\n",
       "<style scoped>\n",
       "    .dataframe tbody tr th:only-of-type {\n",
       "        vertical-align: middle;\n",
       "    }\n",
       "\n",
       "    .dataframe tbody tr th {\n",
       "        vertical-align: top;\n",
       "    }\n",
       "\n",
       "    .dataframe thead th {\n",
       "        text-align: right;\n",
       "    }\n",
       "</style>\n",
       "<table border=\"1\" class=\"dataframe\">\n",
       "  <thead>\n",
       "    <tr style=\"text-align: right;\">\n",
       "      <th></th>\n",
       "      <th>X1</th>\n",
       "      <th>X2</th>\n",
       "      <th>y</th>\n",
       "    </tr>\n",
       "  </thead>\n",
       "  <tbody>\n",
       "    <tr>\n",
       "      <th>0</th>\n",
       "      <td>1.9643</td>\n",
       "      <td>4.5957</td>\n",
       "      <td>1</td>\n",
       "    </tr>\n",
       "    <tr>\n",
       "      <th>1</th>\n",
       "      <td>2.2753</td>\n",
       "      <td>3.8589</td>\n",
       "      <td>1</td>\n",
       "    </tr>\n",
       "    <tr>\n",
       "      <th>2</th>\n",
       "      <td>2.9781</td>\n",
       "      <td>4.5651</td>\n",
       "      <td>1</td>\n",
       "    </tr>\n",
       "    <tr>\n",
       "      <th>3</th>\n",
       "      <td>2.9320</td>\n",
       "      <td>3.5519</td>\n",
       "      <td>1</td>\n",
       "    </tr>\n",
       "    <tr>\n",
       "      <th>4</th>\n",
       "      <td>3.5772</td>\n",
       "      <td>2.8560</td>\n",
       "      <td>1</td>\n",
       "    </tr>\n",
       "  </tbody>\n",
       "</table>\n",
       "</div>"
      ],
      "text/plain": [
       "       X1      X2  y\n",
       "0  1.9643  4.5957  1\n",
       "1  2.2753  3.8589  1\n",
       "2  2.9781  4.5651  1\n",
       "3  2.9320  3.5519  1\n",
       "4  3.5772  2.8560  1"
      ]
     },
     "execution_count": 7,
     "metadata": {},
     "output_type": "execute_result"
    }
   ],
   "source": [
    "import pandas as pd\n",
    "data = pd.DataFrame({'X1':raw_data['X'][:,0], 'X2':raw_data['X'][:,-1], 'y':raw_data['y'].reshape(-1)})\n",
    "data.head()\n"
   ]
  },
  {
   "cell_type": "code",
   "execution_count": 8,
   "metadata": {},
   "outputs": [
    {
     "data": {
      "text/plain": [
       "(51,)"
      ]
     },
     "execution_count": 8,
     "metadata": {},
     "output_type": "execute_result"
    }
   ],
   "source": [
    "data['y'].shape"
   ]
  },
  {
   "cell_type": "markdown",
   "metadata": {},
   "source": [
    "### Visualisation des données"
   ]
  },
  {
   "cell_type": "code",
   "execution_count": 9,
   "metadata": {},
   "outputs": [],
   "source": [
    "import matplotlib.pyplot as plt\n",
    "import seaborn as sns"
   ]
  },
  {
   "cell_type": "markdown",
   "metadata": {},
   "source": [
    "La visualisation se fera en nuage de points.\n",
    "Séparez les rangées de votre DataFrame afin de séparer les exemples \"positif\" de ceux qui sont marqués \"négatifs\" (i.e. marqués respectivement d'un 1 ou d'un 0 dans la colonne y)."
   ]
  },
  {
   "cell_type": "code",
   "execution_count": 10,
   "metadata": {},
   "outputs": [],
   "source": [
    "positive = data[data['y'] == 1]\n",
    "negative = data[data['y'] == 0]"
   ]
  },
  {
   "cell_type": "markdown",
   "metadata": {},
   "source": [
    "Si vous avez bien réussi, vous devriez obtenir un graphe qui ressemble à celui du PDF."
   ]
  },
  {
   "cell_type": "code",
   "execution_count": 11,
   "metadata": {},
   "outputs": [
    {
     "data": {
      "text/plain": [
       "<matplotlib.legend.Legend at 0x122a0e400>"
      ]
     },
     "execution_count": 11,
     "metadata": {},
     "output_type": "execute_result"
    },
    {
     "data": {
      "image/png": "[encoded data removed]",
      "text/plain": [
       "<Figure size 864x576 with 1 Axes>"
      ]
     },
     "metadata": {
      "needs_background": "light"
     },
     "output_type": "display_data"
    }
   ],
   "source": [
    "fig, ax = plt.subplots(figsize=(12,8))\n",
    "ax.scatter(positive['X1'], positive['X2'], s=50, marker='x', label='Positive')\n",
    "ax.scatter(negative['X1'], negative['X2'], s=50, marker='o', label='Negative')\n",
    "ax.legend()"
   ]
  },
  {
   "cell_type": "markdown",
   "metadata": {},
   "source": [
    "À noter la présence d'un *x* aberrant sur la gauche. Nous verrons comment il affectera la frontière de décision selon les paramètres qui seront passés au classifieur SVM."
   ]
  },
  {
   "cell_type": "markdown",
   "metadata": {},
   "source": [
    "### Entraînement du classifieur SVM"
   ]
  },
  {
   "cell_type": "markdown",
   "metadata": {},
   "source": [
    "Nous allons pour la première fois utilier la bibliothèque Scikit Learn.\n",
    "Pour ce premier exercice, le modèle LinearSVC suffira. Les paramètres du constructeur peuvent être laissés par défaut, sauf *C* et *loss* que vous devez sélectionner de manière appropriée."
   ]
  },
  {
   "cell_type": "markdown",
   "metadata": {},
   "source": [
    "**1- Créez et entraînez un classifieur qui aura la valeur de C par défaut, et que vous assignerez à la variable *svc***"
   ]
  },
  {
   "cell_type": "code",
   "execution_count": 12,
   "metadata": {},
   "outputs": [],
   "source": [
    "from sklearn import svm\n",
    "svc = svm.LinearSVC()\n"
   ]
  },
  {
   "cell_type": "markdown",
   "metadata": {},
   "source": [
    "Entraînez-le"
   ]
  },
  {
   "cell_type": "code",
   "execution_count": 13,
   "metadata": {},
   "outputs": [
    {
     "data": {
      "text/plain": [
       "LinearSVC(C=1.0, class_weight=None, dual=True, fit_intercept=True,\n",
       "          intercept_scaling=1, loss='squared_hinge', max_iter=1000,\n",
       "          multi_class='ovr', penalty='l2', random_state=None, tol=0.0001,\n",
       "          verbose=0)"
      ]
     },
     "execution_count": 13,
     "metadata": {},
     "output_type": "execute_result"
    }
   ],
   "source": [
    "svc.fit(data[['X1','X2']],data['y'])"
   ]
  },
  {
   "cell_type": "markdown",
   "metadata": {},
   "source": [
    "Mesurez l'exactitude de ses prédictions sur les données d'entraînement."
   ]
  },
  {
   "cell_type": "code",
   "execution_count": 14,
   "metadata": {},
   "outputs": [
    {
     "data": {
      "text/plain": [
       "0.9803921568627451"
      ]
     },
     "execution_count": 14,
     "metadata": {},
     "output_type": "execute_result"
    }
   ],
   "source": [
    "svc.score(data[['X1','X2']],data['y'])"
   ]
  },
  {
   "cell_type": "code",
   "execution_count": 15,
   "metadata": {},
   "outputs": [
    {
     "data": {
      "text/plain": [
       "array([-3.56318626,  0.44887484,  0.76398413])"
      ]
     },
     "execution_count": 15,
     "metadata": {},
     "output_type": "execute_result"
    }
   ],
   "source": [
    "theta1 = svc.coef_\n",
    "theta1 = np.c_[svc.intercept_, theta1].reshape(-1)\n",
    "theta1"
   ]
  },
  {
   "cell_type": "markdown",
   "metadata": {},
   "source": [
    "L'exactitude est-elle de 100% ? Le classifieur semble avoir raté son coup pour au moins un exemple... \n",
    "Comment faire pour qu'il soit juste pour tous les exemples?"
   ]
  },
  {
   "cell_type": "markdown",
   "metadata": {},
   "source": [
    "impossibilité de classer parfaitement les data lineairement car un outlier.\n",
    "On va detendre un peu la contrainte de dire que tous les data points doivent etre en dehors des marges.\n",
    "Ainsi, on va augmenter C pour "
   ]
  },
  {
   "cell_type": "markdown",
   "metadata": {},
   "source": [
    "**2- Créez et entraînez un deuxième classifieur, qui ne laissera pas le moindre exemple mal classé! Vous l'appellerez *svc2***"
   ]
  },
  {
   "cell_type": "code",
   "execution_count": 16,
   "metadata": {},
   "outputs": [],
   "source": [
    "svc2 = svm.LinearSVC(C=100.0, max_iter=10000)"
   ]
  },
  {
   "cell_type": "code",
   "execution_count": 17,
   "metadata": {},
   "outputs": [
    {
     "name": "stderr",
     "output_type": "stream",
     "text": [
      "/Users/gvannest/ENVS/data_science/lib/python3.7/site-packages/sklearn/svm/base.py:929: ConvergenceWarning: Liblinear failed to converge, increase the number of iterations.\n",
      "  \"the number of iterations.\", ConvergenceWarning)\n"
     ]
    },
    {
     "data": {
      "text/plain": [
       "LinearSVC(C=100.0, class_weight=None, dual=True, fit_intercept=True,\n",
       "          intercept_scaling=1, loss='squared_hinge', max_iter=10000,\n",
       "          multi_class='ovr', penalty='l2', random_state=None, tol=0.0001,\n",
       "          verbose=0)"
      ]
     },
     "execution_count": 17,
     "metadata": {},
     "output_type": "execute_result"
    }
   ],
   "source": [
    "svc2.fit(data[['X1','X2']],data['y'])"
   ]
  },
  {
   "cell_type": "markdown",
   "metadata": {},
   "source": [
    "Mesurez son exactitude. Est-elle de 100% maintenant?"
   ]
  },
  {
   "cell_type": "code",
   "execution_count": 18,
   "metadata": {},
   "outputs": [
    {
     "data": {
      "text/plain": [
       "1.0"
      ]
     },
     "execution_count": 18,
     "metadata": {},
     "output_type": "execute_result"
    }
   ],
   "source": [
    "svc2.score(data[['X1','X2']],data['y'])"
   ]
  },
  {
   "cell_type": "code",
   "execution_count": 19,
   "metadata": {},
   "outputs": [
    {
     "data": {
      "text/plain": [
       "array([-16.15338448,   1.50697401,   3.94278314])"
      ]
     },
     "execution_count": 19,
     "metadata": {},
     "output_type": "execute_result"
    }
   ],
   "source": [
    "theta2 = svc2.coef_\n",
    "theta2 = np.c_[svc2.intercept_, theta2].reshape(-1)\n",
    "theta2"
   ]
  },
  {
   "cell_type": "markdown",
   "metadata": {},
   "source": [
    "### Visualisation de la frontière de décision"
   ]
  },
  {
   "cell_type": "markdown",
   "metadata": {},
   "source": [
    "Voyons comment notre paramétrage a permis d'influcencer la frontière de décision. Pour ce faire, le LinearSVC nous permet d'avoir accès au \"Confidence level\" de chaque prédiction, qui est en d'autres mots la distance de chaque point de la frontière de décision (d'où les couleurs sur les graphiques qui devraient s'afficher ci-dessous...)"
   ]
  },
  {
   "cell_type": "code",
   "execution_count": 20,
   "metadata": {},
   "outputs": [
    {
     "data": {
      "text/plain": [
       "[<matplotlib.lines.Line2D at 0x12355a048>]"
      ]
     },
     "execution_count": 20,
     "metadata": {},
     "output_type": "execute_result"
    },
    {
     "data": {
      "image/png": "[encoded data removed]",
      "text/plain": [
       "<Figure size 864x576 with 1 Axes>"
      ]
     },
     "metadata": {
      "needs_background": "light"
     },
     "output_type": "display_data"
    }
   ],
   "source": [
    "data['SVM 1 Confidence'] = svc.decision_function(data[['X1', 'X2']])\n",
    "a = np.linspace(0,5,100)\n",
    "fig, ax = plt.subplots(figsize=(12,8))\n",
    "ax.scatter(data['X1'], data['X2'], s=50, c=data['SVM 1 Confidence'], cmap='seismic')\n",
    "ax.set_title('SVM with linear kernel (C=1) Decision Confidence')\n",
    "plt.plot(a, -(theta1[0] + theta1[1]*a)/theta1[2], c='g')"
   ]
  },
  {
   "cell_type": "code",
   "execution_count": 21,
   "metadata": {},
   "outputs": [
    {
     "data": {
      "text/plain": [
       "[<matplotlib.lines.Line2D at 0x123735f98>]"
      ]
     },
     "execution_count": 21,
     "metadata": {},
     "output_type": "execute_result"
    },
    {
     "data": {
      "image/png": "[encoded data removed]",
      "text/plain": [
       "<Figure size 864x576 with 1 Axes>"
      ]
     },
     "metadata": {
      "needs_background": "light"
     },
     "output_type": "display_data"
    }
   ],
   "source": [
    "data['SVM 2 Confidence'] = svc2.decision_function(data[['X1', 'X2']])\n",
    "a = np.linspace(0,5,100)\n",
    "\n",
    "fig, ax = plt.subplots(figsize=(12,8))\n",
    "ax.scatter(data['X1'], data['X2'], s=50, c=data['SVM 2 Confidence'], cmap='seismic')\n",
    "ax.set_title('SVM linear kernel (C=100) Decision Confidence')\n",
    "plt.plot(a, -(theta2[0] + theta2[1]*a)/theta2[2], c='g')"
   ]
  },
  {
   "cell_type": "markdown",
   "metadata": {},
   "source": [
    "Ouais...c'est mignon les couleurs, mais... pas très clair tout ça... \n",
    "High five à ceux qui trouveront le moyen en plus de tracer la frontière de décision sur le graphe! \n",
    "Les autres pourront aller voir sur le PDF..."
   ]
  },
  {
   "cell_type": "markdown",
   "metadata": {},
   "source": [
    "## 2- Kernels gaussiens"
   ]
  },
  {
   "cell_type": "markdown",
   "metadata": {},
   "source": [
    "### Définition de la fonction"
   ]
  },
  {
   "cell_type": "markdown",
   "metadata": {},
   "source": [
    "Le kernel est en fait une fonction qu'on utilise pour transformer les données avant de les fournir au SVM.\n",
    "Commençons par écrire cette fonction."
   ]
  },
  {
   "cell_type": "code",
   "execution_count": 22,
   "metadata": {},
   "outputs": [],
   "source": [
    "def gaussian_kernel(x1, x2, sigma):\n",
    "    \n",
    "    return np.exp(-np.sum((x1- x2) ** 2, axis=1)/(2 * sigma ** 2))"
   ]
  },
  {
   "cell_type": "markdown",
   "metadata": {},
   "source": [
    "Quelle valeur votre kernel renvoie-t-il si on lui donne deux vecteurs dont les valeurs seraient de [1, 2, 1] et [0,4,-1], pour un sigma de 2 ?"
   ]
  },
  {
   "cell_type": "code",
   "execution_count": 23,
   "metadata": {},
   "outputs": [],
   "source": [
    "v1 = np.array([[1,2,1]])\n",
    "v2 = np.array([[0,4,-1]])\n",
    "sigma = 2"
   ]
  },
  {
   "cell_type": "code",
   "execution_count": 24,
   "metadata": {},
   "outputs": [
    {
     "data": {
      "text/plain": [
       "array([0.32465247])"
      ]
     },
     "execution_count": 24,
     "metadata": {},
     "output_type": "execute_result"
    }
   ],
   "source": [
    "gaussian_kernel(v1, v2, sigma)"
   ]
  },
  {
   "cell_type": "markdown",
   "metadata": {},
   "source": [
    "Vous devriez obtenir environ 0.32464"
   ]
  },
  {
   "cell_type": "markdown",
   "metadata": {},
   "source": [
    "Bonus: fixez x2, et essayez de voir avec différentes valeurs de x1, comment la mesure de similarité varie. Encore mieux si vous pouvez afficher vos résultats sur un graphe!"
   ]
  },
  {
   "cell_type": "code",
   "execution_count": 25,
   "metadata": {},
   "outputs": [
    {
     "data": {
      "text/plain": [
       "array([[ 0.91073093,  0.23840808,  0.1917205 ],\n",
       "       [-0.84252389,  3.36386692, -0.81231854],\n",
       "       [ 4.33638742, -4.5794659 , -1.33348936],\n",
       "       [-2.9314751 ,  2.38825074, -4.01624624],\n",
       "       [-2.53491768,  4.3370974 ,  0.88076445]])"
      ]
     },
     "execution_count": 25,
     "metadata": {},
     "output_type": "execute_result"
    }
   ],
   "source": [
    "v11 = np.random.uniform(low=-5, high=5, size=(100,3))\n",
    "v22 = np.tile(v2, (100,1))\n",
    "v11[:5,:]"
   ]
  },
  {
   "cell_type": "code",
   "execution_count": 26,
   "metadata": {},
   "outputs": [
    {
     "data": {
      "text/plain": [
       "array([[ 0.91073093,  0.23840808,  0.1917205 ],\n",
       "       [-0.84252389,  3.36386692, -0.81231854],\n",
       "       [ 4.33638742, -4.5794659 , -1.33348936],\n",
       "       [-2.9314751 ,  2.38825074, -4.01624624],\n",
       "       [-2.53491768,  4.3370974 ,  0.88076445]])"
      ]
     },
     "execution_count": 26,
     "metadata": {},
     "output_type": "execute_result"
    }
   ],
   "source": [
    "v11[:5,:]"
   ]
  },
  {
   "cell_type": "code",
   "execution_count": 27,
   "metadata": {},
   "outputs": [],
   "source": [
    "result_kernel = gaussian_kernel(v11,v22,sigma)"
   ]
  },
  {
   "cell_type": "code",
   "execution_count": 28,
   "metadata": {},
   "outputs": [
    {
     "data": {
      "text/plain": [
       "array([1.28747740e-01, 8.66132814e-01, 9.48937073e-06, 7.91723693e-02,\n",
       "       2.83770447e-01, 5.27658998e-01, 2.49941144e-03, 2.60718192e-02,\n",
       "       3.38093486e-05, 6.27592623e-02, 2.01576371e-03, 2.54037503e-02,\n",
       "       4.10607072e-02, 1.63290372e-02, 1.84534380e-02, 1.37363318e-05,\n",
       "       7.68628779e-04, 1.90026898e-01, 1.42173740e-01, 4.65495523e-01,\n",
       "       1.50761107e-01, 4.09221813e-04, 1.00780110e-03, 3.06447332e-02,\n",
       "       1.20932031e-04, 2.71747405e-01, 8.31711206e-04, 1.45991315e-02,\n",
       "       8.01993017e-02, 2.23813718e-01, 1.15318425e-06, 4.48131210e-02,\n",
       "       3.06323722e-04, 1.50880386e-02, 2.98454029e-01, 1.07627671e-01,\n",
       "       1.85020982e-02, 7.09701958e-05, 9.49167390e-03, 7.46332760e-03,\n",
       "       7.05800600e-03, 1.46800541e-05, 2.96912502e-04, 1.32899367e-02,\n",
       "       3.38139716e-01, 1.62629383e-03, 1.05592387e-02, 1.50204004e-03,\n",
       "       1.23241782e-01, 4.88939434e-05, 6.82324130e-02, 1.36859978e-02,\n",
       "       4.44979319e-01, 3.02665085e-01, 2.79282459e-01, 2.11669328e-01,\n",
       "       7.47766763e-05, 1.49963102e-04, 3.15554934e-02, 1.82033177e-05,\n",
       "       2.47115714e-04, 2.33388212e-04, 1.03194489e-01, 6.32413080e-03,\n",
       "       4.35147831e-04, 8.83928579e-03, 5.76116197e-01, 3.63536689e-04,\n",
       "       1.22972856e-04, 4.29046114e-02, 1.50254552e-01, 4.75346058e-03,\n",
       "       2.08852244e-04, 1.77340103e-03, 5.16017699e-03, 1.30258888e-02,\n",
       "       3.32626248e-04, 7.00836185e-02, 1.68525271e-05, 4.64845291e-04,\n",
       "       7.32466912e-02, 3.36326156e-04, 4.87863356e-03, 1.50502502e-04,\n",
       "       4.64719772e-04, 8.15834630e-02, 4.27155730e-02, 4.50142866e-06,\n",
       "       5.32319742e-01, 1.68365748e-02, 1.11719166e-04, 1.98065246e-02,\n",
       "       1.81385133e-04, 4.07488627e-03, 9.88292731e-05, 1.45549138e-07,\n",
       "       3.99712399e-05, 8.59323013e-02, 1.30372543e-04, 1.30321800e-02])"
      ]
     },
     "execution_count": 28,
     "metadata": {},
     "output_type": "execute_result"
    }
   ],
   "source": [
    "result_kernel"
   ]
  },
  {
   "cell_type": "code",
   "execution_count": 29,
   "metadata": {},
   "outputs": [
    {
     "data": {
      "image/png": "[encoded data removed]",
      "text/plain": [
       "<Figure size 864x576 with 2 Axes>"
      ]
     },
     "metadata": {},
     "output_type": "display_data"
    }
   ],
   "source": [
    "from mpl_toolkits.mplot3d import Axes3D\n",
    "sns.set_style(\"whitegrid\", {'axes.grid' : False})\n",
    "\n",
    "fig = plt.figure(figsize=(12,8))\n",
    "#ax = Axes3D(fig)\n",
    "ax = fig.gca(projection='3d')\n",
    "xs = v11[:,0]\n",
    "ys = v11[:,1]\n",
    "zs = v11[:,2]\n",
    "ks = result_kernel\n",
    "surf=ax.scatter(xs,ys,zs, s=70, c=ks, cmap='afmhot', vmin=0, vmax=1)\n",
    "fig.colorbar(surf, shrink=0.5, aspect=5)\n",
    "\n",
    "ax.set_title('Gaussian kernel of random x from R3 with landmark = [0,4,-1]')\n",
    "ax.set_xlabel('x')\n",
    "ax.set_ylabel('y')\n",
    "ax.set_zlabel('z')\n",
    "\n",
    "plt.show()"
   ]
  },
  {
   "cell_type": "markdown",
   "metadata": {},
   "source": [
    "### Chargement et manipulation des données"
   ]
  },
  {
   "cell_type": "markdown",
   "metadata": {},
   "source": [
    "Les données sont dans le fichier ex6data2.mat...."
   ]
  },
  {
   "cell_type": "code",
   "execution_count": 30,
   "metadata": {},
   "outputs": [],
   "source": [
    "raw_data = loadmat('ex6data2.mat')"
   ]
  },
  {
   "cell_type": "markdown",
   "metadata": {},
   "source": [
    "Et pas encore dans un DataFrame dont les colonnes s'appellent X1, X2 et y..."
   ]
  },
  {
   "cell_type": "code",
   "execution_count": 31,
   "metadata": {},
   "outputs": [
    {
     "data": {
      "text/plain": [
       "{'__header__': b'MATLAB 5.0 MAT-file, Platform: GLNXA64, Created on: Sun Nov 13 14:28:54 2011',\n",
       " '__version__': '1.0',\n",
       " '__globals__': [],\n",
       " 'X': array([[0.107143 , 0.60307  ],\n",
       "        [0.093318 , 0.649854 ],\n",
       "        [0.0979263, 0.705409 ],\n",
       "        ...,\n",
       "        [0.975806 , 0.439474 ],\n",
       "        [0.989631 , 0.425439 ],\n",
       "        [0.996544 , 0.414912 ]]),\n",
       " 'y': array([[1],\n",
       "        [1],\n",
       "        [1],\n",
       "        [1],\n",
       "        [1],\n",
       "        [1],\n",
       "        [1],\n",
       "        [1],\n",
       "        [1],\n",
       "        [1],\n",
       "        [1],\n",
       "        [1],\n",
       "        [1],\n",
       "        [1],\n",
       "        [1],\n",
       "        [1],\n",
       "        [1],\n",
       "        [1],\n",
       "        [1],\n",
       "        [1],\n",
       "        [1],\n",
       "        [1],\n",
       "        [1],\n",
       "        [1],\n",
       "        [1],\n",
       "        [1],\n",
       "        [1],\n",
       "        [1],\n",
       "        [1],\n",
       "        [1],\n",
       "        [1],\n",
       "        [1],\n",
       "        [1],\n",
       "        [1],\n",
       "        [1],\n",
       "        [1],\n",
       "        [1],\n",
       "        [1],\n",
       "        [1],\n",
       "        [1],\n",
       "        [1],\n",
       "        [1],\n",
       "        [1],\n",
       "        [1],\n",
       "        [1],\n",
       "        [1],\n",
       "        [1],\n",
       "        [1],\n",
       "        [1],\n",
       "        [1],\n",
       "        [1],\n",
       "        [1],\n",
       "        [1],\n",
       "        [1],\n",
       "        [1],\n",
       "        [1],\n",
       "        [1],\n",
       "        [1],\n",
       "        [1],\n",
       "        [1],\n",
       "        [1],\n",
       "        [1],\n",
       "        [1],\n",
       "        [1],\n",
       "        [1],\n",
       "        [1],\n",
       "        [1],\n",
       "        [1],\n",
       "        [1],\n",
       "        [1],\n",
       "        [1],\n",
       "        [1],\n",
       "        [1],\n",
       "        [1],\n",
       "        [1],\n",
       "        [1],\n",
       "        [1],\n",
       "        [1],\n",
       "        [1],\n",
       "        [1],\n",
       "        [1],\n",
       "        [1],\n",
       "        [1],\n",
       "        [1],\n",
       "        [1],\n",
       "        [1],\n",
       "        [1],\n",
       "        [1],\n",
       "        [1],\n",
       "        [1],\n",
       "        [1],\n",
       "        [1],\n",
       "        [1],\n",
       "        [1],\n",
       "        [1],\n",
       "        [1],\n",
       "        [1],\n",
       "        [1],\n",
       "        [1],\n",
       "        [1],\n",
       "        [1],\n",
       "        [1],\n",
       "        [1],\n",
       "        [1],\n",
       "        [1],\n",
       "        [1],\n",
       "        [1],\n",
       "        [1],\n",
       "        [1],\n",
       "        [1],\n",
       "        [1],\n",
       "        [1],\n",
       "        [1],\n",
       "        [1],\n",
       "        [1],\n",
       "        [1],\n",
       "        [1],\n",
       "        [1],\n",
       "        [1],\n",
       "        [1],\n",
       "        [1],\n",
       "        [1],\n",
       "        [1],\n",
       "        [1],\n",
       "        [1],\n",
       "        [1],\n",
       "        [1],\n",
       "        [1],\n",
       "        [1],\n",
       "        [1],\n",
       "        [1],\n",
       "        [1],\n",
       "        [1],\n",
       "        [1],\n",
       "        [1],\n",
       "        [1],\n",
       "        [1],\n",
       "        [1],\n",
       "        [1],\n",
       "        [1],\n",
       "        [1],\n",
       "        [1],\n",
       "        [1],\n",
       "        [1],\n",
       "        [1],\n",
       "        [1],\n",
       "        [1],\n",
       "        [1],\n",
       "        [1],\n",
       "        [1],\n",
       "        [1],\n",
       "        [1],\n",
       "        [1],\n",
       "        [1],\n",
       "        [1],\n",
       "        [1],\n",
       "        [1],\n",
       "        [1],\n",
       "        [1],\n",
       "        [1],\n",
       "        [1],\n",
       "        [1],\n",
       "        [1],\n",
       "        [1],\n",
       "        [1],\n",
       "        [1],\n",
       "        [1],\n",
       "        [1],\n",
       "        [1],\n",
       "        [1],\n",
       "        [1],\n",
       "        [1],\n",
       "        [1],\n",
       "        [1],\n",
       "        [1],\n",
       "        [1],\n",
       "        [1],\n",
       "        [1],\n",
       "        [1],\n",
       "        [1],\n",
       "        [1],\n",
       "        [1],\n",
       "        [1],\n",
       "        [1],\n",
       "        [1],\n",
       "        [1],\n",
       "        [1],\n",
       "        [1],\n",
       "        [1],\n",
       "        [1],\n",
       "        [1],\n",
       "        [1],\n",
       "        [1],\n",
       "        [0],\n",
       "        [0],\n",
       "        [0],\n",
       "        [0],\n",
       "        [0],\n",
       "        [0],\n",
       "        [0],\n",
       "        [0],\n",
       "        [0],\n",
       "        [0],\n",
       "        [0],\n",
       "        [0],\n",
       "        [0],\n",
       "        [0],\n",
       "        [0],\n",
       "        [0],\n",
       "        [0],\n",
       "        [0],\n",
       "        [0],\n",
       "        [0],\n",
       "        [0],\n",
       "        [0],\n",
       "        [0],\n",
       "        [0],\n",
       "        [0],\n",
       "        [0],\n",
       "        [0],\n",
       "        [0],\n",
       "        [0],\n",
       "        [0],\n",
       "        [0],\n",
       "        [0],\n",
       "        [0],\n",
       "        [0],\n",
       "        [0],\n",
       "        [0],\n",
       "        [0],\n",
       "        [0],\n",
       "        [0],\n",
       "        [0],\n",
       "        [0],\n",
       "        [0],\n",
       "        [0],\n",
       "        [0],\n",
       "        [0],\n",
       "        [0],\n",
       "        [0],\n",
       "        [0],\n",
       "        [0],\n",
       "        [0],\n",
       "        [0],\n",
       "        [0],\n",
       "        [0],\n",
       "        [0],\n",
       "        [0],\n",
       "        [0],\n",
       "        [0],\n",
       "        [0],\n",
       "        [0],\n",
       "        [0],\n",
       "        [0],\n",
       "        [0],\n",
       "        [0],\n",
       "        [0],\n",
       "        [0],\n",
       "        [0],\n",
       "        [0],\n",
       "        [0],\n",
       "        [0],\n",
       "        [0],\n",
       "        [0],\n",
       "        [0],\n",
       "        [0],\n",
       "        [0],\n",
       "        [0],\n",
       "        [0],\n",
       "        [0],\n",
       "        [0],\n",
       "        [0],\n",
       "        [0],\n",
       "        [0],\n",
       "        [0],\n",
       "        [0],\n",
       "        [0],\n",
       "        [0],\n",
       "        [0],\n",
       "        [0],\n",
       "        [0],\n",
       "        [0],\n",
       "        [0],\n",
       "        [0],\n",
       "        [0],\n",
       "        [0],\n",
       "        [0],\n",
       "        [0],\n",
       "        [0],\n",
       "        [0],\n",
       "        [0],\n",
       "        [0],\n",
       "        [0],\n",
       "        [0],\n",
       "        [0],\n",
       "        [0],\n",
       "        [0],\n",
       "        [0],\n",
       "        [0],\n",
       "        [0],\n",
       "        [0],\n",
       "        [0],\n",
       "        [0],\n",
       "        [0],\n",
       "        [0],\n",
       "        [0],\n",
       "        [0],\n",
       "        [0],\n",
       "        [0],\n",
       "        [0],\n",
       "        [0],\n",
       "        [0],\n",
       "        [0],\n",
       "        [0],\n",
       "        [0],\n",
       "        [0],\n",
       "        [0],\n",
       "        [0],\n",
       "        [0],\n",
       "        [0],\n",
       "        [0],\n",
       "        [0],\n",
       "        [0],\n",
       "        [0],\n",
       "        [1],\n",
       "        [1],\n",
       "        [1],\n",
       "        [1],\n",
       "        [1],\n",
       "        [1],\n",
       "        [1],\n",
       "        [1],\n",
       "        [1],\n",
       "        [1],\n",
       "        [1],\n",
       "        [1],\n",
       "        [1],\n",
       "        [1],\n",
       "        [1],\n",
       "        [1],\n",
       "        [1],\n",
       "        [1],\n",
       "        [1],\n",
       "        [1],\n",
       "        [1],\n",
       "        [1],\n",
       "        [1],\n",
       "        [1],\n",
       "        [1],\n",
       "        [1],\n",
       "        [1],\n",
       "        [1],\n",
       "        [1],\n",
       "        [1],\n",
       "        [1],\n",
       "        [1],\n",
       "        [1],\n",
       "        [1],\n",
       "        [1],\n",
       "        [1],\n",
       "        [1],\n",
       "        [1],\n",
       "        [1],\n",
       "        [1],\n",
       "        [1],\n",
       "        [1],\n",
       "        [1],\n",
       "        [1],\n",
       "        [1],\n",
       "        [1],\n",
       "        [1],\n",
       "        [1],\n",
       "        [1],\n",
       "        [1],\n",
       "        [1],\n",
       "        [1],\n",
       "        [1],\n",
       "        [0],\n",
       "        [0],\n",
       "        [0],\n",
       "        [0],\n",
       "        [0],\n",
       "        [0],\n",
       "        [0],\n",
       "        [0],\n",
       "        [0],\n",
       "        [0],\n",
       "        [0],\n",
       "        [0],\n",
       "        [0],\n",
       "        [0],\n",
       "        [0],\n",
       "        [0],\n",
       "        [0],\n",
       "        [0],\n",
       "        [0],\n",
       "        [0],\n",
       "        [0],\n",
       "        [0],\n",
       "        [0],\n",
       "        [0],\n",
       "        [0],\n",
       "        [0],\n",
       "        [0],\n",
       "        [0],\n",
       "        [0],\n",
       "        [1],\n",
       "        [1],\n",
       "        [1],\n",
       "        [1],\n",
       "        [1],\n",
       "        [1],\n",
       "        [1],\n",
       "        [1],\n",
       "        [1],\n",
       "        [1],\n",
       "        [1],\n",
       "        [1],\n",
       "        [1],\n",
       "        [1],\n",
       "        [1],\n",
       "        [1],\n",
       "        [1],\n",
       "        [1],\n",
       "        [1],\n",
       "        [1],\n",
       "        [1],\n",
       "        [1],\n",
       "        [1],\n",
       "        [1],\n",
       "        [1],\n",
       "        [1],\n",
       "        [1],\n",
       "        [1],\n",
       "        [1],\n",
       "        [1],\n",
       "        [1],\n",
       "        [1],\n",
       "        [1],\n",
       "        [1],\n",
       "        [1],\n",
       "        [1],\n",
       "        [1],\n",
       "        [1],\n",
       "        [1],\n",
       "        [1],\n",
       "        [1],\n",
       "        [1],\n",
       "        [1],\n",
       "        [1],\n",
       "        [1],\n",
       "        [1],\n",
       "        [1],\n",
       "        [0],\n",
       "        [0],\n",
       "        [0],\n",
       "        [0],\n",
       "        [0],\n",
       "        [0],\n",
       "        [0],\n",
       "        [0],\n",
       "        [0],\n",
       "        [0],\n",
       "        [0],\n",
       "        [0],\n",
       "        [0],\n",
       "        [0],\n",
       "        [0],\n",
       "        [0],\n",
       "        [0],\n",
       "        [0],\n",
       "        [0],\n",
       "        [0],\n",
       "        [0],\n",
       "        [0],\n",
       "        [0],\n",
       "        [0],\n",
       "        [0],\n",
       "        [0],\n",
       "        [0],\n",
       "        [0],\n",
       "        [0],\n",
       "        [0],\n",
       "        [0],\n",
       "        [0],\n",
       "        [0],\n",
       "        [0],\n",
       "        [0],\n",
       "        [0],\n",
       "        [0],\n",
       "        [0],\n",
       "        [0],\n",
       "        [0],\n",
       "        [0],\n",
       "        [0],\n",
       "        [0],\n",
       "        [0],\n",
       "        [0],\n",
       "        [0],\n",
       "        [0],\n",
       "        [0],\n",
       "        [0],\n",
       "        [0],\n",
       "        [0],\n",
       "        [0],\n",
       "        [0],\n",
       "        [0],\n",
       "        [0],\n",
       "        [0],\n",
       "        [0],\n",
       "        [0],\n",
       "        [0],\n",
       "        [0],\n",
       "        [0],\n",
       "        [0],\n",
       "        [0],\n",
       "        [0],\n",
       "        [1],\n",
       "        [1],\n",
       "        [1],\n",
       "        [1],\n",
       "        [1],\n",
       "        [1],\n",
       "        [1],\n",
       "        [1],\n",
       "        [1],\n",
       "        [1],\n",
       "        [1],\n",
       "        [1],\n",
       "        [1],\n",
       "        [1],\n",
       "        [1],\n",
       "        [1],\n",
       "        [1],\n",
       "        [1],\n",
       "        [1],\n",
       "        [1],\n",
       "        [1],\n",
       "        [1],\n",
       "        [1],\n",
       "        [1],\n",
       "        [1],\n",
       "        [1],\n",
       "        [0],\n",
       "        [0],\n",
       "        [0],\n",
       "        [0],\n",
       "        [0],\n",
       "        [0],\n",
       "        [0],\n",
       "        [0],\n",
       "        [0],\n",
       "        [0],\n",
       "        [0],\n",
       "        [0],\n",
       "        [0],\n",
       "        [0],\n",
       "        [0],\n",
       "        [0],\n",
       "        [0],\n",
       "        [0],\n",
       "        [0],\n",
       "        [0],\n",
       "        [0],\n",
       "        [0],\n",
       "        [0],\n",
       "        [0],\n",
       "        [0],\n",
       "        [0],\n",
       "        [0],\n",
       "        [0],\n",
       "        [0],\n",
       "        [0],\n",
       "        [0],\n",
       "        [0],\n",
       "        [0],\n",
       "        [1],\n",
       "        [1],\n",
       "        [1],\n",
       "        [1],\n",
       "        [1],\n",
       "        [1],\n",
       "        [1],\n",
       "        [1],\n",
       "        [1],\n",
       "        [1],\n",
       "        [1],\n",
       "        [1],\n",
       "        [1],\n",
       "        [1],\n",
       "        [1],\n",
       "        [1],\n",
       "        [1],\n",
       "        [1],\n",
       "        [1],\n",
       "        [1],\n",
       "        [1],\n",
       "        [1],\n",
       "        [1],\n",
       "        [1],\n",
       "        [1],\n",
       "        [1],\n",
       "        [1],\n",
       "        [1],\n",
       "        [1],\n",
       "        [1],\n",
       "        [1],\n",
       "        [1],\n",
       "        [1],\n",
       "        [1],\n",
       "        [1],\n",
       "        [1],\n",
       "        [1],\n",
       "        [1],\n",
       "        [1],\n",
       "        [1],\n",
       "        [1],\n",
       "        [1],\n",
       "        [1],\n",
       "        [1],\n",
       "        [1],\n",
       "        [1],\n",
       "        [0],\n",
       "        [0],\n",
       "        [0],\n",
       "        [0],\n",
       "        [0],\n",
       "        [0],\n",
       "        [0],\n",
       "        [0],\n",
       "        [0],\n",
       "        [0],\n",
       "        [0],\n",
       "        [0],\n",
       "        [0],\n",
       "        [0],\n",
       "        [0],\n",
       "        [0],\n",
       "        [0],\n",
       "        [0],\n",
       "        [0],\n",
       "        [0],\n",
       "        [0],\n",
       "        [0],\n",
       "        [0],\n",
       "        [0],\n",
       "        [0],\n",
       "        [0],\n",
       "        [0],\n",
       "        [0],\n",
       "        [0],\n",
       "        [0],\n",
       "        [0],\n",
       "        [0],\n",
       "        [0],\n",
       "        [0],\n",
       "        [0],\n",
       "        [0],\n",
       "        [0],\n",
       "        [0],\n",
       "        [0],\n",
       "        [0],\n",
       "        [0],\n",
       "        [0],\n",
       "        [0],\n",
       "        [0],\n",
       "        [0],\n",
       "        [0],\n",
       "        [0],\n",
       "        [0],\n",
       "        [0],\n",
       "        [0],\n",
       "        [0],\n",
       "        [0],\n",
       "        [0],\n",
       "        [0],\n",
       "        [0],\n",
       "        [0],\n",
       "        [0],\n",
       "        [0],\n",
       "        [0],\n",
       "        [0],\n",
       "        [0],\n",
       "        [0],\n",
       "        [0],\n",
       "        [0],\n",
       "        [0],\n",
       "        [1],\n",
       "        [1],\n",
       "        [1],\n",
       "        [1],\n",
       "        [1],\n",
       "        [1],\n",
       "        [1],\n",
       "        [1],\n",
       "        [1],\n",
       "        [1],\n",
       "        [1],\n",
       "        [1],\n",
       "        [1],\n",
       "        [1],\n",
       "        [1],\n",
       "        [1],\n",
       "        [1],\n",
       "        [1],\n",
       "        [1],\n",
       "        [1],\n",
       "        [1],\n",
       "        [1],\n",
       "        [1],\n",
       "        [1],\n",
       "        [1],\n",
       "        [1],\n",
       "        [1],\n",
       "        [1],\n",
       "        [1],\n",
       "        [1],\n",
       "        [1],\n",
       "        [1],\n",
       "        [1],\n",
       "        [1],\n",
       "        [1],\n",
       "        [1],\n",
       "        [1],\n",
       "        [1],\n",
       "        [1],\n",
       "        [1],\n",
       "        [1],\n",
       "        [1],\n",
       "        [1],\n",
       "        [1],\n",
       "        [1],\n",
       "        [1],\n",
       "        [1],\n",
       "        [1],\n",
       "        [1],\n",
       "        [1],\n",
       "        [1],\n",
       "        [1],\n",
       "        [1],\n",
       "        [1],\n",
       "        [1],\n",
       "        [1],\n",
       "        [1],\n",
       "        [1],\n",
       "        [1],\n",
       "        [1],\n",
       "        [1],\n",
       "        [1],\n",
       "        [1],\n",
       "        [1],\n",
       "        [1],\n",
       "        [0],\n",
       "        [0],\n",
       "        [0],\n",
       "        [0],\n",
       "        [0],\n",
       "        [0],\n",
       "        [0],\n",
       "        [0],\n",
       "        [0],\n",
       "        [0],\n",
       "        [0],\n",
       "        [0],\n",
       "        [0],\n",
       "        [0],\n",
       "        [0],\n",
       "        [0],\n",
       "        [0],\n",
       "        [0],\n",
       "        [0],\n",
       "        [0],\n",
       "        [0],\n",
       "        [0],\n",
       "        [0],\n",
       "        [0],\n",
       "        [0],\n",
       "        [0],\n",
       "        [0],\n",
       "        [0],\n",
       "        [0],\n",
       "        [0],\n",
       "        [0],\n",
       "        [0],\n",
       "        [0],\n",
       "        [0],\n",
       "        [0],\n",
       "        [0],\n",
       "        [0],\n",
       "        [0],\n",
       "        [0],\n",
       "        [0],\n",
       "        [0],\n",
       "        [0],\n",
       "        [0],\n",
       "        [0],\n",
       "        [0],\n",
       "        [0],\n",
       "        [0],\n",
       "        [0],\n",
       "        [0],\n",
       "        [0],\n",
       "        [0],\n",
       "        [0],\n",
       "        [0],\n",
       "        [0],\n",
       "        [0],\n",
       "        [0],\n",
       "        [0],\n",
       "        [0],\n",
       "        [0],\n",
       "        [0],\n",
       "        [0],\n",
       "        [1],\n",
       "        [1],\n",
       "        [1],\n",
       "        [1],\n",
       "        [1],\n",
       "        [1],\n",
       "        [1],\n",
       "        [1],\n",
       "        [1],\n",
       "        [1],\n",
       "        [1],\n",
       "        [1],\n",
       "        [1],\n",
       "        [1],\n",
       "        [1],\n",
       "        [1],\n",
       "        [1],\n",
       "        [1],\n",
       "        [1],\n",
       "        [1],\n",
       "        [1],\n",
       "        [1],\n",
       "        [1],\n",
       "        [1],\n",
       "        [1],\n",
       "        [1],\n",
       "        [1],\n",
       "        [1],\n",
       "        [1],\n",
       "        [1],\n",
       "        [1],\n",
       "        [1],\n",
       "        [1],\n",
       "        [1],\n",
       "        [1],\n",
       "        [1],\n",
       "        [1],\n",
       "        [1],\n",
       "        [1],\n",
       "        [1],\n",
       "        [1],\n",
       "        [1],\n",
       "        [1],\n",
       "        [1],\n",
       "        [1],\n",
       "        [1],\n",
       "        [1],\n",
       "        [1],\n",
       "        [1],\n",
       "        [1]], dtype=uint8)}"
      ]
     },
     "execution_count": 31,
     "metadata": {},
     "output_type": "execute_result"
    }
   ],
   "source": [
    "raw_data"
   ]
  },
  {
   "cell_type": "code",
   "execution_count": 32,
   "metadata": {},
   "outputs": [
    {
     "data": {
      "text/html": [
       "<div>\n",
       "<style scoped>\n",
       "    .dataframe tbody tr th:only-of-type {\n",
       "        vertical-align: middle;\n",
       "    }\n",
       "\n",
       "    .dataframe tbody tr th {\n",
       "        vertical-align: top;\n",
       "    }\n",
       "\n",
       "    .dataframe thead th {\n",
       "        text-align: right;\n",
       "    }\n",
       "</style>\n",
       "<table border=\"1\" class=\"dataframe\">\n",
       "  <thead>\n",
       "    <tr style=\"text-align: right;\">\n",
       "      <th></th>\n",
       "      <th>X1</th>\n",
       "      <th>X2</th>\n",
       "      <th>y</th>\n",
       "    </tr>\n",
       "  </thead>\n",
       "  <tbody>\n",
       "    <tr>\n",
       "      <th>0</th>\n",
       "      <td>0.107143</td>\n",
       "      <td>0.603070</td>\n",
       "      <td>1</td>\n",
       "    </tr>\n",
       "    <tr>\n",
       "      <th>1</th>\n",
       "      <td>0.093318</td>\n",
       "      <td>0.649854</td>\n",
       "      <td>1</td>\n",
       "    </tr>\n",
       "    <tr>\n",
       "      <th>2</th>\n",
       "      <td>0.097926</td>\n",
       "      <td>0.705409</td>\n",
       "      <td>1</td>\n",
       "    </tr>\n",
       "    <tr>\n",
       "      <th>3</th>\n",
       "      <td>0.155530</td>\n",
       "      <td>0.784357</td>\n",
       "      <td>1</td>\n",
       "    </tr>\n",
       "    <tr>\n",
       "      <th>4</th>\n",
       "      <td>0.210829</td>\n",
       "      <td>0.866228</td>\n",
       "      <td>1</td>\n",
       "    </tr>\n",
       "  </tbody>\n",
       "</table>\n",
       "</div>"
      ],
      "text/plain": [
       "         X1        X2  y\n",
       "0  0.107143  0.603070  1\n",
       "1  0.093318  0.649854  1\n",
       "2  0.097926  0.705409  1\n",
       "3  0.155530  0.784357  1\n",
       "4  0.210829  0.866228  1"
      ]
     },
     "execution_count": 32,
     "metadata": {},
     "output_type": "execute_result"
    }
   ],
   "source": [
    "new_data = pd.DataFrame({'X1':raw_data['X'][:,0], 'X2':raw_data['X'][:,1], 'y':raw_data['y'].reshape(-1)})\n",
    "new_data.head()"
   ]
  },
  {
   "cell_type": "markdown",
   "metadata": {},
   "source": [
    "Et il faut aussi séparer les exemples positifs et négatifs en deux ensemble différents pour que Matplotlib les affiche en deux couleurs différentes."
   ]
  },
  {
   "cell_type": "code",
   "execution_count": 33,
   "metadata": {},
   "outputs": [],
   "source": [
    "positive = new_data[new_data['y'] == 1]\n",
    "negative = new_data[new_data['y'] == 0]"
   ]
  },
  {
   "cell_type": "code",
   "execution_count": 34,
   "metadata": {},
   "outputs": [
    {
     "data": {
      "text/html": [
       "<div>\n",
       "<style scoped>\n",
       "    .dataframe tbody tr th:only-of-type {\n",
       "        vertical-align: middle;\n",
       "    }\n",
       "\n",
       "    .dataframe tbody tr th {\n",
       "        vertical-align: top;\n",
       "    }\n",
       "\n",
       "    .dataframe thead th {\n",
       "        text-align: right;\n",
       "    }\n",
       "</style>\n",
       "<table border=\"1\" class=\"dataframe\">\n",
       "  <thead>\n",
       "    <tr style=\"text-align: right;\">\n",
       "      <th></th>\n",
       "      <th>X1</th>\n",
       "      <th>X2</th>\n",
       "      <th>y</th>\n",
       "    </tr>\n",
       "  </thead>\n",
       "  <tbody>\n",
       "    <tr>\n",
       "      <th>193</th>\n",
       "      <td>0.372120</td>\n",
       "      <td>0.851608</td>\n",
       "      <td>0</td>\n",
       "    </tr>\n",
       "    <tr>\n",
       "      <th>194</th>\n",
       "      <td>0.351382</td>\n",
       "      <td>0.863304</td>\n",
       "      <td>0</td>\n",
       "    </tr>\n",
       "    <tr>\n",
       "      <th>195</th>\n",
       "      <td>0.305300</td>\n",
       "      <td>0.854532</td>\n",
       "      <td>0</td>\n",
       "    </tr>\n",
       "    <tr>\n",
       "      <th>196</th>\n",
       "      <td>0.323733</td>\n",
       "      <td>0.841374</td>\n",
       "      <td>0</td>\n",
       "    </tr>\n",
       "    <tr>\n",
       "      <th>197</th>\n",
       "      <td>0.289171</td>\n",
       "      <td>0.834064</td>\n",
       "      <td>0</td>\n",
       "    </tr>\n",
       "  </tbody>\n",
       "</table>\n",
       "</div>"
      ],
      "text/plain": [
       "           X1        X2  y\n",
       "193  0.372120  0.851608  0\n",
       "194  0.351382  0.863304  0\n",
       "195  0.305300  0.854532  0\n",
       "196  0.323733  0.841374  0\n",
       "197  0.289171  0.834064  0"
      ]
     },
     "execution_count": 34,
     "metadata": {},
     "output_type": "execute_result"
    }
   ],
   "source": [
    "negative.head()"
   ]
  },
  {
   "cell_type": "markdown",
   "metadata": {},
   "source": [
    "### Visualisation des données"
   ]
  },
  {
   "cell_type": "code",
   "execution_count": 35,
   "metadata": {},
   "outputs": [
    {
     "data": {
      "text/plain": [
       "<matplotlib.legend.Legend at 0x1235962b0>"
      ]
     },
     "execution_count": 35,
     "metadata": {},
     "output_type": "execute_result"
    },
    {
     "data": {
      "image/png": "[encoded data removed]",
      "text/plain": [
       "<Figure size 864x576 with 1 Axes>"
      ]
     },
     "metadata": {},
     "output_type": "display_data"
    }
   ],
   "source": [
    "fig, ax = plt.subplots(figsize=(12,8))\n",
    "ax.scatter(positive['X1'], positive['X2'], s=30, marker='x', label='Positive')\n",
    "ax.scatter(negative['X1'], negative['X2'], s=30, marker='o', label='Negative')\n",
    "ax.legend()"
   ]
  },
  {
   "cell_type": "markdown",
   "metadata": {},
   "source": [
    "### Entraînement du classifieur SVM"
   ]
  },
  {
   "cell_type": "markdown",
   "metadata": {},
   "source": [
    "Scikit learn implémente un SVM qui a déjà un kernel gaussien, appelé RBF. "
   ]
  },
  {
   "cell_type": "markdown",
   "metadata": {},
   "source": [
    "**Transformer sigma en gamma**"
   ]
  },
  {
   "cell_type": "markdown",
   "metadata": {},
   "source": [
    "Nous avons vu avec Andrew Ng que le kernel gaussien prend un paramètre sigma au carré. Or, le modèle de scikit learn fonctionne plutôt avec un paramètre gamma. Pour s'y retrouver un peu mieux, il serait bien de trouver une équivalence entre les deux. Vous trouverez dans la documentation de Scikit Learn la formule de leur kernel RBF et pourrez faire le rapprochement.\n",
    "Ceux qui ne veulent pas s'embêter peuvent simplement fixer gamma à 10."
   ]
  },
  {
   "cell_type": "code",
   "execution_count": 36,
   "metadata": {},
   "outputs": [],
   "source": [
    "def gamma(sigma):\n",
    "    return 1 / (2 * sigma ** 2)"
   ]
  },
  {
   "cell_type": "markdown",
   "metadata": {},
   "source": [
    "**Créez un SVM avec un C de 100 pour commencer. Mettez le paramètre probability=True, nous en aurons beson pour afficher le graphique. **"
   ]
  },
  {
   "cell_type": "code",
   "execution_count": 37,
   "metadata": {},
   "outputs": [],
   "source": [
    "svc_rbf = svm.SVC(C=100.0, probability=True, gamma=gamma(1))"
   ]
  },
  {
   "cell_type": "markdown",
   "metadata": {},
   "source": [
    "**Entraînez le classifieur**"
   ]
  },
  {
   "cell_type": "code",
   "execution_count": 38,
   "metadata": {},
   "outputs": [
    {
     "data": {
      "text/plain": [
       "SVC(C=100.0, cache_size=200, class_weight=None, coef0=0.0,\n",
       "    decision_function_shape='ovr', degree=3, gamma=0.5, kernel='rbf',\n",
       "    max_iter=-1, probability=True, random_state=None, shrinking=True, tol=0.001,\n",
       "    verbose=False)"
      ]
     },
     "execution_count": 38,
     "metadata": {},
     "output_type": "execute_result"
    }
   ],
   "source": [
    "svc_rbf.fit(new_data[['X1','X2']], new_data['y'])"
   ]
  },
  {
   "cell_type": "markdown",
   "metadata": {},
   "source": [
    "### Visualisation de la classification"
   ]
  },
  {
   "cell_type": "code",
   "execution_count": 39,
   "metadata": {},
   "outputs": [
    {
     "data": {
      "text/plain": [
       "array([[0.07863539, 0.92136461],\n",
       "       [0.08672588, 0.91327412],\n",
       "       [0.11473073, 0.88526927],\n",
       "       ...,\n",
       "       [0.07531954, 0.92468046],\n",
       "       [0.05199002, 0.94800998],\n",
       "       [0.04084331, 0.95915669]])"
      ]
     },
     "execution_count": 39,
     "metadata": {},
     "output_type": "execute_result"
    }
   ],
   "source": [
    "svc_rbf.predict_proba(new_data[['X1', 'X2']])"
   ]
  },
  {
   "cell_type": "markdown",
   "metadata": {},
   "source": [
    "Le graphique affiche des couleurs qui correspondent à la probabilité qu'un point soit classifié positif. Faites varier le paramètre sigma2 (ou gamma en l'occurrence) et notez son influence sur ces probabilités, notamment en bordure de la frontière de décision. "
   ]
  },
  {
   "cell_type": "code",
   "execution_count": 40,
   "metadata": {},
   "outputs": [
    {
     "data": {
      "text/plain": [
       "<matplotlib.collections.PathCollection at 0x123bb34a8>"
      ]
     },
     "execution_count": 40,
     "metadata": {},
     "output_type": "execute_result"
    },
    {
     "data": {
      "image/png": "[encoded data removed]",
      "text/plain": [
       "<Figure size 864x576 with 1 Axes>"
      ]
     },
     "metadata": {},
     "output_type": "display_data"
    }
   ],
   "source": [
    "new_data['Probability'] = svc_rbf.predict_proba(new_data[['X1', 'X2']])[:,0]\n",
    "\n",
    "fig, ax = plt.subplots(figsize=(12,8))\n",
    "ax.scatter(new_data['X1'], new_data['X2'], s=30, c=new_data['Probability'], cmap='Reds')"
   ]
  },
  {
   "cell_type": "markdown",
   "metadata": {},
   "source": [
    "## 3- Sélection des paramètres C et sigma"
   ]
  },
  {
   "cell_type": "markdown",
   "metadata": {},
   "source": [
    "L'idée ici est d'entraîner un classifieur sur des données d'entraînement (X et y) avec un C et un sigma donné, puis de tester la performance sur des données dites de validation (Xval et yval). On choisit ensuite les meilleures valeurs."
   ]
  },
  {
   "cell_type": "markdown",
   "metadata": {},
   "source": [
    "### Chargez les données de ex6data3"
   ]
  },
  {
   "cell_type": "code",
   "execution_count": 41,
   "metadata": {},
   "outputs": [],
   "source": [
    "raw_data = loadmat('ex6data3.mat')"
   ]
  },
  {
   "cell_type": "code",
   "execution_count": 42,
   "metadata": {},
   "outputs": [
    {
     "data": {
      "text/plain": [
       "{'__header__': b'MATLAB 5.0 MAT-file, Platform: GLNXA64, Created on: Sun Nov 13 14:29:06 2011',\n",
       " '__version__': '1.0',\n",
       " '__globals__': [],\n",
       " 'X': array([[-1.58986e-01,  4.23977e-01],\n",
       "        [-3.47926e-01,  4.70760e-01],\n",
       "        [-5.04608e-01,  3.53801e-01],\n",
       "        [-5.96774e-01,  1.14035e-01],\n",
       "        [-5.18433e-01, -1.72515e-01],\n",
       "        [-2.92627e-01, -2.07602e-01],\n",
       "        [-1.58986e-01, -4.38596e-02],\n",
       "        [-5.76037e-02,  1.43275e-01],\n",
       "        [-7.14286e-02,  2.71930e-01],\n",
       "        [-2.97235e-01,  3.47953e-01],\n",
       "        [-4.17051e-01,  2.01754e-01],\n",
       "        [-4.40092e-01,  8.77193e-03],\n",
       "        [-3.24885e-01, -3.21637e-02],\n",
       "        [-2.46544e-01,  5.55556e-02],\n",
       "        [-2.18894e-01,  2.01754e-01],\n",
       "        [-3.43318e-01,  1.60819e-01],\n",
       "        [-5.09217e-01,  7.89474e-02],\n",
       "        [-3.84793e-01, -9.06433e-02],\n",
       "        [-1.49770e-01,  1.25731e-01],\n",
       "        [-1.95853e-01,  3.24561e-01],\n",
       "        [-3.91705e-02, -2.19298e-01],\n",
       "        [-1.08295e-01, -3.01170e-01],\n",
       "        [-1.86636e-01, -3.30409e-01],\n",
       "        [-2.18894e-01, -4.23977e-01],\n",
       "        [-8.06452e-02, -5.64327e-01],\n",
       "        [ 6.68203e-02, -5.17544e-01],\n",
       "        [ 9.44700e-02, -3.24561e-01],\n",
       "        [ 1.86636e-01, -1.66667e-01],\n",
       "        [ 6.22120e-02, -7.30994e-02],\n",
       "        [ 2.07373e-02, -1.95906e-01],\n",
       "        [ 2.99539e-02, -3.42105e-01],\n",
       "        [-9.90783e-02, -3.77193e-01],\n",
       "        [-6.91244e-03, -4.64912e-01],\n",
       "        [ 1.31336e-01, -4.29825e-01],\n",
       "        [ 2.32719e-01, -1.95906e-01],\n",
       "        [ 8.52535e-02, -8.47953e-02],\n",
       "        [-1.31336e-01, -2.36842e-01],\n",
       "        [ 2.30415e-03, -1.25731e-01],\n",
       "        [ 1.22120e-01, -2.92398e-03],\n",
       "        [-3.47926e-01, -3.12865e-01],\n",
       "        [-2.28111e-01, -1.25731e-01],\n",
       "        [-7.60369e-02,  1.46199e-02],\n",
       "        [ 4.37788e-02,  2.04678e-02],\n",
       "        [ 1.15207e-02,  1.54971e-01],\n",
       "        [-4.17051e-01, -1.60819e-01],\n",
       "        [-3.15668e-01, -3.18713e-01],\n",
       "        [ 1.26728e-01, -2.19298e-01],\n",
       "        [ 2.05069e-01, -3.12865e-01],\n",
       "        [ 2.18894e-01, -4.59064e-01],\n",
       "        [ 7.14286e-02, -6.46199e-01],\n",
       "        [-1.31336e-01, -6.05263e-01],\n",
       "        [-2.09677e-01, -5.81871e-01],\n",
       "        [-2.28111e-01, -4.29825e-01],\n",
       "        [-1.45161e-01, -4.12281e-01],\n",
       "        [-6.68203e-02, -4.82456e-01],\n",
       "        [ 1.35945e-01, -5.11696e-01],\n",
       "        [ 2.69585e-01, -4.06433e-01],\n",
       "        [ 2.97235e-01, -2.95322e-01],\n",
       "        [ 2.74194e-01, -1.72515e-01],\n",
       "        [ 2.55760e-01, -4.97076e-02],\n",
       "        [ 2.23502e-01, -4.97076e-02],\n",
       "        [ 1.82028e-01, -8.47953e-02],\n",
       "        [ 1.58986e-01, -1.54971e-01],\n",
       "        [ 7.14286e-02, -2.13450e-01],\n",
       "        [ 1.61290e-02, -2.66082e-01],\n",
       "        [-2.53456e-02, -3.83041e-01],\n",
       "        [-1.15207e-02, -4.82456e-01],\n",
       "        [-2.30415e-03, -5.05848e-01],\n",
       "        [ 2.53456e-02, -5.11696e-01],\n",
       "        [ 2.53456e-02, -5.58480e-01],\n",
       "        [ 1.15207e-02, -6.57895e-01],\n",
       "        [-4.83871e-02, -6.46199e-01],\n",
       "        [-8.52535e-02, -5.52632e-01],\n",
       "        [-9.90783e-02, -5.00000e-01],\n",
       "        [-1.61290e-02, -4.23977e-01],\n",
       "        [ 1.31336e-01, -3.59649e-01],\n",
       "        [ 2.23502e-01, -3.71345e-01],\n",
       "        [ 2.92627e-01, -3.01170e-01],\n",
       "        [ 2.60369e-01, -2.07602e-01],\n",
       "        [ 2.00461e-01, -2.25146e-01],\n",
       "        [ 1.72811e-01, -2.71930e-01],\n",
       "        [-1.31336e-01,  9.06433e-02],\n",
       "        [-1.49770e-01,  7.30994e-02],\n",
       "        [-2.41935e-01,  6.14035e-02],\n",
       "        [-3.01843e-01,  1.78363e-01],\n",
       "        [-2.97235e-01,  1.95906e-01],\n",
       "        [-2.74194e-01,  3.07018e-01],\n",
       "        [-3.24885e-01,  2.95322e-01],\n",
       "        [-3.98618e-01,  2.66082e-01],\n",
       "        [-4.35484e-01,  1.60819e-01],\n",
       "        [-4.72350e-01,  7.89474e-02],\n",
       "        [-3.38710e-01,  4.38596e-02],\n",
       "        [-2.69585e-01,  4.38596e-02],\n",
       "        [-2.55760e-01,  1.02339e-01],\n",
       "        [-1.68203e-01,  2.66082e-01],\n",
       "        [-1.12903e-01,  3.01170e-01],\n",
       "        [-3.91705e-02,  3.47953e-01],\n",
       "        [-1.26728e-01,  4.41520e-01],\n",
       "        [-2.32719e-01,  4.41520e-01],\n",
       "        [-3.38710e-01,  4.18129e-01],\n",
       "        [-4.12442e-01,  3.53801e-01],\n",
       "        [-5.09217e-01,  2.19298e-01],\n",
       "        [-5.41475e-01,  1.46199e-02],\n",
       "        [-5.04608e-01, -1.25731e-01],\n",
       "        [-4.90783e-01, -1.43275e-01],\n",
       "        [-3.61751e-01, -1.37427e-01],\n",
       "        [-2.69585e-01, -8.47953e-02],\n",
       "        [-2.23502e-01, -7.89474e-02],\n",
       "        [-1.86636e-01, -3.80117e-02],\n",
       "        [-1.54378e-01, -8.77193e-03],\n",
       "        [-1.12903e-01,  5.55556e-02],\n",
       "        [-8.52535e-02,  1.37427e-01],\n",
       "        [-8.52535e-02,  2.77778e-01],\n",
       "        [-1.68203e-01,  3.01170e-01],\n",
       "        [-1.91244e-01,  1.95906e-01],\n",
       "        [-1.40553e-01, -4.97076e-02],\n",
       "        [-2.99539e-02,  6.72515e-02],\n",
       "        [-2.00461e-01, -2.30994e-01],\n",
       "        [-1.08295e-01, -8.47953e-02],\n",
       "        [ 3.45622e-02,  6.72515e-02],\n",
       "        [ 8.06452e-02,  1.19883e-01],\n",
       "        [-3.85369e-01,  3.30409e-02],\n",
       "        [-3.81221e-01,  1.31287e-01],\n",
       "        [-3.52189e-01,  2.58187e-01],\n",
       "        [-3.54263e-01,  3.64620e-01],\n",
       "        [-4.14401e-01, -6.92982e-02],\n",
       "        [-4.99424e-01, -3.24561e-02],\n",
       "        [-2.98272e-01, -9.79532e-02],\n",
       "        [-3.16935e-01, -1.83918e-01],\n",
       "        [-3.68779e-01, -2.90351e-01],\n",
       "        [-3.56336e-01, -3.96784e-01],\n",
       "        [-2.71313e-01,  4.38596e-03],\n",
       "        [-1.77995e-01,  8.62573e-02],\n",
       "        [-2.46429e-01,  1.43567e-01],\n",
       "        [-2.50576e-01,  2.29532e-01],\n",
       "        [-2.21544e-01,  3.76901e-01],\n",
       "        [-2.15323e-01,  2.95029e-01],\n",
       "        [-1.30300e-01,  2.17251e-01],\n",
       "        [-2.07028e-01,  2.89474e-02],\n",
       "        [-9.71198e-02,  2.13158e-01],\n",
       "        [-3.90553e-02,  2.58187e-01],\n",
       "        [ 1.90092e-02,  4.01462e-01],\n",
       "        [-3.69816e-02,  4.21930e-01],\n",
       "        [-6.39401e-02,  3.31871e-01],\n",
       "        [-1.30300e-01,  3.76901e-01],\n",
       "        [-3.75000e-01, -4.37719e-01],\n",
       "        [-3.95737e-01, -3.51754e-01],\n",
       "        [-3.54263e-01, -2.08480e-01],\n",
       "        [-4.37212e-01, -3.76316e-01],\n",
       "        [-4.80760e-01, -5.03216e-01],\n",
       "        [-4.10253e-01, -4.66374e-01],\n",
       "        [-2.48502e-01, -2.57602e-01],\n",
       "        [-2.27765e-01, -3.14912e-01],\n",
       "        [-2.83756e-01, -3.84503e-01],\n",
       "        [-2.92051e-01, -4.54094e-01],\n",
       "        [-3.37673e-01, -5.19591e-01],\n",
       "        [-2.77535e-01, -5.48246e-01],\n",
       "        [-2.07028e-01, -5.35965e-01],\n",
       "        [-1.86290e-01, -4.78655e-01],\n",
       "        [-1.32373e-01, -5.07310e-01],\n",
       "        [-1.77995e-01, -2.98538e-01],\n",
       "        [-1.65553e-01, -1.75731e-01],\n",
       "        [-1.61406e-01, -1.26608e-01],\n",
       "        [ 3.45622e-04,  2.58187e-01],\n",
       "        [ 7.91475e-02,  3.56433e-01],\n",
       "        [-2.66129e-02,  1.80409e-01],\n",
       "        [-5.35714e-02,  7.80702e-02],\n",
       "        [-1.41705e-02, -5.29240e-02],\n",
       "        [-7.01613e-02, -1.63450e-01],\n",
       "        [-6.39401e-02, -2.94444e-01],\n",
       "        [-3.07604e-02, -4.66374e-01],\n",
       "        [-5.77189e-02, -5.27778e-01],\n",
       "        [-5.35714e-02, -3.96784e-01],\n",
       "        [ 5.21889e-02, -4.17251e-01],\n",
       "        [-1.62442e-02, -1.67544e-01],\n",
       "        [-6.39401e-02, -8.56725e-02],\n",
       "        [-6.18664e-02, -1.60819e-02],\n",
       "        [-3.80184e-03,  4.38596e-03],\n",
       "        [ 4.18203e-02,  2.04971e-01],\n",
       "        [ 7.91475e-02,  1.92690e-01],\n",
       "        [ 4.59677e-02,  2.54094e-01],\n",
       "        [ 1.18548e-01,  1.92690e-01],\n",
       "        [ 1.10253e-01,  8.62573e-02],\n",
       "        [ 1.08180e-01, -6.92982e-02],\n",
       "        [ 1.66244e-01, -2.42690e-02],\n",
       "        [ 1.41359e-01,  6.57895e-02],\n",
       "        [ 1.43433e-01,  1.68129e-01],\n",
       "        [ 1.70392e-01,  1.92690e-01],\n",
       "        [ 1.08180e-01,  2.99123e-01],\n",
       "        [ 1.18548e-01,  3.19591e-01],\n",
       "        [ 1.26843e-01,  3.93275e-01],\n",
       "        [-8.67512e-02,  4.21930e-01],\n",
       "        [-4.73502e-02,  5.07895e-01],\n",
       "        [ 2.52304e-02,  5.20175e-01],\n",
       "        [ 6.25576e-02,  5.52924e-01],\n",
       "        [-5.87558e-03,  4.42398e-01],\n",
       "        [-5.14977e-02,  5.73392e-01],\n",
       "        [-8.05300e-02,  5.07895e-01],\n",
       "        [-1.53111e-01,  5.52924e-01],\n",
       "        [-1.11636e-01,  5.48830e-01],\n",
       "        [-1.63479e-01,  4.91520e-01],\n",
       "        [-2.52650e-01, -1.88012e-01],\n",
       "        [-2.46429e-01, -3.65497e-02],\n",
       "        [-3.21083e-01, -4.33626e-01],\n",
       "        [-3.31452e-01, -6.05556e-01],\n",
       "        [-3.85369e-01, -5.15497e-01],\n",
       "        [-3.99885e-01, -6.21930e-01],\n",
       "        [-1.24078e-01, -1.26608e-01],\n",
       "        [-3.16935e-01, -2.28947e-01],\n",
       "        [-2.94124e-01, -1.34795e-01],\n",
       "        [-1.53111e-01,  1.84503e-01]]),\n",
       " 'y': array([[1],\n",
       "        [1],\n",
       "        [1],\n",
       "        [1],\n",
       "        [1],\n",
       "        [1],\n",
       "        [1],\n",
       "        [1],\n",
       "        [1],\n",
       "        [1],\n",
       "        [1],\n",
       "        [1],\n",
       "        [1],\n",
       "        [1],\n",
       "        [1],\n",
       "        [1],\n",
       "        [1],\n",
       "        [1],\n",
       "        [1],\n",
       "        [1],\n",
       "        [0],\n",
       "        [0],\n",
       "        [0],\n",
       "        [0],\n",
       "        [0],\n",
       "        [0],\n",
       "        [0],\n",
       "        [0],\n",
       "        [0],\n",
       "        [0],\n",
       "        [0],\n",
       "        [0],\n",
       "        [0],\n",
       "        [0],\n",
       "        [0],\n",
       "        [0],\n",
       "        [1],\n",
       "        [1],\n",
       "        [1],\n",
       "        [0],\n",
       "        [0],\n",
       "        [0],\n",
       "        [0],\n",
       "        [0],\n",
       "        [0],\n",
       "        [0],\n",
       "        [0],\n",
       "        [0],\n",
       "        [0],\n",
       "        [0],\n",
       "        [0],\n",
       "        [0],\n",
       "        [0],\n",
       "        [0],\n",
       "        [0],\n",
       "        [0],\n",
       "        [0],\n",
       "        [0],\n",
       "        [0],\n",
       "        [0],\n",
       "        [0],\n",
       "        [0],\n",
       "        [0],\n",
       "        [0],\n",
       "        [0],\n",
       "        [0],\n",
       "        [0],\n",
       "        [0],\n",
       "        [0],\n",
       "        [0],\n",
       "        [0],\n",
       "        [0],\n",
       "        [0],\n",
       "        [0],\n",
       "        [0],\n",
       "        [0],\n",
       "        [0],\n",
       "        [0],\n",
       "        [0],\n",
       "        [0],\n",
       "        [0],\n",
       "        [1],\n",
       "        [1],\n",
       "        [1],\n",
       "        [1],\n",
       "        [1],\n",
       "        [1],\n",
       "        [1],\n",
       "        [1],\n",
       "        [1],\n",
       "        [1],\n",
       "        [1],\n",
       "        [1],\n",
       "        [1],\n",
       "        [1],\n",
       "        [1],\n",
       "        [1],\n",
       "        [1],\n",
       "        [1],\n",
       "        [1],\n",
       "        [1],\n",
       "        [1],\n",
       "        [1],\n",
       "        [1],\n",
       "        [1],\n",
       "        [1],\n",
       "        [1],\n",
       "        [1],\n",
       "        [1],\n",
       "        [1],\n",
       "        [1],\n",
       "        [1],\n",
       "        [1],\n",
       "        [1],\n",
       "        [1],\n",
       "        [1],\n",
       "        [1],\n",
       "        [0],\n",
       "        [0],\n",
       "        [0],\n",
       "        [0],\n",
       "        [1],\n",
       "        [1],\n",
       "        [1],\n",
       "        [1],\n",
       "        [1],\n",
       "        [1],\n",
       "        [1],\n",
       "        [1],\n",
       "        [1],\n",
       "        [1],\n",
       "        [1],\n",
       "        [1],\n",
       "        [1],\n",
       "        [1],\n",
       "        [1],\n",
       "        [1],\n",
       "        [1],\n",
       "        [1],\n",
       "        [1],\n",
       "        [1],\n",
       "        [1],\n",
       "        [1],\n",
       "        [1],\n",
       "        [1],\n",
       "        [1],\n",
       "        [1],\n",
       "        [1],\n",
       "        [1],\n",
       "        [1],\n",
       "        [1],\n",
       "        [0],\n",
       "        [0],\n",
       "        [0],\n",
       "        [0],\n",
       "        [0],\n",
       "        [0],\n",
       "        [0],\n",
       "        [0],\n",
       "        [0],\n",
       "        [0],\n",
       "        [0],\n",
       "        [0],\n",
       "        [0],\n",
       "        [0],\n",
       "        [0],\n",
       "        [0],\n",
       "        [0],\n",
       "        [0],\n",
       "        [0],\n",
       "        [0],\n",
       "        [0],\n",
       "        [0],\n",
       "        [0],\n",
       "        [0],\n",
       "        [0],\n",
       "        [0],\n",
       "        [0],\n",
       "        [0],\n",
       "        [0],\n",
       "        [0],\n",
       "        [0],\n",
       "        [0],\n",
       "        [0],\n",
       "        [0],\n",
       "        [0],\n",
       "        [0],\n",
       "        [0],\n",
       "        [0],\n",
       "        [0],\n",
       "        [0],\n",
       "        [1],\n",
       "        [1],\n",
       "        [1],\n",
       "        [1],\n",
       "        [1],\n",
       "        [1],\n",
       "        [1],\n",
       "        [1],\n",
       "        [1],\n",
       "        [1],\n",
       "        [1],\n",
       "        [1],\n",
       "        [1],\n",
       "        [0],\n",
       "        [1],\n",
       "        [1],\n",
       "        [1],\n",
       "        [1],\n",
       "        [0],\n",
       "        [0]], dtype=uint8),\n",
       " 'yval': array([[0],\n",
       "        [1],\n",
       "        [0],\n",
       "        [0],\n",
       "        [0],\n",
       "        [0],\n",
       "        [0],\n",
       "        [1],\n",
       "        [1],\n",
       "        [1],\n",
       "        [1],\n",
       "        [1],\n",
       "        [0],\n",
       "        [0],\n",
       "        [1],\n",
       "        [0],\n",
       "        [0],\n",
       "        [1],\n",
       "        [0],\n",
       "        [0],\n",
       "        [0],\n",
       "        [0],\n",
       "        [0],\n",
       "        [1],\n",
       "        [0],\n",
       "        [0],\n",
       "        [0],\n",
       "        [0],\n",
       "        [1],\n",
       "        [0],\n",
       "        [0],\n",
       "        [0],\n",
       "        [0],\n",
       "        [0],\n",
       "        [1],\n",
       "        [1],\n",
       "        [1],\n",
       "        [0],\n",
       "        [0],\n",
       "        [0],\n",
       "        [0],\n",
       "        [1],\n",
       "        [0],\n",
       "        [0],\n",
       "        [0],\n",
       "        [1],\n",
       "        [1],\n",
       "        [0],\n",
       "        [0],\n",
       "        [1],\n",
       "        [0],\n",
       "        [1],\n",
       "        [1],\n",
       "        [1],\n",
       "        [1],\n",
       "        [1],\n",
       "        [1],\n",
       "        [1],\n",
       "        [1],\n",
       "        [1],\n",
       "        [0],\n",
       "        [0],\n",
       "        [0],\n",
       "        [1],\n",
       "        [0],\n",
       "        [1],\n",
       "        [1],\n",
       "        [1],\n",
       "        [1],\n",
       "        [0],\n",
       "        [1],\n",
       "        [1],\n",
       "        [0],\n",
       "        [1],\n",
       "        [0],\n",
       "        [1],\n",
       "        [0],\n",
       "        [0],\n",
       "        [0],\n",
       "        [1],\n",
       "        [0],\n",
       "        [0],\n",
       "        [0],\n",
       "        [1],\n",
       "        [0],\n",
       "        [0],\n",
       "        [1],\n",
       "        [1],\n",
       "        [0],\n",
       "        [0],\n",
       "        [0],\n",
       "        [1],\n",
       "        [0],\n",
       "        [1],\n",
       "        [1],\n",
       "        [0],\n",
       "        [1],\n",
       "        [1],\n",
       "        [0],\n",
       "        [0],\n",
       "        [1],\n",
       "        [1],\n",
       "        [0],\n",
       "        [1],\n",
       "        [1],\n",
       "        [1],\n",
       "        [1],\n",
       "        [1],\n",
       "        [1],\n",
       "        [0],\n",
       "        [1],\n",
       "        [0],\n",
       "        [0],\n",
       "        [1],\n",
       "        [0],\n",
       "        [1],\n",
       "        [0],\n",
       "        [1],\n",
       "        [0],\n",
       "        [0],\n",
       "        [0],\n",
       "        [0],\n",
       "        [0],\n",
       "        [0],\n",
       "        [0],\n",
       "        [0],\n",
       "        [0],\n",
       "        [1],\n",
       "        [1],\n",
       "        [1],\n",
       "        [1],\n",
       "        [0],\n",
       "        [1],\n",
       "        [0],\n",
       "        [1],\n",
       "        [1],\n",
       "        [0],\n",
       "        [0],\n",
       "        [1],\n",
       "        [1],\n",
       "        [0],\n",
       "        [0],\n",
       "        [0],\n",
       "        [0],\n",
       "        [0],\n",
       "        [0],\n",
       "        [1],\n",
       "        [0],\n",
       "        [0],\n",
       "        [1],\n",
       "        [0],\n",
       "        [1],\n",
       "        [1],\n",
       "        [0],\n",
       "        [0],\n",
       "        [1],\n",
       "        [0],\n",
       "        [0],\n",
       "        [1],\n",
       "        [0],\n",
       "        [1],\n",
       "        [0],\n",
       "        [1],\n",
       "        [0],\n",
       "        [0],\n",
       "        [0],\n",
       "        [0],\n",
       "        [0],\n",
       "        [1],\n",
       "        [1],\n",
       "        [0],\n",
       "        [0],\n",
       "        [0],\n",
       "        [0],\n",
       "        [1],\n",
       "        [1],\n",
       "        [0],\n",
       "        [0],\n",
       "        [0],\n",
       "        [1],\n",
       "        [0],\n",
       "        [0],\n",
       "        [1],\n",
       "        [1],\n",
       "        [1],\n",
       "        [0],\n",
       "        [0],\n",
       "        [1],\n",
       "        [0],\n",
       "        [1],\n",
       "        [0],\n",
       "        [0],\n",
       "        [1],\n",
       "        [1],\n",
       "        [1],\n",
       "        [1],\n",
       "        [0],\n",
       "        [0],\n",
       "        [0],\n",
       "        [0]], dtype=uint8),\n",
       " 'Xval': array([[-0.35306235, -0.67390181],\n",
       "        [-0.2271258 ,  0.44731976],\n",
       "        [ 0.09289767, -0.75352419],\n",
       "        [ 0.14824252, -0.71847308],\n",
       "        [-0.00151249,  0.16292786],\n",
       "        [ 0.04533501,  0.20982573],\n",
       "        [ 0.14434613, -0.68720754],\n",
       "        [-0.13807064,  0.55241732],\n",
       "        [-0.16385952,  0.11134314],\n",
       "        [-0.19535742,  0.4011457 ],\n",
       "        [ 0.1863405 ,  0.52186234],\n",
       "        [-0.49340321,  0.06007882],\n",
       "        [-0.0918527 , -0.12178156],\n",
       "        [-0.10428124, -0.54557988],\n",
       "        [-0.20888058,  0.15980217],\n",
       "        [ 0.24239325, -0.44476841],\n",
       "        [ 0.14986252, -0.10482911],\n",
       "        [-0.49949386,  0.01644946],\n",
       "        [ 0.14708703,  0.17669485],\n",
       "        [-0.20265487, -0.18450312],\n",
       "        [ 0.09335189, -0.08481748],\n",
       "        [ 0.11339545,  0.20626961],\n",
       "        [ 0.25152129, -0.24962124],\n",
       "        [-0.07166737,  0.38027844],\n",
       "        [ 0.18055064, -0.49845242],\n",
       "        [-0.18110124, -0.7543908 ],\n",
       "        [ 0.27785389,  0.24844372],\n",
       "        [-0.01327092, -0.48747145],\n",
       "        [-0.01502107,  0.36967342],\n",
       "        [-0.00308691,  0.21570428],\n",
       "        [ 0.2141149 ,  0.4517632 ],\n",
       "        [ 0.04526842, -0.62350648],\n",
       "        [-0.13417062, -0.75042241],\n",
       "        [-0.05519283, -0.08569443],\n",
       "        [-0.45642962,  0.30457343],\n",
       "        [-0.44930938,  0.2521395 ],\n",
       "        [-0.33460047,  0.28108967],\n",
       "        [ 0.14155288, -0.68735638],\n",
       "        [-0.24788379, -0.44652464],\n",
       "        [-0.04867248, -0.79481614],\n",
       "        [-0.19644304, -0.60949512],\n",
       "        [-0.49903366, -0.48378051],\n",
       "        [-0.04108153, -0.33717187],\n",
       "        [-0.28101764, -0.02116391],\n",
       "        [-0.1756489 , -0.16079769],\n",
       "        [-0.46788726, -0.03606064],\n",
       "        [-0.41606452,  0.50923811],\n",
       "        [ 0.29091938,  0.00281817],\n",
       "        [ 0.02219132,  0.10162396],\n",
       "        [-0.42158567,  0.39027243],\n",
       "        [ 0.1312701 , -0.19991088],\n",
       "        [-0.41008228, -0.67280407],\n",
       "        [-0.35553717,  0.27731659],\n",
       "        [-0.35760857,  0.52170388],\n",
       "        [-0.30571571,  0.38303523],\n",
       "        [-0.02607286,  0.37125026],\n",
       "        [-0.11757221, -0.02881462],\n",
       "        [-0.24149786, -0.04582353],\n",
       "        [-0.18033413,  0.00628885],\n",
       "        [ 0.26392833, -0.19920115],\n",
       "        [-0.32814337, -0.62828486],\n",
       "        [-0.29850456, -0.71993032],\n",
       "        [-0.11643577, -0.41548515],\n",
       "        [-0.46780346, -0.11866615],\n",
       "        [ 0.06911927, -0.51905734],\n",
       "        [-0.04271503,  0.33006558],\n",
       "        [-0.3385095 ,  0.07544364],\n",
       "        [-0.16095543,  0.15532539],\n",
       "        [-0.07511389,  0.52723462],\n",
       "        [-0.42933428, -0.32823455],\n",
       "        [-0.16383887,  0.59636143],\n",
       "        [-0.45116398, -0.36885502],\n",
       "        [ 0.0477326 ,  0.08964546],\n",
       "        [-0.20718875,  0.029608  ],\n",
       "        [ 0.12999743, -0.76144357],\n",
       "        [-0.17031431,  0.26024428],\n",
       "        [ 0.16669776, -0.66180432],\n",
       "        [ 0.10966868, -0.02214623],\n",
       "        [ 0.02952713,  0.1205507 ],\n",
       "        [-0.38108519, -0.68066679],\n",
       "        [-0.03730684, -0.16967073],\n",
       "        [ 0.23863706, -0.33979185],\n",
       "        [ 0.1794064 ,  0.36614806],\n",
       "        [-0.44541368,  0.48773358],\n",
       "        [-0.13173944, -0.37301885],\n",
       "        [ 0.25816653,  0.3214765 ],\n",
       "        [-0.17144475, -0.05436293],\n",
       "        [ 0.0223521 ,  0.46044783],\n",
       "        [ 0.2175178 , -0.64838015],\n",
       "        [ 0.16482247, -0.56009307],\n",
       "        [ 0.10561683, -0.47356917],\n",
       "        [-0.4963785 , -0.53039871],\n",
       "        [-0.2907698 ,  0.39282998],\n",
       "        [-0.35518369, -0.19033134],\n",
       "        [-0.11756326,  0.45045063],\n",
       "        [ 0.2124443 ,  0.24409336],\n",
       "        [-0.33588692, -0.42208135],\n",
       "        [-0.21834424,  0.42598976],\n",
       "        [ 0.2664948 , -0.41708775],\n",
       "        [ 0.01073067,  0.1157563 ],\n",
       "        [ 0.14320849,  0.57290223],\n",
       "        [-0.49639587,  0.24764736],\n",
       "        [ 0.01985078, -0.3142498 ],\n",
       "        [-0.49432988,  0.40264768],\n",
       "        [-0.10664757, -0.00867353],\n",
       "        [-0.00319048,  0.50973211],\n",
       "        [-0.42560461,  0.21494326],\n",
       "        [ 0.01205282,  0.43847113],\n",
       "        [-0.42333424, -0.22920959],\n",
       "        [-0.18530875, -0.21966031],\n",
       "        [-0.21421786,  0.57175744],\n",
       "        [-0.31768577, -0.34148012],\n",
       "        [ 0.14291722,  0.08564325],\n",
       "        [-0.32157713,  0.15996528],\n",
       "        [-0.08101309,  0.01944172],\n",
       "        [-0.25938858, -0.05106505],\n",
       "        [-0.01728897, -0.57578078],\n",
       "        [-0.00865689,  0.40091322],\n",
       "        [ 0.0123751 , -0.27619353],\n",
       "        [ 0.2679647 , -0.49294225],\n",
       "        [-0.2220084 , -0.28870081],\n",
       "        [ 0.17236739, -0.47234967],\n",
       "        [ 0.13126105, -0.23841632],\n",
       "        [ 0.24179202, -0.23915142],\n",
       "        [ 0.1222105 , -0.18139411],\n",
       "        [ 0.05346095, -0.05415873],\n",
       "        [-0.2122828 , -0.49059782],\n",
       "        [-0.40454458, -0.53062928],\n",
       "        [-0.37627313, -0.36278139],\n",
       "        [-0.40516269,  0.00920269],\n",
       "        [-0.3576407 , -0.18299568],\n",
       "        [-0.05349795, -0.53677784],\n",
       "        [-0.29150432, -0.03586948],\n",
       "        [ 0.20878861, -0.21603988],\n",
       "        [-0.02555617,  0.26925529],\n",
       "        [-0.44039164, -0.7207657 ],\n",
       "        [ 0.19021425, -0.7314299 ],\n",
       "        [ 0.12623856, -0.4287631 ],\n",
       "        [-0.33099112, -0.01338599],\n",
       "        [-0.31851586,  0.06686597],\n",
       "        [-0.16257604, -0.72654767],\n",
       "        [ 0.00302448, -0.71336776],\n",
       "        [-0.09090669, -0.48357423],\n",
       "        [ 0.16334486,  0.29270667],\n",
       "        [ 0.11745137, -0.10436159],\n",
       "        [ 0.05169295, -0.49777696],\n",
       "        [-0.43946652,  0.24581507],\n",
       "        [ 0.20343101,  0.00870498],\n",
       "        [ 0.24735643,  0.06879417],\n",
       "        [-0.28638208,  0.12963342],\n",
       "        [ 0.03336897, -0.67034231],\n",
       "        [-0.22278369, -0.14869216],\n",
       "        [-0.27930754,  0.43238638],\n",
       "        [ 0.10390813,  0.10306382],\n",
       "        [-0.22047998, -0.76702369],\n",
       "        [-0.22122989,  0.02037055],\n",
       "        [ 0.10595997, -0.12451613],\n",
       "        [ 0.00536441,  0.10208984],\n",
       "        [-0.18630331,  0.08037445],\n",
       "        [ 0.07871049,  0.04847465],\n",
       "        [-0.03904464,  0.18299267],\n",
       "        [ 0.02897219, -0.02251376],\n",
       "        [-0.24701344,  0.35259805],\n",
       "        [ 0.26144865,  0.38051718],\n",
       "        [-0.1457531 , -0.46868559],\n",
       "        [ 0.0298899 ,  0.10126281],\n",
       "        [-0.20212221, -0.3266953 ],\n",
       "        [ 0.13433263, -0.63985405],\n",
       "        [-0.40741669,  0.55315944],\n",
       "        [-0.40943778,  0.46177788],\n",
       "        [ 0.25701656, -0.52299972],\n",
       "        [ 0.11003269, -0.52541811],\n",
       "        [ 0.25896689, -0.45826105],\n",
       "        [ 0.15383051,  0.10749309],\n",
       "        [-0.14735839,  0.44665931],\n",
       "        [ 0.14736828, -0.41425849],\n",
       "        [-0.03874009, -0.48927081],\n",
       "        [ 0.2255192 ,  0.27762013],\n",
       "        [ 0.26950824, -0.66565116],\n",
       "        [ 0.12482879,  0.50814405],\n",
       "        [ 0.17162781, -0.42429453],\n",
       "        [ 0.005052  , -0.04760931],\n",
       "        [-0.35458825,  0.37126309],\n",
       "        [-0.47738659, -0.68693223],\n",
       "        [-0.24116903,  0.28161654],\n",
       "        [ 0.09375793, -0.77221995],\n",
       "        [-0.29988892, -0.67487155],\n",
       "        [-0.16247809,  0.17209416],\n",
       "        [ 0.19682557, -0.14566765],\n",
       "        [-0.34801539, -0.2592839 ],\n",
       "        [ 0.14035793, -0.68428925],\n",
       "        [-0.04634861, -0.14915378],\n",
       "        [-0.23929465,  0.56220974],\n",
       "        [-0.45785597,  0.25374027],\n",
       "        [-0.10819348,  0.59753216],\n",
       "        [ 0.00520265, -0.54444942],\n",
       "        [ 0.17635156, -0.57245363],\n",
       "        [ 0.127651  , -0.34093757],\n",
       "        [ 0.24868221, -0.49750183],\n",
       "        [-0.31689909, -0.42941273]])}"
      ]
     },
     "execution_count": 42,
     "metadata": {},
     "output_type": "execute_result"
    }
   ],
   "source": [
    "raw_data"
   ]
  },
  {
   "cell_type": "markdown",
   "metadata": {},
   "source": [
    "### Séparez les différentes données"
   ]
  },
  {
   "cell_type": "code",
   "execution_count": 43,
   "metadata": {},
   "outputs": [
    {
     "data": {
      "text/plain": [
       "(200,)"
      ]
     },
     "execution_count": 43,
     "metadata": {},
     "output_type": "execute_result"
    }
   ],
   "source": [
    "train_x = raw_data['X']\n",
    "train_y = raw_data['y'].reshape(-1)\n",
    "test_x = raw_data['Xval']\n",
    "test_y = raw_data['yval'].reshape(-1)\n",
    "test_y.shape"
   ]
  },
  {
   "cell_type": "markdown",
   "metadata": {},
   "source": [
    "### Définissez des listes de valeurs de C et de sigma sur lesquelles vous allez itérer (0.01, 0.03, 0.1, 0.3.... 30)"
   ]
  },
  {
   "cell_type": "code",
   "execution_count": 78,
   "metadata": {},
   "outputs": [],
   "source": [
    "C_values = np.random.uniform(low=0.0, high=50.0, size=(50,))\n",
    "sigma_values = np.random.uniform(low=0.2, high=10, size=(50,))"
   ]
  },
  {
   "cell_type": "code",
   "execution_count": 79,
   "metadata": {},
   "outputs": [
    {
     "data": {
      "text/plain": [
       "array([31.15551698, 24.31699776,  0.42913255,  8.32216826, 34.94745929,\n",
       "       12.86545741, 23.20319841, 22.48147839, 28.85932295, 27.38813398,\n",
       "       23.30132612, 30.56777748, 48.77416779, 17.46019114, 23.20148883,\n",
       "       27.66284705, 16.12068727, 30.25599041,  3.64081686, 16.74924377,\n",
       "       46.63794122,  4.59635193, 40.4229428 , 28.08930648, 12.84557298,\n",
       "        9.88405074, 25.79485044, 18.86433935, 41.74010922, 26.70411284,\n",
       "       45.98885493, 48.11246236,  9.26591117, 43.81254809, 40.86339438,\n",
       "       37.04923977, 26.50043927, 20.24278825, 12.94491015, 15.21524811,\n",
       "       42.23200451, 16.68701272, 43.98879503, 12.35339462, 38.9807023 ,\n",
       "       37.16127014, 20.59060151, 15.03683949, 33.53449688, 27.40141035])"
      ]
     },
     "execution_count": 79,
     "metadata": {},
     "output_type": "execute_result"
    }
   ],
   "source": [
    "C_values"
   ]
  },
  {
   "cell_type": "markdown",
   "metadata": {},
   "source": [
    "### Testez systématiquement toutes les combinaisons possibles de C et sigma pour un classifieur donné et choisissez les meilleurs paramètres, et leur score associé."
   ]
  },
  {
   "cell_type": "markdown",
   "metadata": {},
   "source": [
    "Rappelez-vous, pour chaque paramétrage, ça se fait en deux étapes: d'abord on entraîne avec les données d'entraînement, puis on teste la performance avec les données de validation."
   ]
  },
  {
   "cell_type": "code",
   "execution_count": 80,
   "metadata": {},
   "outputs": [],
   "source": [
    "def metrics(result, test_y):\n",
    "    TP = np.sum(result * test_y)\n",
    "    FP = np.sum(result[test_y == 0])\n",
    "    FN = np.sum(result[test_y == 1] == 0)\n",
    "    return TP, FP, FN\n",
    "\n",
    "def get_precision(TP, FP):\n",
    "    return TP / (TP + FP)\n",
    "\n",
    "def get_recall(TP, FN):\n",
    "    return TP / (TP + FN)\n",
    "\n",
    "def get_score(TP, FP, FN):\n",
    "    P = get_precision(TP, FP)\n",
    "    R = get_recall(TP, FN)\n",
    "    return 2 * P * R / (P + R)\n",
    "\n",
    "def training(C, sigma):\n",
    "    svc = svm.SVC(C=C, gamma=gamma(sigma))\n",
    "    svc.fit(train_x, train_y)\n",
    "    test_result = svc.predict(test_x)\n",
    "    TP, FP, FN = metrics(test_result, test_y)\n",
    "    return (get_score(TP, FP, FN), C, sigma)\n",
    "\n",
    "\n",
    "J_score = []\n",
    "for C, s in zip(C_values, sigma_values):\n",
    "    J_score.append(training(C, s))\n",
    "    \n",
    "\n"
   ]
  },
  {
   "cell_type": "code",
   "execution_count": 81,
   "metadata": {},
   "outputs": [
    {
     "data": {
      "text/plain": [
       "[(0.941860465116279, 24.3169977564804, 0.41088548608855324),\n",
       " (0.9248554913294798, 42.23200451404522, 5.369546802185004),\n",
       " (0.9248554913294798, 27.401410350708172, 3.501699837791553),\n",
       " (0.9230769230769231, 48.77416778828973, 2.6402736356823917),\n",
       " (0.9230769230769231, 23.201488825428317, 1.6121207823901003),\n",
       " (0.9230769230769231, 46.637941223149895, 2.2650234126419857),\n",
       " (0.9230769230769231, 12.845572977218723, 1.2088399776798102),\n",
       " (0.9230769230769231, 25.794850435150906, 2.139384190016155),\n",
       " (0.9230769230769231, 43.812548092329585, 1.8994038684550374),\n",
       " (0.9230769230769231, 40.86339438223984, 2.273908307934983),\n",
       " (0.9230769230769231, 15.215248111670054, 1.3789183616082756),\n",
       " (0.9195402298850575, 34.947459292333605, 4.20033405215356),\n",
       " (0.9166666666666666, 45.98885493496817, 1.6558480817238033),\n",
       " (0.9166666666666666, 37.04923976745044, 0.9256718585031243),\n",
       " (0.9166666666666666, 43.988795030914346, 1.652914914482793),\n",
       " (0.9152542372881356, 4.596351929401826, 1.5868042934915385),\n",
       " (0.9142857142857144, 16.68701271945967, 4.082075445750669),\n",
       " (0.912280701754386, 31.155516979050944, 2.6705992019774776),\n",
       " (0.912280701754386, 30.255990413110545, 2.8837560743481947),\n",
       " (0.912280701754386, 20.590601505751536, 2.5722987345815524),\n",
       " (0.912280701754386, 33.534496881807584, 3.3382949171696916),\n",
       " (0.9101796407185629, 22.481478385655024, 0.9339148754417324),\n",
       " (0.9101796407185629, 48.11246235514686, 1.5245999311513352),\n",
       " (0.9080459770114943, 27.38813398411392, 5.421142111827666),\n",
       " (0.9017341040462429, 17.46019113649227, 5.564758522925084),\n",
       " (0.9017341040462429, 16.120687273399266, 5.234204002638567),\n",
       " (0.9017341040462429, 41.740109217105314, 7.225677245609067),\n",
       " (0.896551724137931, 23.203198407831664, 6.824806231420035),\n",
       " (0.896551724137931, 23.301326117246273, 5.8368071264990675),\n",
       " (0.896551724137931, 30.56777747610052, 7.784151601683791),\n",
       " (0.896551724137931, 16.749243766034894, 5.769989636452148),\n",
       " (0.896551724137931, 40.422942797386966, 9.095167705953388),\n",
       " (0.896551724137931, 28.08930647970825, 6.583037070109294),\n",
       " (0.896551724137931, 18.864339351442116, 5.363740542862381),\n",
       " (0.896551724137931, 26.50043927296562, 7.536528521207755),\n",
       " (0.896551724137931, 12.944910146468569, 5.0545183142227375),\n",
       " (0.896551724137931, 38.9807022981946, 9.059790775584267),\n",
       " (0.8863636363636365, 28.859322951419802, 8.074697075973706),\n",
       " (0.8863636363636365, 27.662847052325656, 7.970929019559629),\n",
       " (0.8863636363636365, 26.704112839089856, 9.118852012906551),\n",
       " (0.8863636363636365, 37.16127013696114, 9.71162784320998),\n",
       " (0.8863636363636365, 15.03683948515132, 5.876626928190413),\n",
       " (0.8700564971751412, 20.24278824880565, 9.209460491744727),\n",
       " (0.850828729281768, 12.353394624269697, 8.100224832357),\n",
       " (0.8333333333333334, 8.3221682556599, 8.694146455838593),\n",
       " (0.8333333333333334, 12.865457405860209, 8.97953963162631),\n",
       " (0.8333333333333334, 9.265911174220898, 7.665884944025895),\n",
       " (0.8287292817679558, 9.884050738753986, 9.606560431236502),\n",
       " (0.8021978021978021, 3.640816855290402, 7.952805639405169),\n",
       " (0.6062717770034843, 0.42913255215622503, 8.662276606347973)]"
      ]
     },
     "execution_count": 81,
     "metadata": {},
     "output_type": "execute_result"
    }
   ],
   "source": [
    "sorted(J_score, key=lambda x: x[0], reverse=True)"
   ]
  },
  {
   "cell_type": "code",
   "execution_count": null,
   "metadata": {},
   "outputs": [],
   "source": []
  }
 ],
 "metadata": {
  "kernelspec": {
   "display_name": "Python 3",
   "language": "python",
   "name": "python3"
  },
  "language_info": {
   "codemirror_mode": {
    "name": "ipython",
    "version": 3
   },
   "file_extension": ".py",
   "mimetype": "text/x-python",
   "name": "python",
   "nbconvert_exporter": "python",
   "pygments_lexer": "ipython3",
   "version": "3.7.3"
  }
 },
 "nbformat": 4,
 "nbformat_minor": 1
}
