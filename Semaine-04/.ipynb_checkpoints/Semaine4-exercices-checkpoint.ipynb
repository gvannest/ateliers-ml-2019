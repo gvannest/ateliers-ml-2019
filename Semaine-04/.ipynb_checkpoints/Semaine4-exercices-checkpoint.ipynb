{
 "cells": [
  {
   "cell_type": "markdown",
   "metadata": {},
   "source": [
    "# Régression logistique - Exercices tirés du MOOC d'Andrew Ng"
   ]
  },
  {
   "cell_type": "markdown",
   "metadata": {},
   "source": [
    "## Chargement des données"
   ]
  },
  {
   "cell_type": "markdown",
   "metadata": {},
   "source": [
    "Le jeu de données représente les chances de différents étudiants d'être admis à un programme universitaire en fonction de leurs résultats à deux examens"
   ]
  },
  {
   "cell_type": "markdown",
   "metadata": {},
   "source": [
    "### Charger les données du fichier ex2data1.csv"
   ]
  },
  {
   "cell_type": "code",
   "execution_count": 37,
   "metadata": {},
   "outputs": [],
   "source": [
    "import numpy as np\n",
    "import pandas as pd\n",
    "import matplotlib.pyplot as plt\n",
    "import seaborn as sns"
   ]
  },
  {
   "cell_type": "code",
   "execution_count": null,
   "metadata": {},
   "outputs": [],
   "source": []
  },
  {
   "cell_type": "code",
   "execution_count": 38,
   "metadata": {},
   "outputs": [],
   "source": [
    "data = pd.read_csv(\"ex2data1.csv\")"
   ]
  },
  {
   "cell_type": "code",
   "execution_count": 39,
   "metadata": {},
   "outputs": [
    {
     "data": {
      "text/plain": [
       "Index(['exam1', 'exam2', 'admission'], dtype='object')"
      ]
     },
     "execution_count": 39,
     "metadata": {},
     "output_type": "execute_result"
    }
   ],
   "source": [
    "data.columns"
   ]
  },
  {
   "cell_type": "code",
   "execution_count": 40,
   "metadata": {},
   "outputs": [
    {
     "data": {
      "text/plain": [
       "[Text(0, 0, 'not admitted'), Text(0, 0, 'admitted')]"
      ]
     },
     "execution_count": 40,
     "metadata": {},
     "output_type": "execute_result"
    },
    {
     "data": {
      "image/png": "[encoded data removed]",
      "text/plain": [
       "<Figure size 360x360 with 1 Axes>"
      ]
     },
     "metadata": {
      "needs_background": "light"
     },
     "output_type": "display_data"
    }
   ],
   "source": [
    "g = sns.lmplot(x=\"exam1\", y=\"exam2\", data=data, fit_reg=False, hue='admission', legend=False)\n",
    "plt.legend(loc='upper right')\n",
    "leg = g.axes.flat[0].get_legend()\n",
    "new_labels = ['not admitted', 'admitted']\n",
    "for t, l in zip(leg.texts, new_labels): t.set_text(l)\n",
    "leg.texts"
   ]
  },
  {
   "cell_type": "markdown",
   "metadata": {},
   "source": [
    "### Visualiser les données"
   ]
  },
  {
   "cell_type": "markdown",
   "metadata": {},
   "source": [
    "Cette semaine nous vous fournissons la visualisation des données, mais normalement vous auriez à produire un graphe semblable avec matplotlib."
   ]
  },
  {
   "cell_type": "markdown",
   "metadata": {},
   "source": [
    "<img src=\"figure-1.png\">"
   ]
  },
  {
   "cell_type": "markdown",
   "metadata": {},
   "source": [
    "### Découpez vos données en une matrice X et un vecteur y et transformerz-les en array numpy"
   ]
  },
  {
   "cell_type": "code",
   "execution_count": 41,
   "metadata": {},
   "outputs": [
    {
     "data": {
      "text/html": [
       "<div>\n",
       "<style scoped>\n",
       "    .dataframe tbody tr th:only-of-type {\n",
       "        vertical-align: middle;\n",
       "    }\n",
       "\n",
       "    .dataframe tbody tr th {\n",
       "        vertical-align: top;\n",
       "    }\n",
       "\n",
       "    .dataframe thead th {\n",
       "        text-align: right;\n",
       "    }\n",
       "</style>\n",
       "<table border=\"1\" class=\"dataframe\">\n",
       "  <thead>\n",
       "    <tr style=\"text-align: right;\">\n",
       "      <th></th>\n",
       "      <th>exam1</th>\n",
       "      <th>exam2</th>\n",
       "      <th>admission</th>\n",
       "    </tr>\n",
       "  </thead>\n",
       "  <tbody>\n",
       "    <tr>\n",
       "      <th>0</th>\n",
       "      <td>34.623660</td>\n",
       "      <td>78.024693</td>\n",
       "      <td>0</td>\n",
       "    </tr>\n",
       "    <tr>\n",
       "      <th>1</th>\n",
       "      <td>30.286711</td>\n",
       "      <td>43.894998</td>\n",
       "      <td>0</td>\n",
       "    </tr>\n",
       "    <tr>\n",
       "      <th>2</th>\n",
       "      <td>35.847409</td>\n",
       "      <td>72.902198</td>\n",
       "      <td>0</td>\n",
       "    </tr>\n",
       "    <tr>\n",
       "      <th>3</th>\n",
       "      <td>60.182599</td>\n",
       "      <td>86.308552</td>\n",
       "      <td>1</td>\n",
       "    </tr>\n",
       "    <tr>\n",
       "      <th>4</th>\n",
       "      <td>79.032736</td>\n",
       "      <td>75.344376</td>\n",
       "      <td>1</td>\n",
       "    </tr>\n",
       "  </tbody>\n",
       "</table>\n",
       "</div>"
      ],
      "text/plain": [
       "       exam1      exam2  admission\n",
       "0  34.623660  78.024693          0\n",
       "1  30.286711  43.894998          0\n",
       "2  35.847409  72.902198          0\n",
       "3  60.182599  86.308552          1\n",
       "4  79.032736  75.344376          1"
      ]
     },
     "execution_count": 41,
     "metadata": {},
     "output_type": "execute_result"
    }
   ],
   "source": [
    "data.head()"
   ]
  },
  {
   "cell_type": "code",
   "execution_count": 42,
   "metadata": {},
   "outputs": [],
   "source": [
    "X = data.values[:,:2]\n",
    "X = np.c_[np.ones(X.shape[0]),X]\n",
    "y = data.values[:,2]"
   ]
  },
  {
   "cell_type": "code",
   "execution_count": 43,
   "metadata": {},
   "outputs": [
    {
     "data": {
      "text/plain": [
       "((100, 3), (100,))"
      ]
     },
     "execution_count": 43,
     "metadata": {},
     "output_type": "execute_result"
    }
   ],
   "source": [
    "X.shape, y.shape"
   ]
  },
  {
   "cell_type": "markdown",
   "metadata": {},
   "source": [
    "Vérifiez bien les dimensions de vos structures de données (X.shape)  \n",
    "Rappelez-vous qu'il est judicieux de fixer les dimensions des vecteurs, par ex. (3,) avec la fonction reshape(3,1).\n",
    "La matrice X doit-elle être de dimensions m x n ou bien m x (n+1) ? Quelle est la valeur de n?"
   ]
  },
  {
   "cell_type": "markdown",
   "metadata": {},
   "source": [
    "m x (n + 1) car il faut rajouter une colonne de 1 qui permettra de faire les operations matricielles avec theta0\n",
    "la valeur de n est le nombre de features soit ici 2 (exam1 et exam2)\n",
    "\n",
    "\n",
    "\n",
    "\n"
   ]
  },
  {
   "cell_type": "markdown",
   "metadata": {},
   "source": [
    "### Initialisez theta en un vecteur de zéros"
   ]
  },
  {
   "cell_type": "markdown",
   "metadata": {},
   "source": [
    "Combien de zéros vous faudra-t-il....?"
   ]
  },
  {
   "cell_type": "code",
   "execution_count": 44,
   "metadata": {},
   "outputs": [],
   "source": [
    "theta = np.zeros(X.shape[1])"
   ]
  },
  {
   "cell_type": "code",
   "execution_count": 45,
   "metadata": {},
   "outputs": [
    {
     "data": {
      "text/plain": [
       "(3,)"
      ]
     },
     "execution_count": 45,
     "metadata": {},
     "output_type": "execute_result"
    }
   ],
   "source": [
    "theta.shape"
   ]
  },
  {
   "cell_type": "markdown",
   "metadata": {},
   "source": [
    "## Formulation de l'hypothèse"
   ]
  },
  {
   "cell_type": "markdown",
   "metadata": {},
   "source": [
    "Revoyez l'équation de l'hypothèse de la régression logistique. Le produit de theta et de X est enveloppé dans une fonction g(z) qui correspond à la fonction sigmoïde. Nous allons commencer par coder cette fonction."
   ]
  },
  {
   "cell_type": "markdown",
   "metadata": {},
   "source": [
    "### Écrivez une fonction _sigmoid_ qui applique la sigmoïde à son argument et retourne le résultat. Si elle reçoit une matrice ou un vecteur en input, elle doit s'appliquer sur chaque élément individuellement et retourner une structure de mêmes dimensions"
   ]
  },
  {
   "cell_type": "code",
   "execution_count": 46,
   "metadata": {},
   "outputs": [],
   "source": [
    "def sigmoid(z):\n",
    "    return 1 / (1 + np.exp(-z))\n",
    "    "
   ]
  },
  {
   "cell_type": "markdown",
   "metadata": {},
   "source": [
    "Vérifiez votre fonction. Quelle valeur renvoie une sigmoïde si z=0? Si z est grand? Si z est petit?  \n",
    "Il est possible que vous ayez un bug lorsque la fonction exponentielle reçoit des valeurs trop grandes. Dans ce cas vous pourrez éventuellement remplacer votre fonction sigmoïde par celle de scipy pour éviter des problèmes dans le reste de votre implémentation."
   ]
  },
  {
   "cell_type": "code",
   "execution_count": 47,
   "metadata": {},
   "outputs": [],
   "source": [
    "def FeatureScaleNormalize(X):\n",
    "    mean = X.mean(axis=0)\n",
    "    stdev = X.std(axis=0)\n",
    "    X = (X - mean) / stdev\n",
    "    return X, mean, stdev"
   ]
  },
  {
   "cell_type": "code",
   "execution_count": 48,
   "metadata": {},
   "outputs": [],
   "source": [
    "X[:,1:], mean, stdev = FeatureScaleNormalize(X[:,1:])"
   ]
  },
  {
   "cell_type": "code",
   "execution_count": 49,
   "metadata": {},
   "outputs": [
    {
     "data": {
      "text/plain": [
       "array([[ 1.        , -1.60224763,  0.63834112],\n",
       "       [ 1.        , -1.82625564, -1.2075414 ],\n",
       "       [ 1.        , -1.53903969,  0.3612943 ],\n",
       "       [ 1.        , -0.28210129,  1.0863683 ],\n",
       "       [ 1.        ,  0.69152826,  0.49337794]])"
      ]
     },
     "execution_count": 49,
     "metadata": {},
     "output_type": "execute_result"
    }
   ],
   "source": [
    "X[:5,:]"
   ]
  },
  {
   "cell_type": "markdown",
   "metadata": {},
   "source": [
    "### Écrivez une fonction _predict_, qui correspond à l'hypohèse hθ(x), qui prend en paramètres X et theta, applique l'hypothèse du modèle avec la fonction sigmoide, et se débrouille pour que le résultat final soit un vecteur de 1 et de 0 correspondant aux catégories"
   ]
  },
  {
   "cell_type": "code",
   "execution_count": 50,
   "metadata": {},
   "outputs": [],
   "source": [
    "def predict(X, theta):\n",
    "    return sigmoid(np.dot(X, theta))\n",
    "    \n",
    "    \n",
    "    "
   ]
  },
  {
   "cell_type": "markdown",
   "metadata": {},
   "source": [
    "## Entraînement du modèle"
   ]
  },
  {
   "cell_type": "markdown",
   "metadata": {},
   "source": [
    "### Définissez la fonction de coût de votre modèle"
   ]
  },
  {
   "cell_type": "code",
   "execution_count": 51,
   "metadata": {},
   "outputs": [],
   "source": [
    "def cost(X, y, theta, reg=False, lbda=0.01):\n",
    "    m = X.shape[0]\n",
    "    cost = (-1 / m) * np.sum(np.dot(y.transpose(), np.log(predict(X,theta))) + np.dot((1-y).transpose(), np.log(1-predict(X,theta))))\n",
    "    r = reg * lbda * np.sum(theta**2) / (2 * m)\n",
    "    return  cost + r"
   ]
  },
  {
   "cell_type": "markdown",
   "metadata": {},
   "source": [
    "### Calculez le coût de votre modèle non entraîné. Vous devriez obtenir une valeur d'environ 0.693"
   ]
  },
  {
   "cell_type": "code",
   "execution_count": 52,
   "metadata": {},
   "outputs": [
    {
     "data": {
      "text/plain": [
       "0.6931471805599453"
      ]
     },
     "execution_count": 52,
     "metadata": {},
     "output_type": "execute_result"
    }
   ],
   "source": [
    "cost(X,y,theta, reg=False)"
   ]
  },
  {
   "cell_type": "markdown",
   "metadata": {},
   "source": [
    "### Écrivez une fonction _fit_ qui prend en arguments le vecteur X et le vecteur y des données d'entraînement et renvoie le vecteur de paramètres _theta_ qui a été appris, ainsi que l'évolution du coût"
   ]
  },
  {
   "cell_type": "markdown",
   "metadata": {},
   "source": [
    "Noter que l'exercice original ne fait pas faire la descente du gradient pour entraîner le modèle, mais plutôt une fonction d'optimisation avancée (_fminunc_ en Matlab). Nous tenterons de faire quand même la descente du gradient. Les plus téméraires peuvent aussi trouver une fonction d'optimisation équivalente en Python et comparer les résultats."
   ]
  },
  {
   "cell_type": "code",
   "execution_count": 53,
   "metadata": {},
   "outputs": [],
   "source": [
    "def fit(X, y, theta, alpha, num_iters, lbda=0.01, reg=True):\n",
    "    # Initialiser certaines variables utiles\n",
    "    m = X.shape[0]\n",
    "    J_history = []\n",
    "    \n",
    "    # Boucler sur le nombre d'itérations\n",
    "    for i in range(num_iters):\n",
    "        diff = np.dot((predict(X, theta) - y).transpose(),X) + reg * lbda * theta\n",
    "        theta = theta - (alpha / m) * diff\n",
    "        J_history.append(cost(X,y,theta, reg=reg, lbda=lbda))\n",
    "        \n",
    "    return theta, J_history"
   ]
  },
  {
   "cell_type": "markdown",
   "metadata": {},
   "source": [
    "### Lancez l'apprentissage en appelant la fonction _fit_ et en prenant bien soin de récupérer le résultat de *theta* à la fin!!"
   ]
  },
  {
   "cell_type": "markdown",
   "metadata": {},
   "source": [
    "Voyez entre vous quelles valeurs semblent correctes pour alpha et num_iters"
   ]
  },
  {
   "cell_type": "code",
   "execution_count": 54,
   "metadata": {},
   "outputs": [],
   "source": [
    "theta = np.zeros(3)\n",
    "theta, J_history = fit(X, y, theta, alpha=0.1, num_iters=25000, reg=False)"
   ]
  },
  {
   "cell_type": "code",
   "execution_count": 55,
   "metadata": {},
   "outputs": [
    {
     "data": {
      "text/plain": [
       "array([1.71844918, 3.99278695, 3.72513587])"
      ]
     },
     "execution_count": 55,
     "metadata": {},
     "output_type": "execute_result"
    }
   ],
   "source": [
    "theta"
   ]
  },
  {
   "cell_type": "markdown",
   "metadata": {},
   "source": [
    "### Appelez la fonction _cost_ avec le nouveau theta après entraînement"
   ]
  },
  {
   "cell_type": "code",
   "execution_count": 56,
   "metadata": {},
   "outputs": [
    {
     "data": {
      "text/plain": [
       "0.20349770158944264"
      ]
     },
     "execution_count": 56,
     "metadata": {},
     "output_type": "execute_result"
    }
   ],
   "source": [
    "cost(X,y,theta)"
   ]
  },
  {
   "cell_type": "markdown",
   "metadata": {},
   "source": [
    "Vous devriez obtenir une valeur autour de 0.203"
   ]
  },
  {
   "cell_type": "code",
   "execution_count": null,
   "metadata": {},
   "outputs": [],
   "source": []
  },
  {
   "cell_type": "markdown",
   "metadata": {},
   "source": [
    "### On visualise maintenant l'évolution du coût en fonction du nombre d'itérations"
   ]
  },
  {
   "cell_type": "code",
   "execution_count": 57,
   "metadata": {},
   "outputs": [
    {
     "data": {
      "text/plain": [
       "[<matplotlib.lines.Line2D at 0x12b56fda0>]"
      ]
     },
     "execution_count": 57,
     "metadata": {},
     "output_type": "execute_result"
    },
    {
     "data": {
      "image/png": "[encoded data removed]",
      "text/plain": [
       "<Figure size 432x288 with 1 Axes>"
      ]
     },
     "metadata": {
      "needs_background": "light"
     },
     "output_type": "display_data"
    }
   ],
   "source": [
    "fig = plt.figure()\n",
    "ax = plt.axes()\n",
    "ax.plot(J_history)"
   ]
  },
  {
   "cell_type": "markdown",
   "metadata": {},
   "source": [
    "## Évaluation de votre modèle"
   ]
  },
  {
   "cell_type": "markdown",
   "metadata": {},
   "source": [
    "Nous allons évaluer la performance du modèle de deux façons:"
   ]
  },
  {
   "cell_type": "markdown",
   "metadata": {},
   "source": [
    "### Évaluez la probabilité qu'un étudiant ayant obtenu 45 au premier examen, et 85 au deuxième, soit admis"
   ]
  },
  {
   "cell_type": "markdown",
   "metadata": {},
   "source": [
    "Vous devriez avoir une probabilité d'admission de 0.776"
   ]
  },
  {
   "cell_type": "code",
   "execution_count": 58,
   "metadata": {},
   "outputs": [
    {
     "name": "stdout",
     "output_type": "stream",
     "text": [
      "[1, -1.066298647558811, 1.015596101861162]\n"
     ]
    },
    {
     "data": {
      "text/plain": [
       "0.7762906479658123"
      ]
     },
     "execution_count": 58,
     "metadata": {},
     "output_type": "execute_result"
    }
   ],
   "source": [
    "test = [1, 45, 85]\n",
    "test[1:] = (test[1:] - mean) / stdev\n",
    "print(test)\n",
    "predict(test,theta)"
   ]
  },
  {
   "cell_type": "markdown",
   "metadata": {},
   "source": []
  },
  {
   "cell_type": "markdown",
   "metadata": {},
   "source": [
    "### Évaluer l'exactitude (accuracy) des prédictions faites sur les données d'entraînement"
   ]
  },
  {
   "cell_type": "markdown",
   "metadata": {},
   "source": [
    "Utilisez votre fonction _predict_ sur les données d'entraînement (X) et récupérez les prédictions dans un vecteur p"
   ]
  },
  {
   "cell_type": "code",
   "execution_count": 59,
   "metadata": {},
   "outputs": [],
   "source": [
    "\n",
    "p = predict(X,theta)"
   ]
  },
  {
   "cell_type": "markdown",
   "metadata": {},
   "source": [
    "Calculez le pourcentage des éléments de p qui correspondent à ceux de y. Ça vous donne le score d'exactitude"
   ]
  },
  {
   "cell_type": "code",
   "execution_count": 60,
   "metadata": {},
   "outputs": [
    {
     "name": "stdout",
     "output_type": "stream",
     "text": [
      "0.89\n"
     ]
    }
   ],
   "source": [
    "true_positive = p[y == 1] >= 0.5\n",
    "true_negative = p[y == 0] < 0.5\n",
    "accuracy = (np.sum(true_positive) + np.sum(true_negative)) / len(y)\n",
    "print(accuracy)\n",
    "\n",
    "\n"
   ]
  },
  {
   "cell_type": "markdown",
   "metadata": {},
   "source": [
    "Vous devriez avoir un score d'environ 89.0 %"
   ]
  },
  {
   "cell_type": "markdown",
   "metadata": {},
   "source": [
    "### Quelle est la précision, le recall et le F1-score de votre modele ? (écrivez trois fonctions pour obtenir chacunes de ces métriques)"
   ]
  },
  {
   "cell_type": "code",
   "execution_count": 61,
   "metadata": {},
   "outputs": [
    {
     "name": "stdout",
     "output_type": "stream",
     "text": [
      "Precision :  0.9016393442622951\n",
      "Recall :  0.9166666666666666\n",
      "Fscore :  0.9090909090909091\n"
     ]
    }
   ],
   "source": [
    "def precision(X, y, theta):\n",
    "    p = predict(X, theta)\n",
    "    true_pos = np.sum(p[y == 1] >= 0.5)\n",
    "    false_pos = np.sum(p[y == 0] >= 0.5)\n",
    "    return true_pos / (true_pos + false_pos)\n",
    "\n",
    "def recall(X, y, theta):\n",
    "    p = predict(X, theta)\n",
    "    true_pos = np.sum(p[y == 1] >= 0.5)\n",
    "    false_neg = np.sum(p[y == 1] < 0.5)\n",
    "    return true_pos / (true_pos + false_neg)\n",
    "\n",
    "def Fscore(X, y, theta):\n",
    "    p = precision(X, y, theta)\n",
    "    r = recall(X, y, theta)\n",
    "    return 2*p*r / (p+r)\n",
    "\n",
    "print(\"Precision : \", precision(X, y, theta))\n",
    "print(\"Recall : \", recall(X, y, theta))\n",
    "print(\"Fscore : \", Fscore(X, y, theta))"
   ]
  },
  {
   "cell_type": "markdown",
   "metadata": {},
   "source": [
    "### A l'aide de l'hyperparameter tuning (random search), trouvez les alpha et lambda qui permettent de maximiser le F1-score. Vous devrez entrainer plusieurs fois votre modele à l'aide de la fonction fit pour trouver ces parametres."
   ]
  },
  {
   "cell_type": "code",
   "execution_count": 66,
   "metadata": {},
   "outputs": [],
   "source": [
    "\n",
    "def random_search(occurences=50,\n",
    "                  iters=10000,\n",
    "                  alpha_range = [0.001, 0.002],\n",
    "                  lbda_range = [0, 0.5]\n",
    "                  ):\n",
    "    results = []\n",
    "    for _ in range(occurences):\n",
    "        tmp_alpha = np.random.uniform(alpha_range[0],alpha_range[1])\n",
    "        tmp_lbda = np.random.uniform(lbda_range[0],lbda_range[1])\n",
    "        theta = np.zeros(3, dtype=float)\n",
    "        theta, J_history = fit(X, y, theta, tmp_alpha, iters, tmp_lbda, reg=False)\n",
    "        results.append((Fscore(X, y, theta), tmp_alpha, tmp_lbda))\n",
    "    return results\n",
    "results = random_search()"
   ]
  },
  {
   "cell_type": "code",
   "execution_count": 67,
   "metadata": {},
   "outputs": [
    {
     "data": {
      "text/plain": [
       "[(0.9166666666666666, 0.0015716332968788815, 0.34456190383762914),\n",
       " (0.9166666666666666, 0.0011234334510275166, 0.057685930121900764),\n",
       " (0.9166666666666666, 0.0011056606055300522, 0.38186978593474524),\n",
       " (0.9166666666666666, 0.0010332643139988218, 0.4565647010128489),\n",
       " (0.9166666666666666, 0.0015683705230983432, 0.35969579905391125),\n",
       " (0.9166666666666666, 0.0012471384175865416, 0.13303211050731556),\n",
       " (0.9166666666666666, 0.0018631472346332017, 0.38174146219512256),\n",
       " (0.9166666666666666, 0.001930327747394321, 0.007115005273108599),\n",
       " (0.9166666666666666, 0.0012718655060221411, 0.20960476402054468),\n",
       " (0.9166666666666666, 0.0010730617873426537, 0.06202801855738643),\n",
       " (0.9166666666666666, 0.001904600546708669, 0.16726565494278417),\n",
       " (0.9166666666666666, 0.0015258774875287176, 0.3877454895786359),\n",
       " (0.9166666666666666, 0.0011494343684946284, 0.16597701733353382),\n",
       " (0.9166666666666666, 0.001589521682368475, 0.3266604183840141),\n",
       " (0.9166666666666666, 0.0017105746699229035, 0.45976305848524335),\n",
       " (0.9166666666666666, 0.0017263792733048134, 0.14957797765891878),\n",
       " (0.9166666666666666, 0.0019374501642697877, 0.13326552039035605),\n",
       " (0.9166666666666666, 0.0017401112746114173, 0.24952338921076322),\n",
       " (0.9166666666666666, 0.0010155513689787705, 0.3467226110530196),\n",
       " (0.9166666666666666, 0.0013609591556798682, 0.09351316269399601),\n",
       " (0.9166666666666666, 0.001400937690686066, 0.27854611764184),\n",
       " (0.9166666666666666, 0.0014664189942794803, 0.23482367408100813),\n",
       " (0.9166666666666666, 0.00161222837090678, 0.12004865755664651),\n",
       " (0.9166666666666666, 0.0017067243536258788, 0.27084713696310725),\n",
       " (0.9166666666666666, 0.0015799195914620499, 0.1940425267672164),\n",
       " (0.9166666666666666, 0.0010956394021717766, 0.10366152849600835),\n",
       " (0.9166666666666666, 0.0012937104847254048, 0.14760509847012737),\n",
       " (0.9166666666666666, 0.0010954474977160748, 0.16339641334078475),\n",
       " (0.9166666666666666, 0.001391304211735918, 0.02671037963454459),\n",
       " (0.9166666666666666, 0.0017879789382202228, 0.05783604119120783),\n",
       " (0.9166666666666666, 0.001270996925258597, 0.3906728795180207),\n",
       " (0.9166666666666666, 0.00170169321355031, 0.07271293710608806),\n",
       " (0.9166666666666666, 0.0015775772371511116, 0.37540858028928487),\n",
       " (0.9166666666666666, 0.0011117489898889803, 0.24466426611633801),\n",
       " (0.9166666666666666, 0.001215528729412902, 0.005338805238058408),\n",
       " (0.9166666666666666, 0.0010642544965909586, 0.18499797653025496),\n",
       " (0.9166666666666666, 0.001432825336050653, 0.18118600080971825),\n",
       " (0.9166666666666666, 0.0011944648524180948, 0.29472886169591045),\n",
       " (0.9166666666666666, 0.0016809976533169128, 0.35313224707061197),\n",
       " (0.9166666666666666, 0.0011924800398993448, 0.25989836341289024),\n",
       " (0.9166666666666666, 0.0018114989558792923, 0.037165876410257814),\n",
       " (0.9166666666666666, 0.0018888466410654703, 0.4768801847759166),\n",
       " (0.9166666666666666, 0.0016412896633828953, 0.03340595302351318),\n",
       " (0.9166666666666666, 0.0012093686032201717, 0.4385429741594872),\n",
       " (0.9166666666666666, 0.0012353950978851779, 0.03154789828581467),\n",
       " (0.9166666666666666, 0.0018026363531154096, 0.08641540442840895),\n",
       " (0.9166666666666666, 0.0013441271815781666, 0.4761012777360364),\n",
       " (0.9166666666666666, 0.0019046806255747324, 0.36555644458190756),\n",
       " (0.9166666666666666, 0.001185644326424869, 0.476689549173285),\n",
       " (0.9166666666666666, 0.0018114760419965896, 0.19364967598919636)]"
      ]
     },
     "execution_count": 67,
     "metadata": {},
     "output_type": "execute_result"
    }
   ],
   "source": [
    "sorted(results, key=lambda x : x[0], reverse=True)"
   ]
  },
  {
   "cell_type": "markdown",
   "metadata": {},
   "source": [
    "## BONUS: Visualisez la frontière de décision (decision boundary) sur le graphe"
   ]
  },
  {
   "cell_type": "markdown",
   "metadata": {},
   "source": [
    "Pour ceux qui veulent découvrir Matplotlib, il faut ici afficher les données en deux nuages de points distincts (pour les deux classes) sur le même graphe, et aussi trouver une façon de tracer la fonction qui définit la frontière de décision. Amusez-vous bien, et surtout aidez-vous! Voici un exemple de ce que ça devrait donner:  \n",
    "<img src=\"figure-2.png\">"
   ]
  },
  {
   "cell_type": "code",
   "execution_count": 73,
   "metadata": {},
   "outputs": [
    {
     "name": "stdout",
     "output_type": "stream",
     "text": [
      "124.99999999999717\n",
      "-0.9776000000000008\n"
     ]
    },
    {
     "data": {
      "image/png": "[encoded data removed]",
      "text/plain": [
       "<Figure size 432x288 with 1 Axes>"
      ]
     },
     "metadata": {
      "needs_background": "light"
     },
     "output_type": "display_data"
    }
   ],
   "source": [
    "def ft_get_intercept(theta):\n",
    "    intercept = 0\n",
    "    absc = 0\n",
    "    pred = 0\n",
    "    while pred < 0.5:\n",
    "        p = [1, 0, intercept]\n",
    "        p[1:] = (p[1:] - mean) / stdev\n",
    "        pred = predict(p, theta)\n",
    "        intercept += 0.1\n",
    "    pred = 0\n",
    "    while pred < 0.5:\n",
    "        p = [1, absc, 0]\n",
    "        p[1:] = (p[1:] - mean) / stdev\n",
    "        pred = predict(p, theta)\n",
    "        absc += 0.1\n",
    "    slope = - absc / intercept\n",
    "    return intercept, slope\n",
    "    \n",
    "def ft_plot_decision(theta, X, intercept, slope):\n",
    "    fig, ax = plt.subplots()\n",
    "    g = sns.scatterplot(x=\"exam1\", y=\"exam2\", data=data, hue='admission', legend=False, ax=ax)\n",
    "    l = sns.lineplot(x=data['exam1'], y=data['exam1']*slope+intercept, ax=ax, color='b', linewidth=0.4)\n",
    "\n",
    "intercept, slope = ft_get_intercept(theta)\n",
    "ft_plot_decision(theta, X, intercept, slope)\n",
    "print(intercept)\n",
    "print(slope)"
   ]
  },
  {
   "cell_type": "code",
   "execution_count": null,
   "metadata": {},
   "outputs": [],
   "source": []
  }
 ],
 "metadata": {
  "kernelspec": {
   "display_name": "Python 3",
   "language": "python",
   "name": "python3"
  },
  "language_info": {
   "codemirror_mode": {
    "name": "ipython",
    "version": 3
   },
   "file_extension": ".py",
   "mimetype": "text/x-python",
   "name": "python",
   "nbconvert_exporter": "python",
   "pygments_lexer": "ipython3",
   "version": "3.7.3"
  }
 },
 "nbformat": 4,
 "nbformat_minor": 2
}
