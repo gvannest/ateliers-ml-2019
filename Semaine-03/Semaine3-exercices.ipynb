{
 "cells": [
  {
   "cell_type": "markdown",
   "metadata": {
    "colab_type": "text",
    "id": "ULwBwfH9-dNH"
   },
   "source": [
    "# Régression linéaire à plusieurs variables - Exercices tirés du MOOC d'Andrew Ng"
   ]
  },
  {
   "cell_type": "markdown",
   "metadata": {
    "colab_type": "text",
    "id": "5Gnvh5p--dNT"
   },
   "source": [
    "## Chargement des données"
   ]
  },
  {
   "cell_type": "markdown",
   "metadata": {
    "colab_type": "text",
    "id": "Nehocufk-dNa"
   },
   "source": [
    "Le jeu de données donne la valeur de plusieurs maisons, ainsi que leur taille (pieds carrés) et le nombre de chambres à coucher"
   ]
  },
  {
   "cell_type": "markdown",
   "metadata": {
    "colab_type": "text",
    "id": "yusgFG3V-dNp"
   },
   "source": [
    "### Chargez les données du fichier ex1data1.csv"
   ]
  },
  {
   "cell_type": "code",
   "execution_count": 1,
   "metadata": {
    "colab": {},
    "colab_type": "code",
    "id": "RVIWwAO9-dNy"
   },
   "outputs": [],
   "source": [
    "import numpy as np\n",
    "import pandas as pd\n",
    "import matplotlib.pyplot as plt\n",
    "\n",
    "%matplotlib inline\n",
    "np.set_printoptions(formatter={'float': lambda x: \"{0:0.2f}\".format(x)})"
   ]
  },
  {
   "cell_type": "code",
   "execution_count": 2,
   "metadata": {
    "colab": {},
    "colab_type": "code",
    "id": "40WxZntB-dOn"
   },
   "outputs": [],
   "source": [
    "data = pd.read_csv(\"data.csv\")"
   ]
  },
  {
   "cell_type": "markdown",
   "metadata": {
    "colab_type": "text",
    "id": "qXflvRX4-dO-"
   },
   "source": [
    "### Visualisez les données (valeurs réelles)"
   ]
  },
  {
   "cell_type": "markdown",
   "metadata": {
    "colab_type": "text",
    "id": "dP-fVrLz-dPD"
   },
   "source": [
    "Maintenant, nous avons deux 'features'. Voyez si elles ont le même ordre de grandeur"
   ]
  },
  {
   "cell_type": "code",
   "execution_count": 3,
   "metadata": {
    "colab": {},
    "colab_type": "code",
    "id": "oUq9WWRh-dPG",
    "outputId": "8703099c-b463-4536-8d42-8197a0a14b1f"
   },
   "outputs": [
    {
     "data": {
      "text/html": [
       "<div>\n",
       "<style scoped>\n",
       "    .dataframe tbody tr th:only-of-type {\n",
       "        vertical-align: middle;\n",
       "    }\n",
       "\n",
       "    .dataframe tbody tr th {\n",
       "        vertical-align: top;\n",
       "    }\n",
       "\n",
       "    .dataframe thead th {\n",
       "        text-align: right;\n",
       "    }\n",
       "</style>\n",
       "<table border=\"1\" class=\"dataframe\">\n",
       "  <thead>\n",
       "    <tr style=\"text-align: right;\">\n",
       "      <th></th>\n",
       "      <th>size</th>\n",
       "      <th>nb_bedrooms</th>\n",
       "      <th>price</th>\n",
       "    </tr>\n",
       "  </thead>\n",
       "  <tbody>\n",
       "    <tr>\n",
       "      <th>0</th>\n",
       "      <td>2104</td>\n",
       "      <td>3</td>\n",
       "      <td>399900</td>\n",
       "    </tr>\n",
       "    <tr>\n",
       "      <th>1</th>\n",
       "      <td>1600</td>\n",
       "      <td>3</td>\n",
       "      <td>329900</td>\n",
       "    </tr>\n",
       "    <tr>\n",
       "      <th>2</th>\n",
       "      <td>2400</td>\n",
       "      <td>3</td>\n",
       "      <td>369000</td>\n",
       "    </tr>\n",
       "    <tr>\n",
       "      <th>3</th>\n",
       "      <td>1416</td>\n",
       "      <td>2</td>\n",
       "      <td>232000</td>\n",
       "    </tr>\n",
       "    <tr>\n",
       "      <th>4</th>\n",
       "      <td>3000</td>\n",
       "      <td>4</td>\n",
       "      <td>539900</td>\n",
       "    </tr>\n",
       "    <tr>\n",
       "      <th>5</th>\n",
       "      <td>1985</td>\n",
       "      <td>4</td>\n",
       "      <td>299900</td>\n",
       "    </tr>\n",
       "    <tr>\n",
       "      <th>6</th>\n",
       "      <td>1534</td>\n",
       "      <td>3</td>\n",
       "      <td>314900</td>\n",
       "    </tr>\n",
       "    <tr>\n",
       "      <th>7</th>\n",
       "      <td>1427</td>\n",
       "      <td>3</td>\n",
       "      <td>198999</td>\n",
       "    </tr>\n",
       "    <tr>\n",
       "      <th>8</th>\n",
       "      <td>1380</td>\n",
       "      <td>3</td>\n",
       "      <td>212000</td>\n",
       "    </tr>\n",
       "    <tr>\n",
       "      <th>9</th>\n",
       "      <td>1494</td>\n",
       "      <td>3</td>\n",
       "      <td>242500</td>\n",
       "    </tr>\n",
       "    <tr>\n",
       "      <th>10</th>\n",
       "      <td>1940</td>\n",
       "      <td>4</td>\n",
       "      <td>239999</td>\n",
       "    </tr>\n",
       "    <tr>\n",
       "      <th>11</th>\n",
       "      <td>2000</td>\n",
       "      <td>3</td>\n",
       "      <td>347000</td>\n",
       "    </tr>\n",
       "    <tr>\n",
       "      <th>12</th>\n",
       "      <td>1890</td>\n",
       "      <td>3</td>\n",
       "      <td>329999</td>\n",
       "    </tr>\n",
       "    <tr>\n",
       "      <th>13</th>\n",
       "      <td>4478</td>\n",
       "      <td>5</td>\n",
       "      <td>699900</td>\n",
       "    </tr>\n",
       "    <tr>\n",
       "      <th>14</th>\n",
       "      <td>1268</td>\n",
       "      <td>3</td>\n",
       "      <td>259900</td>\n",
       "    </tr>\n",
       "    <tr>\n",
       "      <th>15</th>\n",
       "      <td>2300</td>\n",
       "      <td>4</td>\n",
       "      <td>449900</td>\n",
       "    </tr>\n",
       "    <tr>\n",
       "      <th>16</th>\n",
       "      <td>1320</td>\n",
       "      <td>2</td>\n",
       "      <td>299900</td>\n",
       "    </tr>\n",
       "    <tr>\n",
       "      <th>17</th>\n",
       "      <td>1236</td>\n",
       "      <td>3</td>\n",
       "      <td>199900</td>\n",
       "    </tr>\n",
       "    <tr>\n",
       "      <th>18</th>\n",
       "      <td>2609</td>\n",
       "      <td>4</td>\n",
       "      <td>499998</td>\n",
       "    </tr>\n",
       "    <tr>\n",
       "      <th>19</th>\n",
       "      <td>3031</td>\n",
       "      <td>4</td>\n",
       "      <td>599000</td>\n",
       "    </tr>\n",
       "    <tr>\n",
       "      <th>20</th>\n",
       "      <td>1767</td>\n",
       "      <td>3</td>\n",
       "      <td>252900</td>\n",
       "    </tr>\n",
       "    <tr>\n",
       "      <th>21</th>\n",
       "      <td>1888</td>\n",
       "      <td>2</td>\n",
       "      <td>255000</td>\n",
       "    </tr>\n",
       "    <tr>\n",
       "      <th>22</th>\n",
       "      <td>1604</td>\n",
       "      <td>3</td>\n",
       "      <td>242900</td>\n",
       "    </tr>\n",
       "    <tr>\n",
       "      <th>23</th>\n",
       "      <td>1962</td>\n",
       "      <td>4</td>\n",
       "      <td>259900</td>\n",
       "    </tr>\n",
       "    <tr>\n",
       "      <th>24</th>\n",
       "      <td>3890</td>\n",
       "      <td>3</td>\n",
       "      <td>573900</td>\n",
       "    </tr>\n",
       "    <tr>\n",
       "      <th>25</th>\n",
       "      <td>1100</td>\n",
       "      <td>3</td>\n",
       "      <td>249900</td>\n",
       "    </tr>\n",
       "    <tr>\n",
       "      <th>26</th>\n",
       "      <td>1458</td>\n",
       "      <td>3</td>\n",
       "      <td>464500</td>\n",
       "    </tr>\n",
       "    <tr>\n",
       "      <th>27</th>\n",
       "      <td>2526</td>\n",
       "      <td>3</td>\n",
       "      <td>469000</td>\n",
       "    </tr>\n",
       "    <tr>\n",
       "      <th>28</th>\n",
       "      <td>2200</td>\n",
       "      <td>3</td>\n",
       "      <td>475000</td>\n",
       "    </tr>\n",
       "    <tr>\n",
       "      <th>29</th>\n",
       "      <td>2637</td>\n",
       "      <td>3</td>\n",
       "      <td>299900</td>\n",
       "    </tr>\n",
       "    <tr>\n",
       "      <th>30</th>\n",
       "      <td>1839</td>\n",
       "      <td>2</td>\n",
       "      <td>349900</td>\n",
       "    </tr>\n",
       "    <tr>\n",
       "      <th>31</th>\n",
       "      <td>1000</td>\n",
       "      <td>1</td>\n",
       "      <td>169900</td>\n",
       "    </tr>\n",
       "    <tr>\n",
       "      <th>32</th>\n",
       "      <td>2040</td>\n",
       "      <td>4</td>\n",
       "      <td>314900</td>\n",
       "    </tr>\n",
       "    <tr>\n",
       "      <th>33</th>\n",
       "      <td>3137</td>\n",
       "      <td>3</td>\n",
       "      <td>579900</td>\n",
       "    </tr>\n",
       "    <tr>\n",
       "      <th>34</th>\n",
       "      <td>1811</td>\n",
       "      <td>4</td>\n",
       "      <td>285900</td>\n",
       "    </tr>\n",
       "    <tr>\n",
       "      <th>35</th>\n",
       "      <td>1437</td>\n",
       "      <td>3</td>\n",
       "      <td>249900</td>\n",
       "    </tr>\n",
       "    <tr>\n",
       "      <th>36</th>\n",
       "      <td>1239</td>\n",
       "      <td>3</td>\n",
       "      <td>229900</td>\n",
       "    </tr>\n",
       "    <tr>\n",
       "      <th>37</th>\n",
       "      <td>2132</td>\n",
       "      <td>4</td>\n",
       "      <td>345000</td>\n",
       "    </tr>\n",
       "    <tr>\n",
       "      <th>38</th>\n",
       "      <td>4215</td>\n",
       "      <td>4</td>\n",
       "      <td>549000</td>\n",
       "    </tr>\n",
       "    <tr>\n",
       "      <th>39</th>\n",
       "      <td>2162</td>\n",
       "      <td>4</td>\n",
       "      <td>287000</td>\n",
       "    </tr>\n",
       "    <tr>\n",
       "      <th>40</th>\n",
       "      <td>1664</td>\n",
       "      <td>2</td>\n",
       "      <td>368500</td>\n",
       "    </tr>\n",
       "    <tr>\n",
       "      <th>41</th>\n",
       "      <td>2238</td>\n",
       "      <td>3</td>\n",
       "      <td>329900</td>\n",
       "    </tr>\n",
       "    <tr>\n",
       "      <th>42</th>\n",
       "      <td>2567</td>\n",
       "      <td>4</td>\n",
       "      <td>314000</td>\n",
       "    </tr>\n",
       "    <tr>\n",
       "      <th>43</th>\n",
       "      <td>1200</td>\n",
       "      <td>3</td>\n",
       "      <td>299000</td>\n",
       "    </tr>\n",
       "    <tr>\n",
       "      <th>44</th>\n",
       "      <td>852</td>\n",
       "      <td>2</td>\n",
       "      <td>179900</td>\n",
       "    </tr>\n",
       "    <tr>\n",
       "      <th>45</th>\n",
       "      <td>1852</td>\n",
       "      <td>4</td>\n",
       "      <td>299900</td>\n",
       "    </tr>\n",
       "    <tr>\n",
       "      <th>46</th>\n",
       "      <td>1203</td>\n",
       "      <td>3</td>\n",
       "      <td>239500</td>\n",
       "    </tr>\n",
       "  </tbody>\n",
       "</table>\n",
       "</div>"
      ],
      "text/plain": [
       "    size  nb_bedrooms   price\n",
       "0   2104            3  399900\n",
       "1   1600            3  329900\n",
       "2   2400            3  369000\n",
       "3   1416            2  232000\n",
       "4   3000            4  539900\n",
       "5   1985            4  299900\n",
       "6   1534            3  314900\n",
       "7   1427            3  198999\n",
       "8   1380            3  212000\n",
       "9   1494            3  242500\n",
       "10  1940            4  239999\n",
       "11  2000            3  347000\n",
       "12  1890            3  329999\n",
       "13  4478            5  699900\n",
       "14  1268            3  259900\n",
       "15  2300            4  449900\n",
       "16  1320            2  299900\n",
       "17  1236            3  199900\n",
       "18  2609            4  499998\n",
       "19  3031            4  599000\n",
       "20  1767            3  252900\n",
       "21  1888            2  255000\n",
       "22  1604            3  242900\n",
       "23  1962            4  259900\n",
       "24  3890            3  573900\n",
       "25  1100            3  249900\n",
       "26  1458            3  464500\n",
       "27  2526            3  469000\n",
       "28  2200            3  475000\n",
       "29  2637            3  299900\n",
       "30  1839            2  349900\n",
       "31  1000            1  169900\n",
       "32  2040            4  314900\n",
       "33  3137            3  579900\n",
       "34  1811            4  285900\n",
       "35  1437            3  249900\n",
       "36  1239            3  229900\n",
       "37  2132            4  345000\n",
       "38  4215            4  549000\n",
       "39  2162            4  287000\n",
       "40  1664            2  368500\n",
       "41  2238            3  329900\n",
       "42  2567            4  314000\n",
       "43  1200            3  299000\n",
       "44   852            2  179900\n",
       "45  1852            4  299900\n",
       "46  1203            3  239500"
      ]
     },
     "execution_count": 3,
     "metadata": {},
     "output_type": "execute_result"
    }
   ],
   "source": [
    "data"
   ]
  },
  {
   "cell_type": "markdown",
   "metadata": {
    "colab_type": "text",
    "id": "ZPqY0zPr-dPn"
   },
   "source": [
    "## Définissez quelques variables utiles"
   ]
  },
  {
   "cell_type": "markdown",
   "metadata": {
    "colab_type": "text",
    "id": "oE8AcnWD-dP0"
   },
   "source": [
    "### Définissez X et y"
   ]
  },
  {
   "cell_type": "markdown",
   "metadata": {
    "colab_type": "text",
    "id": "-eyW5vQ3-dP4"
   },
   "source": [
    "X est maintenant une matrice de dimensions m x 2"
   ]
  },
  {
   "cell_type": "code",
   "execution_count": 4,
   "metadata": {
    "colab": {},
    "colab_type": "code",
    "id": "ELWluGEU-dP9"
   },
   "outputs": [],
   "source": [
    "X = data.iloc[:,:2].to_numpy()\n",
    "y = np.array(data.price)"
   ]
  },
  {
   "cell_type": "code",
   "execution_count": 5,
   "metadata": {},
   "outputs": [
    {
     "data": {
      "text/plain": [
       "(47,)"
      ]
     },
     "execution_count": 5,
     "metadata": {},
     "output_type": "execute_result"
    }
   ],
   "source": [
    "y.shape"
   ]
  },
  {
   "cell_type": "code",
   "execution_count": null,
   "metadata": {},
   "outputs": [],
   "source": []
  },
  {
   "cell_type": "markdown",
   "metadata": {
    "colab_type": "text",
    "id": "A-siAc27-dQm"
   },
   "source": [
    "### Initialisez theta (combien de dimensions?)"
   ]
  },
  {
   "cell_type": "code",
   "execution_count": 6,
   "metadata": {
    "colab": {},
    "colab_type": "code",
    "id": "8r-s4Pcf-dQw"
   },
   "outputs": [],
   "source": [
    "# dimension (3,1)\n",
    "theta = np.zeros(3)"
   ]
  },
  {
   "cell_type": "code",
   "execution_count": 7,
   "metadata": {},
   "outputs": [
    {
     "data": {
      "text/plain": [
       "(3,)"
      ]
     },
     "execution_count": 7,
     "metadata": {},
     "output_type": "execute_result"
    }
   ],
   "source": [
    "theta.shape"
   ]
  },
  {
   "cell_type": "markdown",
   "metadata": {
    "colab_type": "text",
    "id": "xi5RASKt-dRQ"
   },
   "source": [
    "### Vérifiez les dimensions de theta et de X. Sont-elles compatibles pour implémenter la fonction d'hypothèse sous forme vectorisée?"
   ]
  },
  {
   "cell_type": "code",
   "execution_count": 8,
   "metadata": {
    "colab": {},
    "colab_type": "code",
    "id": "RXzZ2keY-dRZ"
   },
   "outputs": [
    {
     "data": {
      "text/plain": [
       "((3,), (47, 2))"
      ]
     },
     "execution_count": 8,
     "metadata": {},
     "output_type": "execute_result"
    }
   ],
   "source": [
    "theta.shape, X.shape"
   ]
  },
  {
   "cell_type": "markdown",
   "metadata": {
    "colab": {},
    "colab_type": "code",
    "collapsed": true,
    "id": "5-eyKA7l-dRp"
   },
   "source": [
    "Le nombre de colonne de X doit etre egal au nombre de colonnes de theta. On rajoute une colonne de 1 pour la feature x0"
   ]
  },
  {
   "cell_type": "markdown",
   "metadata": {
    "colab_type": "text",
    "id": "suwCMnrm-dR1"
   },
   "source": [
    "### Modifiez X en conséquence"
   ]
  },
  {
   "cell_type": "code",
   "execution_count": 9,
   "metadata": {
    "colab": {},
    "colab_type": "code",
    "id": "ao3dQZTH-dR4"
   },
   "outputs": [],
   "source": [
    "X = np.c_[np.ones(X.shape[0]), X]"
   ]
  },
  {
   "cell_type": "code",
   "execution_count": 10,
   "metadata": {},
   "outputs": [
    {
     "data": {
      "text/plain": [
       "47"
      ]
     },
     "execution_count": 10,
     "metadata": {},
     "output_type": "execute_result"
    }
   ],
   "source": [
    "X.shape[0]\n"
   ]
  },
  {
   "cell_type": "markdown",
   "metadata": {
    "colab_type": "text",
    "id": "o68FGIcE-dSB"
   },
   "source": [
    "## Écrivez une fonction pour centrer et réduire les features"
   ]
  },
  {
   "cell_type": "code",
   "execution_count": 11,
   "metadata": {
    "colab": {},
    "colab_type": "code",
    "id": "9XRPy8ek-dSE"
   },
   "outputs": [],
   "source": [
    "def featureScaleNormalize(X):\n",
    "    mean = X.mean(axis=0)\n",
    "    stdev = X.std(axis=0)\n",
    "    X = (X - mean)/ stdev    \n",
    "    return X, mean, stdev"
   ]
  },
  {
   "cell_type": "code",
   "execution_count": 12,
   "metadata": {
    "colab": {},
    "colab_type": "code",
    "id": "ah4o2NM4-dSU"
   },
   "outputs": [],
   "source": [
    "X[:,1:], mean, stdev = featureScaleNormalize(X[:,1:])"
   ]
  },
  {
   "cell_type": "code",
   "execution_count": 13,
   "metadata": {},
   "outputs": [
    {
     "data": {
      "text/plain": [
       "array([[1.00, 0.13, -0.23],\n",
       "       [1.00, -0.51, -0.23],\n",
       "       [1.00, 0.51, -0.23],\n",
       "       [1.00, -0.74, -1.55],\n",
       "       [1.00, 1.27, 1.10],\n",
       "       [1.00, -0.02, 1.10],\n",
       "       [1.00, -0.59, -0.23],\n",
       "       [1.00, -0.73, -0.23],\n",
       "       [1.00, -0.79, -0.23],\n",
       "       [1.00, -0.64, -0.23],\n",
       "       [1.00, -0.08, 1.10],\n",
       "       [1.00, -0.00, -0.23],\n",
       "       [1.00, -0.14, -0.23],\n",
       "       [1.00, 3.15, 2.43],\n",
       "       [1.00, -0.93, -0.23],\n",
       "       [1.00, 0.38, 1.10],\n",
       "       [1.00, -0.87, -1.55],\n",
       "       [1.00, -0.97, -0.23],\n",
       "       [1.00, 0.77, 1.10],\n",
       "       [1.00, 1.31, 1.10],\n",
       "       [1.00, -0.30, -0.23],\n",
       "       [1.00, -0.14, -1.55],\n",
       "       [1.00, -0.50, -0.23],\n",
       "       [1.00, -0.05, 1.10],\n",
       "       [1.00, 2.40, -0.23],\n",
       "       [1.00, -1.15, -0.23],\n",
       "       [1.00, -0.69, -0.23],\n",
       "       [1.00, 0.67, -0.23],\n",
       "       [1.00, 0.25, -0.23],\n",
       "       [1.00, 0.81, -0.23],\n",
       "       [1.00, -0.21, -1.55],\n",
       "       [1.00, -1.27, -2.88],\n",
       "       [1.00, 0.05, 1.10],\n",
       "       [1.00, 1.45, -0.23],\n",
       "       [1.00, -0.24, 1.10],\n",
       "       [1.00, -0.72, -0.23],\n",
       "       [1.00, -0.97, -0.23],\n",
       "       [1.00, 0.17, 1.10],\n",
       "       [1.00, 2.82, 1.10],\n",
       "       [1.00, 0.21, 1.10],\n",
       "       [1.00, -0.43, -1.55],\n",
       "       [1.00, 0.30, -0.23],\n",
       "       [1.00, 0.72, 1.10],\n",
       "       [1.00, -1.02, -0.23],\n",
       "       [1.00, -1.46, -1.55],\n",
       "       [1.00, -0.19, 1.10],\n",
       "       [1.00, -1.01, -0.23]])"
      ]
     },
     "execution_count": 13,
     "metadata": {},
     "output_type": "execute_result"
    }
   ],
   "source": [
    "X"
   ]
  },
  {
   "cell_type": "markdown",
   "metadata": {
    "colab_type": "text",
    "id": "uFn9YUZt-dSd"
   },
   "source": [
    "### Maintenant nous allons devoir adapter nos fonctions _predict_, _fit_, et _cost_ à une situation à plusieurs variables"
   ]
  },
  {
   "cell_type": "code",
   "execution_count": 14,
   "metadata": {
    "colab": {},
    "colab_type": "code",
    "id": "0ThlVQEI-dSg"
   },
   "outputs": [],
   "source": [
    "def predict(X, theta):\n",
    "    return np.dot(X, theta)"
   ]
  },
  {
   "cell_type": "code",
   "execution_count": 15,
   "metadata": {
    "colab": {},
    "colab_type": "code",
    "id": "ecrM6j9K-dSz"
   },
   "outputs": [],
   "source": [
    "def cost(X, y, theta):\n",
    "    return (1 / 2 * X.shape[0]) * np.sum((predict(X, theta) - y)**2)"
   ]
  },
  {
   "cell_type": "code",
   "execution_count": 16,
   "metadata": {
    "colab": {},
    "colab_type": "code",
    "id": "VCtM37Mk-dTA"
   },
   "outputs": [],
   "source": [
    "def fit_with_cost(X, y, theta, alpha, num_iters):\n",
    "    m = X.shape[0]\n",
    "    J_history = []\n",
    "    for i in range(num_iters):\n",
    "        diff = np.dot((predict(X, theta) - y), X)\n",
    "        theta = theta - (alpha / m) * diff\n",
    "        J_history.append(cost(X,y,theta))\n",
    "    \n",
    "    return theta, J_history"
   ]
  },
  {
   "cell_type": "markdown",
   "metadata": {
    "colab_type": "text",
    "id": "ivUR2nTo-dTM"
   },
   "source": [
    "## Lancez l'entrainement du modèle"
   ]
  },
  {
   "cell_type": "markdown",
   "metadata": {
    "colab_type": "text",
    "id": "iT1WXlWm-dTT"
   },
   "source": [
    "Vous êtes libres de choisir alpha et num_iters cette fois!"
   ]
  },
  {
   "cell_type": "code",
   "execution_count": 17,
   "metadata": {
    "colab": {},
    "colab_type": "code",
    "id": "ABen8SGh-dTY"
   },
   "outputs": [],
   "source": [
    "theta = np.zeros(3)\n",
    "theta, J_history = fit_with_cost(X, y, theta, alpha=0.01, num_iters=1500)"
   ]
  },
  {
   "cell_type": "markdown",
   "metadata": {
    "colab_type": "text",
    "id": "2cNcBTwN-dTm"
   },
   "source": [
    "## Visualisez l'évolution du coût (graphe de convergence)"
   ]
  },
  {
   "cell_type": "code",
   "execution_count": null,
   "metadata": {},
   "outputs": [],
   "source": []
  },
  {
   "cell_type": "code",
   "execution_count": 18,
   "metadata": {
    "colab": {},
    "colab_type": "code",
    "id": "G6CYvorH-dTt"
   },
   "outputs": [
    {
     "name": "stdout",
     "output_type": "stream",
     "text": [
      "4513611506241.455\n"
     ]
    },
    {
     "data": {
      "image/png": "[encoded data removed]",
      "text/plain": [
       "<Figure size 432x288 with 1 Axes>"
      ]
     },
     "metadata": {
      "needs_background": "light"
     },
     "output_type": "display_data"
    }
   ],
   "source": [
    "fit = plt.figure()\n",
    "ax = plt.axes()\n",
    "ax.plot(J_history)\n",
    "print(J_history[-1])"
   ]
  },
  {
   "cell_type": "markdown",
   "metadata": {
    "colab_type": "text",
    "id": "CdxXu7Cj-dT1"
   },
   "source": [
    "## Testez votre modèle"
   ]
  },
  {
   "cell_type": "markdown",
   "metadata": {
    "colab_type": "text",
    "id": "hcJvXXJM-dT2"
   },
   "source": [
    "Que vaut une maison de 1650 pieds carrés et de 3 chambres à coucher? (Si la valeur est aberrante, vous avez peut-être oublié une étape...)"
   ]
  },
  {
   "cell_type": "code",
   "execution_count": 19,
   "metadata": {
    "colab": {},
    "colab_type": "code",
    "id": "FEI0kuWI-dT_"
   },
   "outputs": [
    {
     "data": {
      "text/plain": [
       "293098.4666757651"
      ]
     },
     "execution_count": 19,
     "metadata": {},
     "output_type": "execute_result"
    }
   ],
   "source": [
    "X_test = (np.array([1650,3]) - mean) / stdev\n",
    "X_test = np.hstack([1, X_test])\n",
    "predict(X_test, theta)\n"
   ]
  },
  {
   "cell_type": "markdown",
   "metadata": {
    "colab": {},
    "colab_type": "code",
    "id": "d6L1TpxI-dUH"
   },
   "source": [
    "### Réécrivez votre fonction fit pour qu'elle prenne en compte un parametre de regularisation (L1, L2 pour Lasso ou Ridge) et adapte la mise  a jour de theta an fonction de la regularization précisée"
   ]
  },
  {
   "cell_type": "code",
   "execution_count": 57,
   "metadata": {},
   "outputs": [],
   "source": [
    "def get_regularization(theta, lbda, size, regularization):\n",
    "    reg = 0\n",
    "    if regularization == \"L1\":\n",
    "        reg = (lbda / (2*size)) * np.sum(np.absolute(theta[1:])) #regularization does not apply on theta 0\n",
    "    elif regularization == \"L2\":\n",
    "        reg = (lbda / (2*size)) * np.sum(np.square(theta[1:]))\n",
    "    return (reg)\n",
    "\n",
    "def get_regularization_derived(theta, size, lbda, regularization=None):\n",
    "    if not regularization:\n",
    "        return 0    \n",
    "    elif regularization == \"L1\":\n",
    "        reg = (lbda / (2*size)) * (theta / np.absolute(theta))\n",
    "    elif regularization == \"L2\":\n",
    "        reg = (lbda / size) * theta\n",
    "    reg[0] = 0 #the regularization is not applied on theta_0\n",
    "    return (reg)  \n",
    "\n",
    "def fit_with_regularization(X, y, theta, alpha, num_iters, regularization=\"L2\", lbda=0.1):\n",
    "    m = X.shape[0]\n",
    "    J_history = []\n",
    "    for i in range(num_iters):\n",
    "        reg = get_regularization_derived(theta, m, lbda, regularization)\n",
    "        diff = np.dot((predict(X,theta) - y), X)\n",
    "        theta = theta - alpha * (diff / m + reg)\n",
    "        J_history.append(cost(X,y,theta) + get_regularization(theta, lbda, m, regularization))    \n",
    "    return theta, J_history"
   ]
  },
  {
   "cell_type": "code",
   "execution_count": 65,
   "metadata": {},
   "outputs": [
    {
     "name": "stdout",
     "output_type": "stream",
     "text": [
      "[340397.96 13370.15 -15697.05]\n",
      "16686183389680.738\n",
      "Prediction :  337983.2863145138\n"
     ]
    },
    {
     "data": {
      "image/png": "[encoded data removed]",
      "text/plain": [
       "<Figure size 432x288 with 1 Axes>"
      ]
     },
     "metadata": {
      "needs_background": "light"
     },
     "output_type": "display_data"
    }
   ],
   "source": [
    "theta = np.zeros(3)\n",
    "theta, J_history = fit_with_regularization(X, y, theta, alpha=0.01, num_iters=1000, regularization=\"L2\", lbda=0.01)\n",
    "print(theta)\n",
    "fit = plt.figure()\n",
    "ax = plt.axes()\n",
    "ax.plot(J_history)\n",
    "print(J_history[-1])\n",
    "\n",
    "X_test = (np.array([1650,3]) - mean) / stdev\n",
    "X_test = np.hstack([1,X_test])\n",
    "print(\"Prediction : \",predict(X_test, theta))"
   ]
  },
  {
   "cell_type": "markdown",
   "metadata": {},
   "source": [
    "### La fonction fit au complet. Ajoutez un dernier parametre qui précise le gradient employé (stochastic, mini_batch(avec le batch_size), batch). Pour la descente de gradient stochastic et minibatch on met a jour le learning rate avec la formule du learning rate decay"
   ]
  },
  {
   "cell_type": "code",
   "execution_count": 97,
   "metadata": {},
   "outputs": [],
   "source": [
    "def get_batch_size(gradient_descent, batch_size, size):\n",
    "    batch_s = size\n",
    "    if gradient_descent == \"mini_batch\":\n",
    "        batch_s = batch_size\n",
    "    elif gradient_descent == \"stochastic\":\n",
    "        batch_s = 1\n",
    "    return batch_s\n",
    "\n",
    "def learning_rate_decay(alpha, epochs, decay_rate):\n",
    "    return 1 / (100 + epochs)\n",
    "\n",
    "def batch_generator(X, y, gd, batch_size):\n",
    "    if gd == \"stochastic\":\n",
    "        np.random.shuffle(X)\n",
    "    size = X.shape[0]\n",
    "    b_size = 0\n",
    "    batches_X = []\n",
    "    batches_y = []\n",
    "    while (b_size + batch_size) < size:\n",
    "        batches_X.append(X[b_size:(b_size + batch_size)])\n",
    "        batches_y.append(y[b_size:(b_size + batch_size)])\n",
    "        b_size += batch_size\n",
    "    batches_X.append(X[b_size:size])\n",
    "    batches_y.append(y[b_size:size])\n",
    "    nb_batches = len(batches_X)\n",
    "    while True:\n",
    "        for rand_nb in range(nb_batches):\n",
    "            yield batches_X[rand_nb], batches_y[rand_nb]\n",
    "\n",
    "def complete_fit(X,\n",
    "                 y,\n",
    "                 theta,\n",
    "                 alpha,\n",
    "                 num_iters,\n",
    "                 regularization=None,\n",
    "                 lbda=0.01,\n",
    "                 gradient_descent=\"batch\",\n",
    "                 batch_size=4,\n",
    "                decay_rate=0.1):\n",
    "    \n",
    "    m = X.shape[0]\n",
    "    J_history = []\n",
    "    \n",
    "    decay_rate = 0.0 if gradient_descent == \"batch\" else decay_rate\n",
    "    batch_size = get_batch_size(gradient_descent, batch_size, m)\n",
    "    b_gen = batch_generator(X, y, gradient_descent, batch_size)\n",
    "    \n",
    "    for i in range(num_iters):\n",
    "        X_tmp, y_tmp = next(b_gen)\n",
    "        reg = get_regularization_derived(theta, batch_size, lbda, regularization)\n",
    "        diff = np.dot((predict(X_tmp,theta) - y_tmp), X_tmp)\n",
    "        theta = theta - alpha * (diff / batch_size + reg)\n",
    "        if gradient_descent != \"batch\":\n",
    "            alpha = learning_rate_decay(alpha, i, decay_rate)\n",
    "        J_history.append(cost(X_tmp,y_tmp,theta) + get_regularization(theta, lbda, batch_size, regularization))\n",
    "    \n",
    "    return theta, J_history"
   ]
  },
  {
   "cell_type": "code",
   "execution_count": 98,
   "metadata": {},
   "outputs": [
    {
     "name": "stdout",
     "output_type": "stream",
     "text": [
      "[337161.04 15774.68 -5379.42]\n",
      "2722875012.028507\n",
      "Prediction :  331341.0987021858\n"
     ]
    },
    {
     "data": {
      "image/png": "[encoded data removed]",
      "text/plain": [
       "<Figure size 432x288 with 1 Axes>"
      ]
     },
     "metadata": {
      "needs_background": "light"
     },
     "output_type": "display_data"
    }
   ],
   "source": [
    "theta = np.zeros(3)\n",
    "theta, J_history = complete_fit(X, y, theta, alpha=0.01, num_iters=10000,regularization=\"L2\",\n",
    "                                lbda=0.01, gradient_descent=\"stochastic\", batch_size=16)\n",
    "print(theta)\n",
    "fit = plt.figure()\n",
    "ax = plt.axes()\n",
    "ax.plot(J_history)\n",
    "print(J_history[-1])\n",
    "\n",
    "X_test = (np.array([1650,3]) - mean) / stdev\n",
    "X_test = np.hstack([1,X_test])\n",
    "print(\"Prediction : \",predict(X_test, theta))"
   ]
  },
  {
   "cell_type": "code",
   "execution_count": 99,
   "metadata": {},
   "outputs": [
    {
     "name": "stdout",
     "output_type": "stream",
     "text": [
      "[333311.01 14943.86 -4459.83]\n",
      "2365295398530.7993\n",
      "Prediction :  327653.7272102642\n"
     ]
    },
    {
     "data": {
      "image/png": "[encoded data removed]",
      "text/plain": [
       "<Figure size 432x288 with 1 Axes>"
      ]
     },
     "metadata": {
      "needs_background": "light"
     },
     "output_type": "display_data"
    }
   ],
   "source": [
    "theta = np.zeros(3)\n",
    "theta, J_history = complete_fit(X, y, theta, alpha=0.01, num_iters=5000,regularization=\"L2\",\n",
    "                                lbda=0.01, gradient_descent=\"mini_batch\", batch_size=16)\n",
    "print(theta)\n",
    "fit = plt.figure()\n",
    "ax = plt.axes()\n",
    "ax.plot(J_history)\n",
    "print(J_history[-1])\n",
    "\n",
    "X_test = (np.array([1650,3]) - mean) / stdev\n",
    "X_test = np.hstack([1,X_test])\n",
    "print(\"Prediction : \",predict(X_test, theta))"
   ]
  },
  {
   "cell_type": "code",
   "execution_count": 100,
   "metadata": {},
   "outputs": [
    {
     "name": "stdout",
     "output_type": "stream",
     "text": [
      "[340397.96 16931.95 -6418.40]\n",
      "16670278312241.545\n",
      "Prediction :  334296.72721683595\n"
     ]
    },
    {
     "data": {
      "image/png": "[encoded data removed]",
      "text/plain": [
       "<Figure size 432x288 with 1 Axes>"
      ]
     },
     "metadata": {
      "needs_background": "light"
     },
     "output_type": "display_data"
    }
   ],
   "source": [
    "theta = np.zeros(3)\n",
    "theta, J_history = complete_fit(X, y, theta, alpha=0.01, num_iters=1000,regularization=\"L2\",\n",
    "                                lbda=0.01, gradient_descent=\"batch\", batch_size=16)\n",
    "print(theta)\n",
    "fit = plt.figure()\n",
    "ax = plt.axes()\n",
    "ax.plot(J_history)\n",
    "print(J_history[-1])\n",
    "\n",
    "X_test = (np.array([1650,3]) - mean) / stdev\n",
    "X_test = np.hstack([1,X_test])\n",
    "print(\"Prediction : \",predict(X_test, theta))"
   ]
  },
  {
   "cell_type": "code",
   "execution_count": null,
   "metadata": {},
   "outputs": [],
   "source": []
  }
 ],
 "metadata": {
  "colab": {
   "name": "Semaine3-exercices.ipynb",
   "provenance": [],
   "version": "0.3.2"
  },
  "kernelspec": {
   "display_name": "Python 3",
   "language": "python",
   "name": "python3"
  },
  "language_info": {
   "codemirror_mode": {
    "name": "ipython",
    "version": 3
   },
   "file_extension": ".py",
   "mimetype": "text/x-python",
   "name": "python",
   "nbconvert_exporter": "python",
   "pygments_lexer": "ipython3",
   "version": "3.7.3"
  }
 },
 "nbformat": 4,
 "nbformat_minor": 1
}
